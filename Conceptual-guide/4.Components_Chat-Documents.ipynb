{
 "cells": [
  {
   "cell_type": "markdown",
   "metadata": {},
   "source": [
    "# Documents\n",
    "A Document object in LangChain contains information about some data. It has two attributes:\n",
    "\n",
    "page_content: str: The content of this document. Currently is only a string.\n",
    "metadata: dict: Arbitrary metadata associated with this document. Can track the document id, file name, etc."
   ]
  }
 ],
 "metadata": {
  "language_info": {
   "name": "python"
  }
 },
 "nbformat": 4,
 "nbformat_minor": 2
}
