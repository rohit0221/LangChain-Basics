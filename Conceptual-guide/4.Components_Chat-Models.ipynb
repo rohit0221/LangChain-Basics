{
 "cells": [
  {
   "cell_type": "markdown",
   "metadata": {},
   "source": [
    "# Chat models\n",
    "\n",
    "Language models that use a sequence of messages as inputs and return chat messages as outputs (as opposed to using plain text).\n",
    "\n",
    "Documentation:\n",
    "\n",
    "https://python.langchain.com/v0.2/docs/concepts/#chat-models\n",
    "\n",
    "How to:\n",
    "\n",
    "ChatModels: https://python.langchain.com/v0.2/docs/how_to/#chat-models\n",
    "\n",
    "Tool Calling:\n",
    "https://python.langchain.com/v0.2/docs/concepts/#functiontool-calling\n",
    "\n",
    "https://python.langchain.com/v0.2/docs/how_to/tool_calling/\n",
    "\n",
    "\n",
    "https://python.langchain.com/v0.2/docs/how_to/#multimodal\n"
   ]
  },
  {
   "cell_type": "markdown",
   "metadata": {},
   "source": []
  }
 ],
 "metadata": {
  "language_info": {
   "name": "python"
  }
 },
 "nbformat": 4,
 "nbformat_minor": 2
}
