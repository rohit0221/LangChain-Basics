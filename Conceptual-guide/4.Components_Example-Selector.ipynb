{
 "cells": [
  {
   "cell_type": "markdown",
   "metadata": {},
   "source": [
    "# Example Selector:\n",
    "\n",
    "One common prompting technique for achieving better performance is to include examples as part of the prompt. This gives the language model concrete examples of how it should behave. Sometimes these examples are hardcoded into the prompt, but for more advanced situations it may be nice to dynamically select them. Example Selectors are classes responsible for selecting and then formatting examples into prompts.\n",
    "\n",
    "Documentation:\n",
    "\n",
    "https://python.langchain.com/v0.2/docs/concepts/#example-selectors\n",
    "\n",
    "How to guide:\n",
    "\n",
    "https://python.langchain.com/v0.2/docs/how_to/#example-selectors"
   ]
  },
  {
   "cell_type": "code",
   "execution_count": null,
   "metadata": {},
   "outputs": [],
   "source": []
  }
 ],
 "metadata": {
  "language_info": {
   "name": "python"
  }
 },
 "nbformat": 4,
 "nbformat_minor": 2
}
