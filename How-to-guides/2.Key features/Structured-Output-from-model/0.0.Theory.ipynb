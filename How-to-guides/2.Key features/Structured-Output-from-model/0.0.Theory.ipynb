{
 "cells": [
  {
   "cell_type": "markdown",
   "metadata": {},
   "source": [
    "# Important Note:\n",
    "\n",
    "There is some information around extraction in a structured manner in section:\n",
    "\n",
    "How-to-guides/5.Use Cases/2.Extraction"
   ]
  },
  {
   "cell_type": "markdown",
   "metadata": {},
   "source": []
  }
 ],
 "metadata": {
  "language_info": {
   "name": "python"
  }
 },
 "nbformat": 4,
 "nbformat_minor": 2
}
