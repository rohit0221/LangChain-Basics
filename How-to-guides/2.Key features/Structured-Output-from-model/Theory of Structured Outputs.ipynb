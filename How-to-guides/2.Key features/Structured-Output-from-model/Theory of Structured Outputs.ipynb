{
 "cells": [
  {
   "cell_type": "markdown",
   "metadata": {},
   "source": [
    "# For Models having support of structured information\n",
    "\n",
    "\n",
    "### Some model providers support to get structured information instead of just plain text!\n",
    "\n",
    "This is done using using a structured_llm built using .with_structured_output() method\n",
    "\n",
    "\n",
    "This is the easiest and most reliable way to get structured outputs. with_structured_output() is implemented for models \n",
    "that provide native APIs for structuring outputs, like tool/function calling or JSON mode, \n",
    "and makes use of these capabilities under the hood.\n",
    "\n",
    "This method takes a schema as input which specifies the names, types, and descriptions of the desired output attributes. \n",
    "\n",
    "The method returns a model-like Runnable, except that instead of outputting strings or Messages it outputs objects corresponding to the given schema. \n",
    "\n",
    "The schema can be specified as a TypedDict class, JSON Schema or a Pydantic class. \n",
    "\n",
    "If TypedDict or JSON Schema are used then a dictionary will be returned by the Runnable, and if a Pydantic class is used then a Pydantic object will be returned.\n",
    "\n",
    "\n",
    "\n",
    "Details of How to return structured data from a model\n",
    "\n",
    "https://python.langchain.com/v0.2/docs/how_to/structured_output/\n",
    "\n",
    "\n",
    "\n",
    "You can find a list of models that support this method here.\n",
    "\n",
    "https://python.langchain.com/v0.2/docs/integrations/chat/"
   ]
  },
  {
   "cell_type": "markdown",
   "metadata": {},
   "source": [
    "\n",
    "\n",
    "# For Models NOT having support of structured information\n",
    "\n",
    "While some model providers support built-in ways to return structured output, not all do.\n",
    "\n",
    "Details of How to return structured data from a models NOT having support of .with_structured_output() method\n",
    "https://python.langchain.com/v0.2/docs/how_to/output_parser_structured/\n",
    "\n",
    "\n",
    "\n",
    "\n",
    "Output parsers are classes that help structure language model responses. There are two main methods an output parser must implement:\n",
    "\n",
    "* \"**Get format instructions**\": A method which returns a string containing instructions for how the output of a language model should be formatted.\n",
    "* \"**Parse**\": A method which takes in a string (assumed to be the response from a language model) and parses it into some structure.\n",
    "\n",
    "And then one optional one:\n",
    "\n",
    "* \"**Parse with prompt**\": A method which takes in a string (assumed to be the response from a language model) and a prompt (assumed to be the prompt that generated such a response) and parses it into some structure. The prompt is largely provided in the event the OutputParser wants to retry or fix the output in some way, and needs information from the prompt to do so.\n",
    "\n",
    "\n",
    "\n",
    "\n",
    "# For Output Parsers refer to the notebooks in \n",
    "\n",
    "How to > Components > Output Parsers\n"
   ]
  },
  {
   "cell_type": "markdown",
   "metadata": {},
   "source": []
  }
 ],
 "metadata": {
  "language_info": {
   "name": "python"
  }
 },
 "nbformat": 4,
 "nbformat_minor": 2
}
