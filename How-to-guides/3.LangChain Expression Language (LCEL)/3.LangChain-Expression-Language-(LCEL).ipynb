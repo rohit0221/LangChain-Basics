{
 "cells": [
  {
   "cell_type": "markdown",
   "metadata": {},
   "source": [
    "# LangChain Expression Language (LCEL)\n",
    "\n",
    "Conceptual Guide:\n",
    "\n",
    "https://python.langchain.com/v0.2/docs/concepts/#langchain-expression-language-lcel\n",
    "\n",
    "How to Guide:\n",
    "\n",
    "https://python.langchain.com/v0.2/docs/how_to/#langchain-expression-language-lcel\n",
    "\n",
    "\n",
    "LCEL CheatSheet:\n",
    "\n",
    "https://python.langchain.com/v0.2/docs/how_to/lcel_cheatsheet/\n"
   ]
  },
  {
   "cell_type": "markdown",
   "metadata": {},
   "source": [
    "### How to chain runnables\n",
    "\n",
    "\n",
    "One point about LangChain Expression Language is that any two runnables can be \"chained\" together into sequences. The output of the previous runnable's .invoke() call is passed as input to the next runnable. This can be done using the pipe operator (|), or the more explicit .pipe() method, which does the same thing.\n",
    "\n",
    "\n",
    "The resulting RunnableSequence is itself a runnable, which means it can be invoked, streamed, or further chained just like any other runnable. Advantages of chaining runnables in this way are efficient streaming (the sequence will stream output as soon as it is available), and debugging and tracing with tools like LangSmith."
   ]
  },
  {
   "cell_type": "markdown",
   "metadata": {},
   "source": []
  }
 ],
 "metadata": {
  "language_info": {
   "name": "python"
  }
 },
 "nbformat": 4,
 "nbformat_minor": 2
}
