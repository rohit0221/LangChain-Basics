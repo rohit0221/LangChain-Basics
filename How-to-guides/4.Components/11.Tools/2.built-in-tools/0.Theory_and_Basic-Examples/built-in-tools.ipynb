{
 "cells": [
  {
   "cell_type": "code",
   "execution_count": 1,
   "metadata": {},
   "outputs": [
    {
     "data": {
      "text/plain": [
       "True"
      ]
     },
     "execution_count": 1,
     "metadata": {},
     "output_type": "execute_result"
    }
   ],
   "source": [
    "import os\n",
    "from dotenv import load_dotenv\n",
    "load_dotenv()"
   ]
  },
  {
   "cell_type": "code",
   "execution_count": 13,
   "metadata": {},
   "outputs": [
    {
     "name": "stdout",
     "output_type": "stream",
     "text": [
      "Page: LangChain\n",
      "Summary: LangChain is a framework designed to simplify the creation of applications \n"
     ]
    }
   ],
   "source": [
    "from langchain_community.tools import WikipediaQueryRun\n",
    "from langchain_community.utilities import WikipediaAPIWrapper\n",
    "\n",
    "wrapper = WikipediaAPIWrapper(top_k_results=1, doc_content_chars_max=100)\n",
    "tool = WikipediaQueryRun(api_wrapper=wrapper)\n",
    "\n",
    "print(tool.invoke({\"query\": \"langchain\"}))"
   ]
  },
  {
   "cell_type": "code",
   "execution_count": 14,
   "metadata": {},
   "outputs": [
    {
     "name": "stdout",
     "output_type": "stream",
     "text": [
      "Name: wikipedia\n",
      "Description: A wrapper around Wikipedia. Useful for when you need to answer general questions about people, places, companies, facts, historical events, or other subjects. Input should be a search query.\n",
      "args schema: {'query': {'title': 'Query', 'type': 'string'}}\n",
      "returns directly?: False\n"
     ]
    }
   ],
   "source": [
    "print(f\"Name: {tool.name}\")\n",
    "print(f\"Description: {tool.description}\")\n",
    "print(f\"args schema: {tool.args}\")\n",
    "print(f\"returns directly?: {tool.return_direct}\")"
   ]
  },
  {
   "cell_type": "code",
   "execution_count": 11,
   "metadata": {},
   "outputs": [],
   "source": [
    "from langchain_core.tools import tool\n",
    "@tool\n",
    "def WikipediaAPIWrapperTool(query:str): \n",
    "    \"\"\"Tool to perform wiki search\"\"\"\n",
    "    wrapper = WikipediaAPIWrapper(top_k_results=1, doc_content_chars_max=100)\n",
    "    tool = WikipediaQueryRun(api_wrapper=wrapper)\n",
    "    return tool.invoke(query)\n"
   ]
  },
  {
   "cell_type": "code",
   "execution_count": 5,
   "metadata": {},
   "outputs": [],
   "source": [
    "from langchain_openai import ChatOpenAI\n",
    "\n",
    "tools = [WikipediaAPIWrapperTool]\n",
    "\n",
    "llm = ChatOpenAI(model=\"gpt-4o-mini\")\n",
    "llm_with_tools = llm.bind_tools(tools)"
   ]
  },
  {
   "cell_type": "code",
   "execution_count": 6,
   "metadata": {},
   "outputs": [
    {
     "name": "stderr",
     "output_type": "stream",
     "text": [
      "c:\\Code\\Github\\LangChain-Basics\\venv\\lib\\site-packages\\langchain\\hub.py:86: DeprecationWarning: The `langchainhub sdk` is deprecated.\n",
      "Please use the `langsmith sdk` instead:\n",
      "  pip install langsmith\n",
      "Use the `pull_prompt` method.\n",
      "  res_dict = client.pull_repo(owner_repo_commit)\n"
     ]
    }
   ],
   "source": [
    "from langchain import hub\n",
    "from langchain.agents import create_tool_calling_agent\n",
    "\n",
    "# Get the prompt to use - you can modify this!\n",
    "prompt = hub.pull(\"hwchase17/openai-functions-agent\")\n",
    "prompt.messages\n",
    "\n",
    "agent = create_tool_calling_agent(llm, tools, prompt)"
   ]
  },
  {
   "cell_type": "code",
   "execution_count": 7,
   "metadata": {},
   "outputs": [],
   "source": [
    "from langchain.agents import AgentExecutor\n",
    "agent_executor = AgentExecutor(agent=agent, tools=tools, verbose=True)"
   ]
  },
  {
   "cell_type": "code",
   "execution_count": 8,
   "metadata": {},
   "outputs": [
    {
     "name": "stdout",
     "output_type": "stream",
     "text": [
      "\n",
      "\n",
      "\u001b[1m> Entering new AgentExecutor chain...\u001b[0m\n",
      "\u001b[32;1m\u001b[1;3m\n",
      "Invoking: `WikipediaAPIWrapperTool` with `{'query': 'LangChain'}`\n",
      "\n",
      "\n",
      "\u001b[0m\u001b[36;1m\u001b[1;3mPage: LangChain\n",
      "Summary: LangChain is a framework designed to simplify the creation of applications \u001b[0m\u001b[32;1m\u001b[1;3m\n",
      "Invoking: `WikipediaAPIWrapperTool` with `{'query': 'LangGraph'}`\n",
      "\n",
      "\n",
      "\u001b[0m\u001b[36;1m\u001b[1;3mPage: LangChain\n",
      "Summary: LangChain is a framework designed to simplify the creation of applications \u001b[0m\u001b[32;1m\u001b[1;3m### LangChain\n",
      "LangChain is a framework designed to simplify the creation of applications that utilize language models. It provides tools and components that help developers build complex applications more easily, focusing on tasks such as natural language processing, conversational agents, and other AI-related functionalities.\n",
      "\n",
      "### LangGraph\n",
      "I couldn't find specific information on \"LangGraph\" in my search. It might be a less well-known term or concept, or it may refer to something that hasn't been widely documented. If you have any specific context or details about LangGraph, I could help you better understand it or look for related information.\u001b[0m\n",
      "\n",
      "\u001b[1m> Finished chain.\u001b[0m\n"
     ]
    },
    {
     "data": {
      "text/plain": [
       "{'input': 'Tell me about langchain and langgraph',\n",
       " 'output': '### LangChain\\nLangChain is a framework designed to simplify the creation of applications that utilize language models. It provides tools and components that help developers build complex applications more easily, focusing on tasks such as natural language processing, conversational agents, and other AI-related functionalities.\\n\\n### LangGraph\\nI couldn\\'t find specific information on \"LangGraph\" in my search. It might be a less well-known term or concept, or it may refer to something that hasn\\'t been widely documented. If you have any specific context or details about LangGraph, I could help you better understand it or look for related information.'}"
      ]
     },
     "execution_count": 8,
     "metadata": {},
     "output_type": "execute_result"
    }
   ],
   "source": [
    "query = \"Tell me about langchain and langgraph\"\n",
    "\n",
    "\n",
    "# response = agent_executor.invoke(query)\n",
    "\n",
    "agent_executor.invoke({\"input\": query})"
   ]
  },
  {
   "cell_type": "code",
   "execution_count": null,
   "metadata": {},
   "outputs": [],
   "source": []
  },
  {
   "cell_type": "code",
   "execution_count": null,
   "metadata": {},
   "outputs": [],
   "source": []
  }
 ],
 "metadata": {
  "kernelspec": {
   "display_name": "venv",
   "language": "python",
   "name": "python3"
  },
  "language_info": {
   "codemirror_mode": {
    "name": "ipython",
    "version": 3
   },
   "file_extension": ".py",
   "mimetype": "text/x-python",
   "name": "python",
   "nbconvert_exporter": "python",
   "pygments_lexer": "ipython3",
   "version": "3.10.0"
  }
 },
 "nbformat": 4,
 "nbformat_minor": 2
}
