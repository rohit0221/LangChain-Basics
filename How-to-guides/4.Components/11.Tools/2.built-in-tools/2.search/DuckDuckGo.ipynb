{
 "cells": [
  {
   "cell_type": "code",
   "execution_count": 1,
   "metadata": {},
   "outputs": [
    {
     "data": {
      "text/plain": [
       "True"
      ]
     },
     "execution_count": 1,
     "metadata": {},
     "output_type": "execute_result"
    }
   ],
   "source": [
    "import os\n",
    "from dotenv import load_dotenv\n",
    "load_dotenv()"
   ]
  },
  {
   "cell_type": "code",
   "execution_count": 2,
   "metadata": {},
   "outputs": [
    {
     "data": {
      "text/plain": [
       "\"[snippet: Watch: Former President Obama bashes Trump, makes case for Harris, calls for unity in DNC speech 36:56. Former President Barack Obama took the stage to deliver Tuesday's keynote address on the ..., title: Watch: Barack Obama's full speech at the 2024 DNC, link: https://www.cbsnews.com/news/watch-barack-obamas-full-speech-2024-dnc-transcript/], [snippet: Barack Obama (born August 4, 1961, Honolulu, Hawaii, U.S.) is the 44th president of the United States (2009-17) and the first African American to hold the office. Before winning the presidency, Obama represented Illinois in the U.S. Senate (2005-08). He was the third African American to be elected to that body since the end of ..., title: Barack Obama | Biography, Parents, Education, Presidency, Books ..., link: https://www.britannica.com/biography/Barack-Obama], [snippet: Mrs. Obama, a reluctant campaigner, enthralled a packed arena in Chicago with a convention appearance that lent firepower to Vice President Kamala Harris's presidential campaign. She offered ..., title: Michelle Obama's Speech Turns Trump's 'Black Jobs' Line Against Him, link: https://www.nytimes.com/2024/08/21/us/politics/michelle-obama-dnc-speech.html], [snippet: In this split image, former First Lady Michelle Obama and talk show host Oprah Winfrey speak on stage during Day 2 and Day 3 of the Democratic National Convention on Aug. 20 and 21, 2024 in Chicago., title: Michelle Obama, Oprah set the stage for Kamala Harris as she accepts ..., link: https://abcnews.go.com/Politics/michelle-obama-oprah-set-stage-kamala-harris-accepts/story?id=113073452]\""
      ]
     },
     "execution_count": 2,
     "metadata": {},
     "output_type": "execute_result"
    }
   ],
   "source": [
    "# DuckDuckGoSearchResuts \n",
    "\n",
    "from langchain_community.tools import DuckDuckGoSearchResults\n",
    "\n",
    "search = DuckDuckGoSearchResults()\n",
    "\n",
    "search.invoke(\"Obama\")"
   ]
  },
  {
   "cell_type": "code",
   "execution_count": 3,
   "metadata": {},
   "outputs": [
    {
     "data": {
      "text/plain": [
       "'[snippet: Former President Barack Obama \\'s hand gesture as he spoke about Donald Trump \\'s \"obsession with crowd sizes\" has sparked a large reaction from Democrats online. During his speech at the Democratic National Convention in Chicago, Obama took aim at the Republican presidential nominee., title: Barack Obama\\'s Joke About Trump\\'s \\'Crowd Sizes\\' Takes Internet by Storm, link: https://www.msn.com/en-us/news/politics/barack-obamas-joke-about-trumps-crowd-sizes-takes-internet-by-storm/ar-AA1pa0rU, date: 2024-08-21T15:06:00+00:00, source: Newsweek on MSN.com], [snippet: So said former President Barack Obama after his wife electrified the Democratic National Convention. The delegates loved him, but they really loved her., title: \\'I Am the Only Person Stupid Enough to Speak After Michelle Obama\\', link: https://www.nytimes.com/2024/08/21/us/politics/obamas-convention.html, date: 2024-08-21T15:45:00+00:00, source: The New York Times], [snippet: The former first lady took the stage to deliver a stinging rebuke of Donald Trump during the second night of the DNC., title: Michelle Obama Delivers Fiery Warning to Democrats During DNC Speech, link: https://www.msn.com/en-us/news/politics/michelle-obama-delivers-fiery-warning-to-democrats-during-dnc-speech/ar-AA1p9GS6, date: 2024-08-21T13:02:00+00:00, source: Newsweek on MSN.com], [snippet: Twenty years ago, a young Illinois state senator took to the Democratic National Convention stage in Boston and delivered a speech that would help catapult him to the top of the presidential ticket four years later., title: Former President Obama spoke at DNC as an elder statesman. In 2004, his speech launched him toward the White House, link: https://www.msn.com/en-us/news/politics/former-president-obama-spoke-at-dnc-as-an-elder-statesman-in-2004-his-speech-launched-him-toward-the-white-house/ar-AA1pfz83, date: 2024-08-22T12:45:00+00:00, source: Tribune News Service on MSN.com]'"
      ]
     },
     "execution_count": 3,
     "metadata": {},
     "output_type": "execute_result"
    }
   ],
   "source": [
    "\n",
    "search = DuckDuckGoSearchResults(backend=\"news\")\n",
    "\n",
    "search.invoke(\"Obama\")"
   ]
  },
  {
   "cell_type": "code",
   "execution_count": 4,
   "metadata": {},
   "outputs": [
    {
     "data": {
      "text/plain": [
       "'[snippet: Obama\\'s take on the electoral process as a good faith disagreement between people with shared values — still the core of his Tuesday speech — also became a much harder sell amid Trump\\'s in-your-face politics. Democrats struggled to see that red-hatted friend, relative, or neighbor as a fellow American with different views rather than, at best, complicit in a toxic conspiracy to dismantle their country\\'s most cherished institutions. ..., title: Harris caps Democratic convention\\'s return to Obamaism - Yahoo News, link: https://news.yahoo.com/news/kamala-harris-caps-democratic-convention-042642016.html], [snippet: The Democratic National Convention wrapped with its main event Thursday night in Chicago: a historic keynote address from Vice President Kamala Harris, who became the first woman of color to be a ..., title: The Obamas, Oprah and Gus Walz: Highlights From the 2024 Democratic ..., link: https://www.usnews.com/news/politics/articles/2024-08-23/the-obamas-oprah-and-gus-walz-highlights-from-the-2024-democratic-national-convention], [snippet: NPR\\'s Steve Inskeep talks to former NPR host Michele Norris, who writes in a recent column for \"The Washington Post,\" about Michelle Obama\\'s speech at the Democratic National Convention., title: Snippets of Michelle Obama\\'s DNC remarks are still circulating ... | NPR, link: https://www.npr.org/2024/08/23/nx-s1-5086516/snippets-of-michelle-obamas-dnc-remarks-are-still-circulating-widely-online], [snippet: Former first lady Michelle Obama greets her husband, former President Barack Obama, on stage during Day 2 of the Democratic National Convention (DNC) in Chicago on Aug. 20, 2024. The Obamas warn ..., title: Five takeaways from the Democratic National Convention, link: https://www.csmonitor.com/USA/Politics/2024/0823/kamala-harris-dnc-takeaways-abortion-emhoff-obama]'"
      ]
     },
     "execution_count": 4,
     "metadata": {},
     "output_type": "execute_result"
    }
   ],
   "source": [
    "from langchain_community.utilities import DuckDuckGoSearchAPIWrapper\n",
    "\n",
    "wrapper = DuckDuckGoSearchAPIWrapper(backend=\"api\",region=\"in-en\", time=\"d\", max_results=2)\n",
    "\n",
    "search = DuckDuckGoSearchResults(api_wrapper=wrapper, source=\"news\")\n",
    "\n",
    "search.invoke(\"Obama\")"
   ]
  },
  {
   "cell_type": "code",
   "execution_count": 5,
   "metadata": {},
   "outputs": [],
   "source": [
    "from langchain_core.tools import tool\n",
    "@tool\n",
    "def DuckDuckGoSearchAPIWrapperTool(query:str): \n",
    "    \"\"\"Tool to perform internet search  using DuckDuckGo search browser\"\"\"\n",
    "    wrapper = DuckDuckGoSearchAPIWrapper(backend=\"api\",region=\"in-en\", time=\"d\", max_results=2)\n",
    "    search = DuckDuckGoSearchResults(api_wrapper=wrapper, source=\"news\")\n",
    "    return search.invoke(query)\n"
   ]
  },
  {
   "cell_type": "code",
   "execution_count": 6,
   "metadata": {},
   "outputs": [],
   "source": [
    "from langchain_openai import ChatOpenAI\n",
    "\n",
    "tools = [DuckDuckGoSearchAPIWrapperTool]\n",
    "\n",
    "llm = ChatOpenAI(model=\"gpt-4o-mini\")\n",
    "llm_with_tools = llm.bind_tools(tools)"
   ]
  },
  {
   "cell_type": "code",
   "execution_count": 7,
   "metadata": {},
   "outputs": [
    {
     "name": "stderr",
     "output_type": "stream",
     "text": [
      "c:\\Code\\Github\\LangChain-Basics\\venv\\lib\\site-packages\\langchain\\hub.py:86: DeprecationWarning: The `langchainhub sdk` is deprecated.\n",
      "Please use the `langsmith sdk` instead:\n",
      "  pip install langsmith\n",
      "Use the `pull_prompt` method.\n",
      "  res_dict = client.pull_repo(owner_repo_commit)\n"
     ]
    }
   ],
   "source": [
    "from langchain import hub\n",
    "from langchain.agents import create_tool_calling_agent\n",
    "\n",
    "# Get the prompt to use - you can modify this!\n",
    "prompt = hub.pull(\"hwchase17/openai-functions-agent\")\n",
    "prompt.messages\n",
    "\n",
    "agent = create_tool_calling_agent(llm, tools, prompt)"
   ]
  },
  {
   "cell_type": "code",
   "execution_count": 8,
   "metadata": {},
   "outputs": [],
   "source": [
    "from langchain.agents import AgentExecutor\n",
    "agent_executor = AgentExecutor(agent=agent, tools=tools, verbose=True)"
   ]
  },
  {
   "cell_type": "code",
   "execution_count": 9,
   "metadata": {},
   "outputs": [
    {
     "name": "stdout",
     "output_type": "stream",
     "text": [
      "\n",
      "\n",
      "\u001b[1m> Entering new AgentExecutor chain...\u001b[0m\n",
      "\u001b[32;1m\u001b[1;3m\n",
      "Invoking: `DuckDuckGoSearchAPIWrapperTool` with `{'query': 'latest news'}`\n",
      "\n",
      "\n",
      "\u001b[0m\u001b[36;1m\u001b[1;3m[snippet: Suhasini Raj contributed reporting from New Delhi. Andrew E. Kramer is the Kyiv bureau chief for The Times, who has been covering the war in Ukraine since 2014. More about Andrew E. Kramer, title: Modi Arrives in Kyiv as Ukraine Pushes Diplomacy - The New York Times, link: https://www.nytimes.com/2024/08/23/world/europe/ukraine-modi-india.html], [snippet: Latest News. Splitsvilla X5's Kashish Kapoor lodges a case against cyber bullying and trolling amid the Rs 10 lakh controversy; says, \"Enough is enough ..., title: Thane School Case Live: Atrocities against girls, women increasing in ..., link: https://timesofindia.indiatimes.com/city/mumbai/maharashtra-badlapur-thane-school-girls-molestation-incident-news-live-maharashtra-protests-against-child-safety-latest-updates/liveblog/112724942.cms], [snippet: India TV News provides you with all the breaking news, latest news, breaking story videos, and Live TV on a single platform to ensure you don't miss the biggest happenings in India and the world., title: Breaking News, August 23 | LIVE Updates - India TV, link: https://www.indiatvnews.com/news/india/breaking-news-august-23-live-updates-pm-modi-ukraine-visit-kolkata-doctor-case-badlapur-school-case-rape-case-in-india-per-day-delhi-excise-policy-cas-948255], [snippet: The Delhi police on Thursday busted an Al-Qaeda module, arresting 11 people and detaining three others across Jharkhand, Rajasthan, and Uttar Pradesh. | Latest News India, title: Al-Qaeda module busted: Terror group wanted to unleash 'khilafat'; full ..., link: https://www.hindustantimes.com/india-news/alqaeda-module-busted-terror-group-wanted-to-unleash-khilafat-full-details-101724374548471.html]\u001b[0m\u001b[32;1m\u001b[1;3mHere are some of the latest news highlights:\n",
      "\n",
      "1. **Modi in Ukraine**: Indian Prime Minister Narendra Modi has arrived in Kyiv as Ukraine continues its diplomatic efforts amidst ongoing conflicts. [Read more](https://www.nytimes.com/2024/08/23/world/europe/ukraine-modi-india.html)\n",
      "\n",
      "2. **Cyber Bullying Case**: Kashish Kapoor from Splitsvilla X5 has lodged a case against cyberbullying and trolling amid a controversy involving Rs 10 lakh. [Read more](https://timesofindia.indiatimes.com/city/mumbai/maharashtra-badlapur-thane-school-girls-molestation-incident-news-live-maharashtra-protests-against-child-safety-latest-updates/liveblog/112724942.cms)\n",
      "\n",
      "3. **Delhi Police Bust Al-Qaeda Module**: The Delhi police have arrested 11 individuals and detained three others connected to an Al-Qaeda module, which reportedly aimed to unleash a 'khilafat'. [Read more](https://www.hindustantimes.com/india-news/alqaeda-module-busted-terror-group-wanted-to-unleash-khilafat-full-details-101724374548471.html)\n",
      "\n",
      "4. **Live Updates on Various Issues**: India TV News is providing live updates on various ongoing issues, including the Kolkata doctor case and protests against child safety following a recent incident in Badlapur. [Read more](https://www.indiatvnews.com/news/india/breaking-news-august-23-live-updates-pm-modi-ukraine-visit-kolkata-doctor-case-badlapur-school-case-rape-case-in-india-per-day-delhi-excise-policy-cas-948255)\n",
      "\n",
      "These stories touch on significant political, social, and security issues currently unfolding.\u001b[0m\n",
      "\n",
      "\u001b[1m> Finished chain.\u001b[0m\n"
     ]
    },
    {
     "data": {
      "text/plain": [
       "{'input': 'Tell me latest hot news?',\n",
       " 'output': \"Here are some of the latest news highlights:\\n\\n1. **Modi in Ukraine**: Indian Prime Minister Narendra Modi has arrived in Kyiv as Ukraine continues its diplomatic efforts amidst ongoing conflicts. [Read more](https://www.nytimes.com/2024/08/23/world/europe/ukraine-modi-india.html)\\n\\n2. **Cyber Bullying Case**: Kashish Kapoor from Splitsvilla X5 has lodged a case against cyberbullying and trolling amid a controversy involving Rs 10 lakh. [Read more](https://timesofindia.indiatimes.com/city/mumbai/maharashtra-badlapur-thane-school-girls-molestation-incident-news-live-maharashtra-protests-against-child-safety-latest-updates/liveblog/112724942.cms)\\n\\n3. **Delhi Police Bust Al-Qaeda Module**: The Delhi police have arrested 11 individuals and detained three others connected to an Al-Qaeda module, which reportedly aimed to unleash a 'khilafat'. [Read more](https://www.hindustantimes.com/india-news/alqaeda-module-busted-terror-group-wanted-to-unleash-khilafat-full-details-101724374548471.html)\\n\\n4. **Live Updates on Various Issues**: India TV News is providing live updates on various ongoing issues, including the Kolkata doctor case and protests against child safety following a recent incident in Badlapur. [Read more](https://www.indiatvnews.com/news/india/breaking-news-august-23-live-updates-pm-modi-ukraine-visit-kolkata-doctor-case-badlapur-school-case-rape-case-in-india-per-day-delhi-excise-policy-cas-948255)\\n\\nThese stories touch on significant political, social, and security issues currently unfolding.\"}"
      ]
     },
     "execution_count": 9,
     "metadata": {},
     "output_type": "execute_result"
    }
   ],
   "source": [
    "# query = \"What is the current exchange rate from USD to JPY?\"\n",
    "\n",
    "# query = \"get time series weekly data for Tesla?\"\n",
    "\n",
    "# query = \"get daily  data for Tesla?\"\n",
    "\n",
    "# query = \"get quote for Tesla?\"\n",
    "\n",
    "query = \"Tell me latest hot news?\"\n",
    "\n",
    "\n",
    "# response = agent_executor.invoke(query)\n",
    "\n",
    "agent_executor.invoke({\"input\": query})\n"
   ]
  },
  {
   "cell_type": "code",
   "execution_count": null,
   "metadata": {},
   "outputs": [],
   "source": []
  }
 ],
 "metadata": {
  "kernelspec": {
   "display_name": "Python 3",
   "language": "python",
   "name": "python3"
  },
  "language_info": {
   "codemirror_mode": {
    "name": "ipython",
    "version": 3
   },
   "file_extension": ".py",
   "mimetype": "text/x-python",
   "name": "python",
   "nbconvert_exporter": "python",
   "pygments_lexer": "ipython3",
   "version": "3.10.0"
  }
 },
 "nbformat": 4,
 "nbformat_minor": 2
}
