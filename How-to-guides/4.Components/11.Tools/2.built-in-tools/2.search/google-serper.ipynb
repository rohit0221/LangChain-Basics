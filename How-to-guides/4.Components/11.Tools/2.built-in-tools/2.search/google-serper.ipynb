{
 "cells": [
  {
   "cell_type": "code",
   "execution_count": 1,
   "metadata": {},
   "outputs": [
    {
     "data": {
      "text/plain": [
       "True"
      ]
     },
     "execution_count": 1,
     "metadata": {},
     "output_type": "execute_result"
    }
   ],
   "source": [
    "import os\n",
    "from dotenv import load_dotenv\n",
    "load_dotenv()"
   ]
  },
  {
   "cell_type": "code",
   "execution_count": 2,
   "metadata": {},
   "outputs": [
    {
     "data": {
      "text/plain": [
       "'Barack Hussein Obama II (born August 4, 1961) is an American politician who served as the 44th president of the United States from 2009 to 2017.'"
      ]
     },
     "execution_count": 2,
     "metadata": {},
     "output_type": "execute_result"
    }
   ],
   "source": [
    "from langchain_community.utilities import GoogleSerperAPIWrapper\n",
    "search = GoogleSerperAPIWrapper()\n",
    "search.run(\"Obama's first name?\")"
   ]
  },
  {
   "cell_type": "code",
   "execution_count": 3,
   "metadata": {},
   "outputs": [],
   "source": [
    "from langchain_community.tools import GoogleSerperResults\n",
    "wrapper = GoogleSerperAPIWrapper(backend=\"api\",region=\"in-en\", time=\"d\", max_results=2)\n",
    "\n",
    "search = GoogleSerperResults(api_wrapper=wrapper, type=\"news\")\n"
   ]
  },
  {
   "cell_type": "code",
   "execution_count": 4,
   "metadata": {},
   "outputs": [
    {
     "data": {
      "text/plain": [
       "'{\\'searchParameters\\': {\\'q\\': \"Obama\\'s first name?\", \\'gl\\': \\'us\\', \\'hl\\': \\'en\\', \\'type\\': \\'search\\', \\'num\\': 10, \\'engine\\': \\'google\\'}, \\'answerBox\\': {\\'snippet\\': \\'Barack Hussein Obama II (born August 4, 1961) is an American politician who served as the 44th president of the United States from 2009 to 2017.\\', \\'title\\': \\'Barack Obama - Wikipedia\\', \\'link\\': \\'https://en.wikipedia.org/wiki/Barack_Obama\\'}, \\'organic\\': [{\\'title\\': \\'[PDF] birth-certificate-long-form.pdf - Obama White House Archives\\', \\'link\\': \\'https://obamawhitehouse.archives.gov/sites/default/files/rss_viewer/birth-certificate-long-form.pdf\\', \\'snippet\\': \"1 Child\\'s First Name. (Type or print). BARACK. CERTIFICATE OF LIVE BIRTH lb ... OBAMA, II. Day. 4. 6b. Island. Year. 5b. Hour. 1961 7:24 P.M.. Oahu. 6d. Is Place ...\", \\'position\\': 1}, {\\'title\\': \\'President Barack Obama\\', \\'link\\': \\'https://www.obamalibrary.gov/obamas/president-barack-obama\\', \\'snippet\\': \\'Barack Hussein Obama II was born August 4, 1961, in Honolulu, Hawaii, to parents Barack H. Obama, Sr., and Stanley Ann Dunham. His parents divorced when he ...\\', \\'position\\': 2}, {\\'title\\': \\'[PDF] berg_b_mem_supp_tro.pdf - FEC\\', \\'link\\': \\'https://www.fec.gov/resources/legal-resources/litigation/berg_b_mem_supp_tro.pdf\\', \\'snippet\\': \\'it specifically asks for \"Full former name(s). Obama put \"None\", when in fact he went by the name Barry Soetoro, and Barry Obama. It is further believed ...\\', \\'position\\': 3}, {\\'title\\': \\'Barack Obama | Biography, Parents, Education, Presidency, Books ...\\', \\'link\\': \\'https://www.britannica.com/biography/Barack-Obama\\', \\'snippet\\': \\'In full: Barack Hussein Obama II ; Born: August 4, 1961, Honolulu, Hawaii, U.S. (age 63) ; Title / Office: presidency of the United States of America (2009-2017), ...\\', \\'sitelinks\\': [{\\'title\\': \\'Politics and ascent to the...\\', \\'link\\': \\'https://www.britannica.com/biography/Barack-Obama/Politics-and-ascent-to-the-presidency\\'}, {\\'title\\': \\'Passage of health care reform\\', \\'link\\': \\'https://www.britannica.com/biography/Barack-Obama/Passage-of-health-care-reform\\'}, {\\'title\\': \\'Facts\\', \\'link\\': \\'https://www.britannica.com/facts/Barack-Obama\\'}, {\\'title\\': \\'Budget battles\\', \\'link\\': \\'https://www.britannica.com/biography/Barack-Obama/Budget-battles\\'}], \\'position\\': 4}, {\\'title\\': \\'Barack Obama | The White House\\', \\'link\\': \\'https://www.whitehouse.gov/about-the-white-house/presidents/barack-obama/\\', \\'snippet\\': \\'Barack Obama served as the 44th President of the United States. His story is the American story — values from the heartland, a middle-class upbringing in a ...\\', \\'position\\': 5}, {\\'title\\': \\'If Obama was born with the name he goes by, where did the ... - Quora\\', \\'link\\': \\'https://www.quora.com/If-Obama-was-born-with-the-name-he-goes-by-where-did-the-name-Barry-Soetoro-come-from-I-thought-that-was-his-original-name\\', \\'snippet\\': \\'President Obama was born Barack Hussein Obama II, named for his father. Barry is a nickname (like Jimmy Carter instead of James Earl Carter).\\', \\'date\\': \\'Dec 19, 2018\\', \\'sitelinks\\': [{\\'title\\': \"What is Obama\\'s first name? - Quora\", \\'link\\': \\'https://www.quora.com/What-is-Obamas-first-name\\'}, {\\'title\\': \"What\\'s up with Obama\\'s middle name? - Quora\", \\'link\\': \\'https://www.quora.com/Whats-up-with-Obamas-middle-name\\'}, {\\'title\\': \\'How did Obama get the name Barry Soetoro? Why did he stop using ...\\', \\'link\\': \\'https://www.quora.com/How-did-Obama-get-the-name-Barry-Soetoro-Why-did-he-stop-using-it\\'}, {\\'title\\': \\'When did Barry Soetoro change his name to Barack Obama? - Quora\\', \\'link\\': \\'https://www.quora.com/When-did-Barry-Soetoro-change-his-name-to-Barack-Obama\\'}], \\'position\\': 6}, {\\'title\\': \\'Barack Obama: Life Before the Presidency | Miller Center\\', \\'link\\': \\'https://millercenter.org/president/obama/life-before-the-presidency\\', \\'snippet\\': \\'Barack Hussein Obama II was born on August 4, 1961, in Hawaii. His parents, who met as students at the University of Hawaii, were Ann Dunham, ...\\', \\'position\\': 7}, {\\'title\\': \\'Barack Obama - Simple English Wikipedia, the free encyclopedia\\', \\'link\\': \\'https://simple.wikipedia.org/wiki/Barack_Obama\\', \\'snippet\\': \\'Barack Obama ; Michelle Obama. \\\\u200b. ( m. · 1992)\\\\u200b · Malia · Sasha · Barack Obama Sr. Ann Dunham · Obama family.\\', \\'sitelinks\\': [{\\'title\\': \\'Early life\\', \\'link\\': \\'https://simple.wikipedia.org/wiki/Barack_Obama#Early_life\\'}, {\\'title\\': \\'Marriage and family\\', \\'link\\': \\'https://simple.wikipedia.org/wiki/Barack_Obama#Marriage_and_family\\'}, {\\'title\\': \\'Political career\\', \\'link\\': \\'https://simple.wikipedia.org/wiki/Barack_Obama#Political_career\\'}, {\\'title\\': \\'2008 and 2012 presidential...\\', \\'link\\': \\'https://simple.wikipedia.org/wiki/Barack_Obama#2008_and_2012_presidential_campaigns\\'}], \\'position\\': 8}, {\\'title\\': \"we did it boys, we found Obama\\'s last name : r/PrequelMemes - Reddit\", \\'link\\': \\'https://www.reddit.com/r/PrequelMemes/comments/mm08dk/we_did_it_boys_we_found_obamas_last_name/\\', \\'snippet\\': \"Obama\\'s last name is Obama. Reply reply. [deleted]. •. Obama ... Morons, Obama IS his last name, and his first name is President.\", \\'date\\': \\'Apr 7, 2021\\', \\'position\\': 9}], \\'peopleAlsoAsk\\': [{\\'question\\': \"What is Mr Obama\\'s full name?\", \\'snippet\\': \\'Barack Obama\\\\n\\\\nBorn\\\\nBarack Hussein Obama II August 4, 1961 Honolulu, Hawaii, U.S.\\\\nPolitical party\\\\nDemocratic\\\\nSpouse\\\\nMichelle Robinson ( m. 1992)\\\\nChildren\\\\nMalia Sasha\\', \\'title\\': \\'Barack Obama - Wikipedia\\', \\'link\\': \\'https://en.wikipedia.org/wiki/Barack_Obama\\'}, {\\'question\\': \"What is Obama\\'s mother\\'s name?\", \\'snippet\\': \\'Stanley Ann Dunham\\\\nStanley Ann Dunham (November 29, 1942 – November 7, 1995) was an American anthropologist who specialized in the economic anthropology and rural development of Indonesia. She was the mother of Barack Obama, the 44th president of the United States.\\', \\'title\\': \\'Ann Dunham - Wikipedia\\', \\'link\\': \\'https://en.wikipedia.org/wiki/Ann_Dunham\\'}, {\\'question\\': \"When was Obama\\'s first term?\", \\'snippet\\': \"Barack Obama\\'s tenure as the 44th president of the United States began with his first inauguration on January 20, 2009, and ended on January 20, 2017. Obama, a Democrat from Illinois, took office following his victory over Republican nominee John McCain in the 2008 presidential election.\", \\'title\\': \\'Presidency of Barack Obama - Wikipedia\\', \\'link\\': \\'https://en.wikipedia.org/wiki/Presidency_of_Barack_Obama\\'}, {\\'question\\': \"Who was Barack Obama\\'s father?\", \\'snippet\\': \\'Barack Hussein Obama Sr. (/ˈbærək huːˈseɪn oʊˈbɑːmə/; born Baraka Obama, 18 June 1934 – 24 November 1982) was a Kenyan senior governmental economist and the father of Barack Obama, the 44th president of the United States.\\', \\'title\\': \\'Barack Obama Sr. - Wikipedia\\', \\'link\\': \\'https://en.wikipedia.org/wiki/Barack_Obama_Sr.\\'}], \\'relatedSearches\\': [{\\'query\\': \\'Barack Obama full name\\'}, {\\'query\\': \\'Barry Soetoro\\'}, {\\'query\\': \\'Where was Obama raised\\'}, {\\'query\\': \\'Barack Obama parents\\'}, {\\'query\\': \\'When was Obama born\\'}, {\\'query\\': \\'When did Obama became President\\'}, {\\'query\\': \\'Barack Obama early life\\'}, {\\'query\\': \\'Michelle Obama\\'}]}'"
      ]
     },
     "execution_count": 4,
     "metadata": {},
     "output_type": "execute_result"
    }
   ],
   "source": [
    "search.invoke(\"Obama's first name?\")"
   ]
  },
  {
   "cell_type": "code",
   "execution_count": 5,
   "metadata": {},
   "outputs": [],
   "source": [
    "search = GoogleSerperAPIWrapper()"
   ]
  },
  {
   "cell_type": "code",
   "execution_count": 11,
   "metadata": {},
   "outputs": [],
   "source": [
    "from langchain_core.tools import tool\n",
    "@tool\n",
    "def GoogleSerperAPIWrapperTool(query:str): \n",
    "    \"\"\"Tool to perform internet search  using DuckDuckGo search browser\"\"\"\n",
    "    GoogleSerperAPIWrapper(backend=\"api\",region=\"in-en\", time=\"d\", max_results=2)\n",
    "    search = GoogleSerperResults(api_wrapper=wrapper, type=\"news\")\n",
    "    \n",
    "    return search.invoke(query)\n"
   ]
  },
  {
   "cell_type": "code",
   "execution_count": 12,
   "metadata": {},
   "outputs": [],
   "source": [
    "from langchain_openai import ChatOpenAI\n",
    "\n",
    "tools = [GoogleSerperAPIWrapperTool]\n",
    "\n",
    "llm = ChatOpenAI(model=\"gpt-4o-mini\")\n",
    "llm_with_tools = llm.bind_tools(tools)"
   ]
  },
  {
   "cell_type": "code",
   "execution_count": 13,
   "metadata": {},
   "outputs": [
    {
     "name": "stderr",
     "output_type": "stream",
     "text": [
      "c:\\Code\\Github\\LangChain-Basics\\venv\\lib\\site-packages\\langchain\\hub.py:86: DeprecationWarning: The `langchainhub sdk` is deprecated.\n",
      "Please use the `langsmith sdk` instead:\n",
      "  pip install langsmith\n",
      "Use the `pull_prompt` method.\n",
      "  res_dict = client.pull_repo(owner_repo_commit)\n"
     ]
    }
   ],
   "source": [
    "from langchain import hub\n",
    "from langchain.agents import create_tool_calling_agent\n",
    "\n",
    "# Get the prompt to use - you can modify this!\n",
    "prompt = hub.pull(\"hwchase17/openai-functions-agent\")\n",
    "prompt.messages\n",
    "\n",
    "agent = create_tool_calling_agent(llm, tools, prompt)"
   ]
  },
  {
   "cell_type": "code",
   "execution_count": 14,
   "metadata": {},
   "outputs": [],
   "source": [
    "from langchain.agents import AgentExecutor\n",
    "agent_executor = AgentExecutor(agent=agent, tools=tools, verbose=True)"
   ]
  },
  {
   "cell_type": "code",
   "execution_count": 15,
   "metadata": {},
   "outputs": [
    {
     "name": "stdout",
     "output_type": "stream",
     "text": [
      "\n",
      "\n",
      "\u001b[1m> Entering new AgentExecutor chain...\u001b[0m\n",
      "\u001b[32;1m\u001b[1;3m\n",
      "Invoking: `GoogleSerperAPIWrapperTool` with `{'query': 'latest news'}`\n",
      "\n",
      "\n",
      "\u001b[0m\u001b[36;1m\u001b[1;3m{'searchParameters': {'q': 'latest news', 'gl': 'us', 'hl': 'en', 'type': 'search', 'num': 10, 'engine': 'google'}, 'organic': [{'title': 'CNN: Breaking News, Latest News and Videos', 'link': 'https://www.cnn.com/', 'snippet': 'View the latest news and breaking news today for U.S., world, weather, entertainment, politics and health at CNN.com.', 'date': '6 hours ago', 'sitelinks': [{'title': 'CNN', 'link': 'https://edition.cnn.com/'}, {'title': 'World', 'link': 'https://www.cnn.com/world'}, {'title': 'US', 'link': 'https://www.cnn.com/us'}, {'title': 'News', 'link': 'https://www.cnn.com/travel/news'}], 'position': 1}, {'title': 'NBC News - Breaking News & Top Stories - Latest World, US ...', 'link': 'https://www.nbcnews.com/', 'snippet': 'Go to NBCNews.com for breaking news, videos, and the latest top stories in world news, business, politics, health and pop culture.', 'sitelinks': [{'title': 'Latest Stories', 'link': 'https://www.nbcnews.com/latest-stories'}, {'title': 'U.S. News', 'link': 'https://www.nbcnews.com/us-news'}, {'title': 'World', 'link': 'https://www.nbcnews.com/world'}, {'title': 'Nightly News', 'link': 'https://www.nbcnews.com/nightly-news'}], 'position': 2}, {'title': 'Google News', 'link': 'https://news.google.com/', 'snippet': 'Comprehensive up-to-date news coverage, aggregated from sources all over the world by Google News.', 'date': '6 hours ago', 'position': 3}, {'title': 'ABC News - Breaking News, Latest News and Videos', 'link': 'https://abcnews.go.com/', 'snippet': 'Your trusted source for breaking news, analysis, exclusive interviews, headlines, and videos at ABCNews.com.', 'date': '5 hours ago', 'position': 4}, {'title': 'Fox News - Breaking News Updates | Latest News Headlines ...', 'link': 'https://www.foxnews.com/', 'snippet': 'Breaking News, Latest News and Current News from FOXNews.com. Breaking news and video. Latest Current News: U.S., World, Entertainment, ...', 'date': '2 days ago', 'sitelinks': [{'title': 'Politics', 'link': 'https://www.foxnews.com/politics'}, {'title': 'U.S.', 'link': 'https://www.foxnews.com/us'}, {'title': 'Fox News Go', 'link': 'https://www.foxnews.com/go'}, {'title': 'Latest News | Videos', 'link': 'https://www.foxnews.com/video/topics/latest-news-video'}], 'position': 5}, {'title': 'Reuters | Breaking International News & Views', 'link': 'https://www.reuters.com/', 'snippet': 'Find latest news from every corner of the globe at Reuters.com, your online source for breaking international news coverage.', 'date': '6 hours ago', 'sitelinks': [{'title': 'World', 'link': 'https://www.reuters.com/world/'}, {'title': 'United States', 'link': 'https://www.reuters.com/world/us/'}, {'title': '(.DJI) | Stock Price & Latest News', 'link': 'https://www.reuters.com/markets/quote/.DJI/'}, {'title': 'My News', 'link': 'https://www.reuters.com/my-news/feed/'}], 'position': 6}, {'title': 'The Washington Post - Breaking news and latest headlines, U.S. ...', 'link': 'https://www.washingtonpost.com/', 'snippet': 'Breaking news, live coverage, investigations, analysis, video, photos and opinions from The Washington Post. Subscribe for the latest on U.S. and ...', 'position': 7}, {'title': 'Associated Press News: Breaking News, Latest Headlines and ...', 'link': 'https://apnews.com/', 'snippet': 'Read the latest headlines, breaking news, and videos at APNews.com, the definitive source for independent journalism from every corner of the globe.', 'date': '6 hours ago', 'sitelinks': [{'title': 'AP Top N', 'link': 'https://apnews.com/hub/ap-top-news'}, {'title': 'U.S.', 'link': 'https://apnews.com/us-news'}, {'title': 'World News', 'link': 'https://apnews.com/world-news'}, {'title': 'Latest videos', 'link': 'https://apnews.com/video'}], 'position': 8}, {'title': 'Yahoo News: Latest and Breaking News, Headlines, Live Updates ...', 'link': 'https://news.yahoo.com/', 'snippet': 'The latest news and headlines from Yahoo News. Get breaking news stories and in-depth coverage with videos and photos.', 'sitelinks': [{'title': 'US', 'link': 'https://www.yahoo.com/news/us/'}, {'title': 'World', 'link': 'https://news.yahoo.com/world/'}, {'title': 'More News', 'link': 'https://sports.yahoo.com/news/'}, {'title': 'Politics', 'link': 'https://news.yahoo.com/politics/'}], 'position': 9}], 'images': [{'title': 'MSNBC News - Breaking News and News Today | Latest News', 'imageUrl': 'https://media-cldnry.s-nbcnews.com/image/upload/t_focal-440x220,f_auto,q_auto:best/rockcms/2024-08/240822-rfk-jr-al-1136-609616.jpg', 'link': 'https://www.msnbc.com/'}, {'title': 'ABC News - Breaking News, Latest News and Videos', 'imageUrl': 'https://i.abcnewsfe.com/a/3cb8ba6c-ccdb-48de-99cc-e684e5358708/abcnl__NEW_streamingnow_1664457649883_hpMain_16x9.jpg?w=608', 'link': 'https://abcnews.go.com/'}, {'title': '49ers News | San Francisco 49ers - 49ers.com', 'imageUrl': 'https://static.clubs.nfl.com/image/upload/t_editorial_landscape_8_desktop_mobile/f_png/49ers/qh17j8ofdciw8exrovxq.png', 'link': 'https://www.49ers.com/news/'}, {'title': 'World | Latest News & Updates | BBC News', 'imageUrl': 'https://ichef.bbci.co.uk/news/480/cpsprodpb/cc10/live/a8a46930-6180-11ef-8c59-8955ba72b898.png.webp', 'link': 'https://www.bbc.com/news/world'}, {'title': 'NFL News | Latest NFL Football News | NFL.com', 'imageUrl': 'https://static.www.nfl.com/image/upload/t_editorial_landscape_mobile/f_auto/league/fianrs1vfwtleizepjqk.jpg', 'link': 'https://www.nfl.com/news/'}, {'title': 'Nightly News with Lester Holt: The Latest News Stories Every Night ...', 'imageUrl': 'https://media-cldnry.s-nbcnews.com/image/upload/t_focal-760x380,f_auto,q_auto:best/mpx/2704722219/2024_08/NY-NN-XXXXXXXX_CLN_18_30_19_00_Nightly_News_with_Lester_Holt_AS-atnl4a.jpg', 'link': 'https://www.nbcnews.com/nightly-news'}, {'title': 'NFL News | Latest NFL Football News | NFL.com', 'imageUrl': 'https://static.www.nfl.com/image/upload/t_editorial_landscape_mobile/f_auto/league/ualjbgkzgn3cgkmbkim5.jpg', 'link': 'https://www.nfl.com/news/'}, {'title': 'MSNBC News - Breaking News and News Today | Latest News', 'imageUrl': 'https://media-cldnry.s-nbcnews.com/image/upload/t_focal-760x380,f_auto,q_auto:best/rockcms/2024-08/240823-dnc-kamala-harris-se-1212a-668d20.jpg', 'link': 'https://www.msnbc.com/'}, {'title': 'US News - The latest headlines from the US | Sky News', 'imageUrl': 'https://e3.365dm.com/24/08/768x432/skynews-robert-f-kennedy-jr_6664577.jpg?20240823202951', 'link': 'https://news.sky.com/us'}], 'peopleAlsoAsk': [{'question': 'What are the top news stories right now?', 'snippet': \"TOP NEWS\\nUS Appeals Court Scraps Biden Tipped Wages Rule. ...\\nMeta Says Iranian Group Tried to Target Trump, Biden Officials' WhatsApp Accounts. ...\\nJ&J in Talks With Holdouts to $6.5 Billion Talc Settlement. ...\\nUS Secret Service Puts Agents on Leave After Trump Assassination Attempt, Media Reports Say.\", 'title': 'Top News - USNews.com', 'link': 'https://www.usnews.com/news/top-news'}, {'question': 'What is the most trending news in the world today?', 'snippet': \"WORLD NEWS\\nPanama announces more migrant deportation flights to Ecuador, India and China.\\nBangladesh court orders 2 journalists to police custody as chaos persist.\\nCanada's 2 major freight railroads at a full stop; government officials scramble.\\nSouth Korea hotel blaze claims 7 lives, injures 12.\", 'title': 'World News - The Indian Express', 'link': 'https://indianexpress.com/section/world/'}, {'question': 'What is the break news?', 'snippet': 'Breaking news, also called late-breaking news, a special report, special coverage, or a news flash, is a current issue that warrants the interruption of a scheduled broadcast in order to report its details. News broadcasters also use the term for continuing coverage of events of broad interest to viewers, attracting ...', 'title': 'Breaking news - Wikipedia', 'link': 'https://en.wikipedia.org/wiki/Breaking_news'}, {'question': \"What's news in Texas?\", 'snippet': 'Cowboys-Raiders takeaways: QB Trey Lance finds his rhythm, K Brandon Aubrey stays steady.\\nRockwall ISD in uproar after teacher accused of sexual assault returns to school.\\nA new way to crack down on illegal massage parlors in Texas.\\nHusband gets life sentence in 2023 killing of wife, Rockwall County DA says.', 'title': 'Dallas News | Breaking News for DFW, Texas, World', 'link': 'https://www.dallasnews.com/'}], 'relatedSearches': [{'query': 'MSNBC'}, {'query': 'Local news'}, {'query': 'Breaking news headlines today'}, {'query': 'News today'}, {'query': 'Breaking news today'}, {'query': 'News today in the world'}, {'query': 'News Trump'}, {'query': 'MSNBC news'}, {'query': 'Fox News'}]}\u001b[0m\u001b[32;1m\u001b[1;3mHere are some sources for the latest hot news:\n",
      "\n",
      "1. **CNN**: [Breaking News, Latest News and Videos](https://www.cnn.com/)\n",
      "   - View the latest news and breaking news today for U.S., world, weather, entertainment, politics, and health.\n",
      "\n",
      "2. **NBC News**: [Breaking News & Top Stories](https://www.nbcnews.com/)\n",
      "   - Go to NBCNews.com for breaking news, videos, and the latest top stories in world news, business, politics, health and pop culture.\n",
      "\n",
      "3. **Google News**: [Comprehensive News Coverage](https://news.google.com/)\n",
      "   - Aggregated news coverage from various sources around the world.\n",
      "\n",
      "4. **ABC News**: [Breaking News, Latest News and Videos](https://abcnews.go.com/)\n",
      "   - Your trusted source for breaking news, analysis, exclusive interviews, headlines, and videos.\n",
      "\n",
      "5. **Fox News**: [Breaking News Updates](https://www.foxnews.com/)\n",
      "   - Breaking news and current news from various sectors including U.S., World, and Entertainment.\n",
      "\n",
      "6. **Reuters**: [Breaking International News & Views](https://www.reuters.com/)\n",
      "   - Find the latest news from every corner of the globe.\n",
      "\n",
      "7. **The Washington Post**: [Breaking news and latest headlines](https://www.washingtonpost.com/)\n",
      "   - Offers live coverage, investigations, analysis, and opinions.\n",
      "\n",
      "8. **Associated Press News**: [Breaking News, Latest Headlines](https://apnews.com/)\n",
      "   - Independent journalism from every corner of the globe.\n",
      "\n",
      "9. **Yahoo News**: [Latest and Breaking News](https://news.yahoo.com/)\n",
      "   - Get breaking news stories and in-depth coverage.\n",
      "\n",
      "For real-time updates, you can check these sites directly.\u001b[0m\n",
      "\n",
      "\u001b[1m> Finished chain.\u001b[0m\n"
     ]
    },
    {
     "data": {
      "text/plain": [
       "{'input': 'Tell me latest hot news?',\n",
       " 'output': 'Here are some sources for the latest hot news:\\n\\n1. **CNN**: [Breaking News, Latest News and Videos](https://www.cnn.com/)\\n   - View the latest news and breaking news today for U.S., world, weather, entertainment, politics, and health.\\n\\n2. **NBC News**: [Breaking News & Top Stories](https://www.nbcnews.com/)\\n   - Go to NBCNews.com for breaking news, videos, and the latest top stories in world news, business, politics, health and pop culture.\\n\\n3. **Google News**: [Comprehensive News Coverage](https://news.google.com/)\\n   - Aggregated news coverage from various sources around the world.\\n\\n4. **ABC News**: [Breaking News, Latest News and Videos](https://abcnews.go.com/)\\n   - Your trusted source for breaking news, analysis, exclusive interviews, headlines, and videos.\\n\\n5. **Fox News**: [Breaking News Updates](https://www.foxnews.com/)\\n   - Breaking news and current news from various sectors including U.S., World, and Entertainment.\\n\\n6. **Reuters**: [Breaking International News & Views](https://www.reuters.com/)\\n   - Find the latest news from every corner of the globe.\\n\\n7. **The Washington Post**: [Breaking news and latest headlines](https://www.washingtonpost.com/)\\n   - Offers live coverage, investigations, analysis, and opinions.\\n\\n8. **Associated Press News**: [Breaking News, Latest Headlines](https://apnews.com/)\\n   - Independent journalism from every corner of the globe.\\n\\n9. **Yahoo News**: [Latest and Breaking News](https://news.yahoo.com/)\\n   - Get breaking news stories and in-depth coverage.\\n\\nFor real-time updates, you can check these sites directly.'}"
      ]
     },
     "execution_count": 15,
     "metadata": {},
     "output_type": "execute_result"
    }
   ],
   "source": [
    "query = \"Tell me latest hot news?\"\n",
    "\n",
    "\n",
    "# response = agent_executor.invoke(query)\n",
    "\n",
    "agent_executor.invoke({\"input\": query})\n"
   ]
  },
  {
   "cell_type": "code",
   "execution_count": null,
   "metadata": {},
   "outputs": [],
   "source": []
  },
  {
   "cell_type": "code",
   "execution_count": null,
   "metadata": {},
   "outputs": [],
   "source": []
  }
 ],
 "metadata": {
  "kernelspec": {
   "display_name": "venv",
   "language": "python",
   "name": "python3"
  },
  "language_info": {
   "codemirror_mode": {
    "name": "ipython",
    "version": 3
   },
   "file_extension": ".py",
   "mimetype": "text/x-python",
   "name": "python",
   "nbconvert_exporter": "python",
   "pygments_lexer": "ipython3",
   "version": "3.10.0"
  }
 },
 "nbformat": 4,
 "nbformat_minor": 2
}
