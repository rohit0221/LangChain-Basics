{
 "cells": [
  {
   "cell_type": "code",
   "execution_count": 1,
   "metadata": {},
   "outputs": [],
   "source": [
    "from langchain.pydantic_v1 import BaseModel, Field\n",
    "\n",
    "class CalculatorInput(BaseModel):\n",
    "    a: int = Field(description=\"first number\")\n",
    "    b: int = Field(description=\"second number\")"
   ]
  },
  {
   "cell_type": "code",
   "execution_count": 2,
   "metadata": {},
   "outputs": [],
   "source": [
    "from langchain_core.tools import StructuredTool\n",
    "\n",
    "# Define the functions for each operation\n",
    "def add(a: int, b: int) -> int:\n",
    "    \"\"\"Add two numbers.\"\"\"\n",
    "    return a + b\n",
    "\n",
    "def subtract(a: int, b: int) -> int:\n",
    "    \"\"\"Subtract two numbers.\"\"\"\n",
    "    return a - b\n",
    "\n",
    "def divide(a: int, b: int) -> float:\n",
    "    \"\"\"Divide two numbers.\"\"\"\n",
    "    if b == 0:\n",
    "        raise ValueError(\"Cannot divide by zero\")\n",
    "    return a / b\n",
    "\n",
    "def multiply(a: int, b: int) -> int:\n",
    "    \"\"\"Multiply two numbers.\"\"\"\n",
    "    return a * b\n",
    "\n",
    "# Define the asynchronous versions of the functions\n",
    "async def aadd(a: int, b: int) -> int:\n",
    "    \"\"\"Add two numbers.\"\"\"\n",
    "    return a + b\n",
    "\n",
    "async def asubtract(a: int, b: int) -> int:\n",
    "    \"\"\"Subtract two numbers.\"\"\"\n",
    "    return a - b\n",
    "\n",
    "async def adivide(a: int, b: int) -> float:\n",
    "    \"\"\"Divide two numbers.\"\"\"\n",
    "    if b == 0:\n",
    "        raise ValueError(\"Cannot divide by zero\")\n",
    "    return a / b\n",
    "\n",
    "async def amultiply(a: int, b: int) -> int:\n",
    "    \"\"\"Multiply two numbers.\"\"\"\n",
    "    return a * b\n"
   ]
  },
  {
   "cell_type": "code",
   "execution_count": 3,
   "metadata": {},
   "outputs": [],
   "source": [
    "add_tool = StructuredTool.from_function(\n",
    "    func=add,\n",
    "    name=\"add\",\n",
    "    description=\"Add 2 numbers\",\n",
    "    args_schema=CalculatorInput,\n",
    "    return_direct=False,\n",
    "    coroutine=aadd\n",
    ")\n",
    "\n",
    "subtract_tool = StructuredTool.from_function(\n",
    "    func=subtract,\n",
    "    name=\"subtract\",\n",
    "    description=\"Subtract 2 numbers\",\n",
    "    args_schema=CalculatorInput,\n",
    "    return_direct=False,\n",
    "    coroutine=asubtract\n",
    ")\n",
    "\n",
    "\n",
    "multiply_tool = StructuredTool.from_function(\n",
    "    func=multiply,\n",
    "    name=\"multiply\",\n",
    "    description=\"Multiply 2 numbers\",\n",
    "    args_schema=CalculatorInput,\n",
    "    return_direct=False,\n",
    "    coroutine=amultiply\n",
    ")\n",
    "\n",
    "\n",
    "divide_tool = StructuredTool.from_function(\n",
    "    func=divide,\n",
    "    name=\"divide\",\n",
    "    description=\"Divide 2 numbers\",\n",
    "    args_schema=CalculatorInput,\n",
    "    return_direct=False,\n",
    "    coroutine=adivide\n",
    ")\n",
    "\n",
    "\n"
   ]
  },
  {
   "cell_type": "code",
   "execution_count": 4,
   "metadata": {},
   "outputs": [
    {
     "name": "stdout",
     "output_type": "stream",
     "text": [
      "5\n",
      "6\n",
      "4.0\n",
      "10\n"
     ]
    }
   ],
   "source": [
    "\n",
    "# Example usage\n",
    "print(add_tool.invoke({\"a\": 2, \"b\": 3}))  # Output: 5\n",
    "print(await subtract_tool.ainvoke({\"a\": 10, \"b\": 4}))  # Output: 6\n",
    "print(divide_tool.invoke({\"a\": 8, \"b\": 2}))  # Output: 4.0\n",
    "print(await multiply_tool.ainvoke({\"a\": 2, \"b\": 5}))  # Output: 10\n"
   ]
  },
  {
   "cell_type": "code",
   "execution_count": 5,
   "metadata": {},
   "outputs": [],
   "source": [
    "tools = [add_tool, subtract_tool, multiply_tool, divide_tool]"
   ]
  },
  {
   "cell_type": "code",
   "execution_count": 6,
   "metadata": {},
   "outputs": [
    {
     "name": "stderr",
     "output_type": "stream",
     "text": [
      "c:\\Code\\Github\\LangChain-Basics\\venv\\lib\\site-packages\\langchain\\hub.py:86: DeprecationWarning: The `langchainhub sdk` is deprecated.\n",
      "Please use the `langsmith sdk` instead:\n",
      "  pip install langsmith\n",
      "Use the `pull_prompt` method.\n",
      "  res_dict = client.pull_repo(owner_repo_commit)\n"
     ]
    },
    {
     "data": {
      "text/plain": [
       "[SystemMessagePromptTemplate(prompt=PromptTemplate(input_variables=[], template='You are a helpful assistant')),\n",
       " MessagesPlaceholder(variable_name='chat_history', optional=True),\n",
       " HumanMessagePromptTemplate(prompt=PromptTemplate(input_variables=['input'], template='{input}')),\n",
       " MessagesPlaceholder(variable_name='agent_scratchpad')]"
      ]
     },
     "execution_count": 6,
     "metadata": {},
     "output_type": "execute_result"
    }
   ],
   "source": [
    "from langchain import hub\n",
    "\n",
    "# Get the prompt to use - you can modify this!\n",
    "prompt = hub.pull(\"hwchase17/openai-functions-agent\")\n",
    "prompt.messages"
   ]
  },
  {
   "cell_type": "code",
   "execution_count": 7,
   "metadata": {},
   "outputs": [],
   "source": [
    "from langchain_openai import ChatOpenAI\n",
    "\n",
    "llm = ChatOpenAI(model=\"gpt-4o-mini\")\n",
    "llm_with_tools = llm.bind_tools(tools)"
   ]
  },
  {
   "cell_type": "markdown",
   "metadata": {},
   "source": [
    "# Calling the tool\n",
    "\n",
    "Now, let's get the model to call a tool. We'll add it to a list of messages that we'll treat as conversation history:\n",
    "\n"
   ]
  },
  {
   "cell_type": "code",
   "execution_count": 8,
   "metadata": {},
   "outputs": [
    {
     "name": "stdout",
     "output_type": "stream",
     "text": [
      "[{'name': 'multiply', 'args': {'a': 3, 'b': 12}, 'id': 'call_keC1LQm8tm5cXgRgBiTquHjM'}, {'name': 'add', 'args': {'a': 11, 'b': 49}, 'id': 'call_CnmddQPcd5z4e6TxbOQcqELX'}]\n"
     ]
    }
   ],
   "source": [
    "from langchain_core.messages import HumanMessage\n",
    "\n",
    "query = \"What is 3 * 12? Also, what is 11 + 49?\"\n",
    "\n",
    "messages = [HumanMessage(query)]\n",
    "\n",
    "ai_msg = llm_with_tools.invoke(messages)\n",
    "\n",
    "print(ai_msg.tool_calls)\n",
    "\n",
    "messages.append(ai_msg)"
   ]
  },
  {
   "cell_type": "code",
   "execution_count": 9,
   "metadata": {},
   "outputs": [
    {
     "data": {
      "text/plain": [
       "[{'name': 'multiply',\n",
       "  'args': {'a': 3, 'b': 12},\n",
       "  'id': 'call_keC1LQm8tm5cXgRgBiTquHjM'},\n",
       " {'name': 'add',\n",
       "  'args': {'a': 11, 'b': 49},\n",
       "  'id': 'call_CnmddQPcd5z4e6TxbOQcqELX'}]"
      ]
     },
     "execution_count": 9,
     "metadata": {},
     "output_type": "execute_result"
    }
   ],
   "source": [
    "ai_msg.tool_calls"
   ]
  },
  {
   "cell_type": "code",
   "execution_count": 12,
   "metadata": {},
   "outputs": [],
   "source": [
    "from langchain_core.messages import ToolMessage\n",
    "\n",
    "for tool_call in ai_msg.tool_calls:\n",
    "    tool_name = tool_call['name']\n",
    "    tool_args = tool_call['args']\n",
    "    tool_call_id = tool_call['id']\n",
    "    \n",
    "    # Select the appropriate tool\n",
    "    selected_tool = {\"add\": add_tool, \"multiply\": multiply_tool}.get(tool_name.lower())\n",
    "    \n",
    "    if selected_tool:\n",
    "        # Invoke the tool and get the result\n",
    "        result = selected_tool.invoke(tool_args)\n",
    "        \n",
    "        # Create a ToolMessage instance\n",
    "        tool_msg = ToolMessage(content=result, name=tool_name, tool_call_id=tool_call_id)\n",
    "        \n",
    "        # Append the ToolMessage to the messages list\n",
    "        messages.append(tool_msg)\n",
    "    else:\n",
    "        print(f\"Tool '{tool_name}' not found.\")"
   ]
  },
  {
   "cell_type": "code",
   "execution_count": 13,
   "metadata": {},
   "outputs": [
    {
     "data": {
      "text/plain": [
       "[HumanMessage(content='What is 3 * 12? Also, what is 11 + 49?'),\n",
       " AIMessage(content='', additional_kwargs={'tool_calls': [{'id': 'call_keC1LQm8tm5cXgRgBiTquHjM', 'function': {'arguments': '{\"a\": 3, \"b\": 12}', 'name': 'multiply'}, 'type': 'function'}, {'id': 'call_CnmddQPcd5z4e6TxbOQcqELX', 'function': {'arguments': '{\"a\": 11, \"b\": 49}', 'name': 'add'}, 'type': 'function'}]}, response_metadata={'token_usage': {'completion_tokens': 50, 'prompt_tokens': 206, 'total_tokens': 256}, 'model_name': 'gpt-4o-mini', 'system_fingerprint': 'fp_507c9469a1', 'finish_reason': 'tool_calls', 'logprobs': None}, id='run-5c6cb102-721c-4785-8482-7e952b660b97-0', tool_calls=[{'name': 'multiply', 'args': {'a': 3, 'b': 12}, 'id': 'call_keC1LQm8tm5cXgRgBiTquHjM'}, {'name': 'add', 'args': {'a': 11, 'b': 49}, 'id': 'call_CnmddQPcd5z4e6TxbOQcqELX'}]),\n",
       " ToolMessage(content='36', name='multiply', tool_call_id='call_keC1LQm8tm5cXgRgBiTquHjM'),\n",
       " ToolMessage(content='60', name='add', tool_call_id='call_CnmddQPcd5z4e6TxbOQcqELX')]"
      ]
     },
     "execution_count": 13,
     "metadata": {},
     "output_type": "execute_result"
    }
   ],
   "source": [
    "messages"
   ]
  },
  {
   "cell_type": "code",
   "execution_count": 14,
   "metadata": {},
   "outputs": [
    {
     "data": {
      "text/plain": [
       "AIMessage(content='The result of \\\\(3 \\\\times 12\\\\) is 36, and \\\\(11 + 49\\\\) equals 60.', response_metadata={'token_usage': {'completion_tokens': 28, 'prompt_tokens': 272, 'total_tokens': 300}, 'model_name': 'gpt-4o-mini', 'system_fingerprint': 'fp_48196bc67a', 'finish_reason': 'stop', 'logprobs': None}, id='run-92c36135-c0bb-4663-9650-2a9f4675e785-0')"
      ]
     },
     "execution_count": 14,
     "metadata": {},
     "output_type": "execute_result"
    }
   ],
   "source": [
    "llm_with_tools.invoke(messages)"
   ]
  },
  {
   "cell_type": "code",
   "execution_count": null,
   "metadata": {},
   "outputs": [],
   "source": []
  }
 ],
 "metadata": {
  "kernelspec": {
   "display_name": "Python 3",
   "language": "python",
   "name": "python3"
  },
  "language_info": {
   "codemirror_mode": {
    "name": "ipython",
    "version": 3
   },
   "file_extension": ".py",
   "mimetype": "text/x-python",
   "name": "python",
   "nbconvert_exporter": "python",
   "pygments_lexer": "ipython3",
   "version": "3.10.0"
  }
 },
 "nbformat": 4,
 "nbformat_minor": 2
}
