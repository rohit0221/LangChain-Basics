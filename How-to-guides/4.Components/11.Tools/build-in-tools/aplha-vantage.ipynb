{
 "cells": [
  {
   "cell_type": "code",
   "execution_count": 1,
   "metadata": {},
   "outputs": [
    {
     "data": {
      "text/plain": [
       "True"
      ]
     },
     "execution_count": 1,
     "metadata": {},
     "output_type": "execute_result"
    }
   ],
   "source": [
    "import os\n",
    "from dotenv import load_dotenv\n",
    "load_dotenv()"
   ]
  },
  {
   "cell_type": "code",
   "execution_count": 2,
   "metadata": {},
   "outputs": [],
   "source": [
    "alphavantage_api_key=os.environ.get(\"ALPHAVANTAGE_API_KEY\")\n"
   ]
  },
  {
   "cell_type": "code",
   "execution_count": 3,
   "metadata": {},
   "outputs": [],
   "source": [
    "from langchain_community.utilities.alpha_vantage import AlphaVantageAPIWrapper"
   ]
  },
  {
   "cell_type": "code",
   "execution_count": 4,
   "metadata": {},
   "outputs": [
    {
     "data": {
      "text/plain": [
       "{'Realtime Currency Exchange Rate': {'1. From_Currency Code': 'USD',\n",
       "  '2. From_Currency Name': 'United States Dollar',\n",
       "  '3. To_Currency Code': 'JPY',\n",
       "  '4. To_Currency Name': 'Japanese Yen',\n",
       "  '5. Exchange Rate': '147.57900000',\n",
       "  '6. Last Refreshed': '2024-08-18 10:50:04',\n",
       "  '7. Time Zone': 'UTC',\n",
       "  '8. Bid Price': '147.57330000',\n",
       "  '9. Ask Price': '147.58030000'}}"
      ]
     },
     "execution_count": 4,
     "metadata": {},
     "output_type": "execute_result"
    }
   ],
   "source": [
    "alpha_vantage = AlphaVantageAPIWrapper()\n",
    "alpha_vantage._get_exchange_rate(\"USD\", \"JPY\")"
   ]
  },
  {
   "cell_type": "code",
   "execution_count": 14,
   "metadata": {},
   "outputs": [],
   "source": [
    "def alphavantage_get_exchange_rate(currency1: str, currency2: str):\n",
    "    alpha_vantage = AlphaVantageAPIWrapper()\n",
    "    return (alpha_vantage._get_exchange_rate(currency1, currency2))"
   ]
  },
  {
   "cell_type": "code",
   "execution_count": 15,
   "metadata": {},
   "outputs": [
    {
     "data": {
      "text/plain": [
       "{'Realtime Currency Exchange Rate': {'1. From_Currency Code': 'USD',\n",
       "  '2. From_Currency Name': 'United States Dollar',\n",
       "  '3. To_Currency Code': 'JPY',\n",
       "  '4. To_Currency Name': 'Japanese Yen',\n",
       "  '5. Exchange Rate': '147.57900000',\n",
       "  '6. Last Refreshed': '2024-08-18 11:05:34',\n",
       "  '7. Time Zone': 'UTC',\n",
       "  '8. Bid Price': '147.57330000',\n",
       "  '9. Ask Price': '147.58030000'}}"
      ]
     },
     "execution_count": 15,
     "metadata": {},
     "output_type": "execute_result"
    }
   ],
   "source": [
    "alphavantage_get_exchange_rate(\"USD\",\"JPY\")"
   ]
  },
  {
   "cell_type": "code",
   "execution_count": 33,
   "metadata": {},
   "outputs": [],
   "source": [
    "from langchain_core.tools import tool\n",
    "\n",
    "@tool\n",
    "def alphavantage_get_exchange_rate(currency1: str, currency2: str):\n",
    "    \"\"\"Get exchange Rates using Alpha Vantage API.\"\"\"\n",
    "    alpha_vantage = AlphaVantageAPIWrapper()\n",
    "    return (alpha_vantage._get_exchange_rate(currency1, currency2))\n",
    "\n",
    "@tool\n",
    "def alphavantage_get_time_series_daily(symbol: str):\n",
    "    \"\"\"return the date, daily open, daily high, daily low, daily close, and daily volume of the global equity specified, covering the 100 latest data points.\"\"\"\n",
    "    alpha_vantage = AlphaVantageAPIWrapper()\n",
    "    return (alpha_vantage._get_time_series_daily(symbol))\n",
    "\n",
    "@tool\n",
    "def alphavantage_get_time_series_weekly(symbol: str):\n",
    "    \"\"\"Return the last trading day of the week, weekly open, weekly high, weekly low, weekly close, and weekly volume of the global equity specified, covering 20+ years of historical data.\"\"\"\n",
    "    alpha_vantage = AlphaVantageAPIWrapper()\n",
    "    return (alpha_vantage._get_time_series_weekly(symbol))\n",
    "\n",
    "@tool\n",
    "def alphavantage_get_quote_endpoint(symbol: str):\n",
    "    \"\"\" lightweight alternative to the time series APIs and returns the latest price and volume info for the specified symbol.\"\"\"\n",
    "    alpha_vantage = AlphaVantageAPIWrapper()\n",
    "    return (alpha_vantage._get_quote_endpoint(symbol))\n",
    "\n",
    "@tool\n",
    "def alphavantage_search_symbols(symbol: str):\n",
    "    \"\"\"returns a list of symbols and the matching company information based on the text entered.\"\"\"\n",
    "    alpha_vantage = AlphaVantageAPIWrapper()\n",
    "    return (alpha_vantage.search_symbols(symbol))"
   ]
  },
  {
   "cell_type": "code",
   "execution_count": 34,
   "metadata": {},
   "outputs": [],
   "source": [
    "from langchain_openai import ChatOpenAI\n",
    "\n",
    "tools = [alphavantage_get_exchange_rate,alphavantage_get_time_series_daily,alphavantage_get_time_series_weekly,alphavantage_get_quote_endpoint,alphavantage_search_symbols]\n",
    "\n",
    "llm = ChatOpenAI(model=\"gpt-4o-mini\")\n",
    "llm_with_tools = llm.bind_tools(tools)"
   ]
  },
  {
   "cell_type": "code",
   "execution_count": 35,
   "metadata": {},
   "outputs": [
    {
     "name": "stderr",
     "output_type": "stream",
     "text": [
      "c:\\Code\\Github\\LangChain-Basics\\venv\\lib\\site-packages\\langchain\\hub.py:86: DeprecationWarning: The `langchainhub sdk` is deprecated.\n",
      "Please use the `langsmith sdk` instead:\n",
      "  pip install langsmith\n",
      "Use the `pull_prompt` method.\n",
      "  res_dict = client.pull_repo(owner_repo_commit)\n"
     ]
    }
   ],
   "source": [
    "from langchain import hub\n",
    "from langchain.agents import create_tool_calling_agent\n",
    "\n",
    "# Get the prompt to use - you can modify this!\n",
    "prompt = hub.pull(\"hwchase17/openai-functions-agent\")\n",
    "prompt.messages\n",
    "\n",
    "agent = create_tool_calling_agent(llm, tools, prompt)"
   ]
  },
  {
   "cell_type": "code",
   "execution_count": 36,
   "metadata": {},
   "outputs": [],
   "source": [
    "from langchain.agents import AgentExecutor\n",
    "agent_executor = AgentExecutor(agent=agent, tools=tools, verbose=True)"
   ]
  },
  {
   "cell_type": "code",
   "execution_count": 40,
   "metadata": {},
   "outputs": [
    {
     "name": "stdout",
     "output_type": "stream",
     "text": [
      "\n",
      "\n",
      "\u001b[1m> Entering new AgentExecutor chain...\u001b[0m\n",
      "\u001b[32;1m\u001b[1;3m\n",
      "Invoking: `alphavantage_search_symbols` with `{'symbol': 'Microsoft'}`\n",
      "\n",
      "\n",
      "\u001b[0m\u001b[33;1m\u001b[1;3m{'bestMatches': [{'1. symbol': 'MSF0.FRK', '2. name': 'MICROSOFT CORP. CDR', '3. type': 'Equity', '4. region': 'Frankfurt', '5. marketOpen': '08:00', '6. marketClose': '20:00', '7. timezone': 'UTC+02', '8. currency': 'EUR', '9. matchScore': '0.6429'}, {'1. symbol': 'MSFT', '2. name': 'Microsoft Corporation', '3. type': 'Equity', '4. region': 'United States', '5. marketOpen': '09:30', '6. marketClose': '16:00', '7. timezone': 'UTC-04', '8. currency': 'USD', '9. matchScore': '0.6154'}, {'1. symbol': '0QYP.LON', '2. name': 'Microsoft Corporation', '3. type': 'Equity', '4. region': 'United Kingdom', '5. marketOpen': '08:00', '6. marketClose': '16:30', '7. timezone': 'UTC+01', '8. currency': 'USD', '9. matchScore': '0.6000'}, {'1. symbol': 'MSF.DEX', '2. name': 'Microsoft Corporation', '3. type': 'Equity', '4. region': 'XETRA', '5. marketOpen': '08:00', '6. marketClose': '20:00', '7. timezone': 'UTC+02', '8. currency': 'EUR', '9. matchScore': '0.6000'}, {'1. symbol': 'MSF.FRK', '2. name': 'Microsoft Corporation', '3. type': 'Equity', '4. region': 'Frankfurt', '5. marketOpen': '08:00', '6. marketClose': '20:00', '7. timezone': 'UTC+02', '8. currency': 'EUR', '9. matchScore': '0.6000'}, {'1. symbol': 'MSFT34.SAO', '2. name': 'Microsoft Corporation', '3. type': 'Equity', '4. region': 'Brazil/Sao Paolo', '5. marketOpen': '10:00', '6. marketClose': '17:30', '7. timezone': 'UTC-03', '8. currency': 'BRL', '9. matchScore': '0.6000'}]}\u001b[0m\u001b[32;1m\u001b[1;3m\n",
      "Invoking: `alphavantage_get_quote_endpoint` with `{'symbol': 'TSLA'}`\n",
      "\n",
      "\n",
      "\u001b[0m\u001b[36;1m\u001b[1;3m{'Global Quote': {'01. symbol': 'TSLA', '02. open': '211.1500', '03. high': '219.8000', '04. low': '210.8000', '05. price': '216.1200', '06. volume': '88765122', '07. latest trading day': '2024-08-16', '08. previous close': '214.1400', '09. change': '1.9800', '10. change percent': '0.9246%'}}\u001b[0m\u001b[32;1m\u001b[1;3mThe symbol for Microsoft is **MSFT** (Microsoft Corporation).\n",
      "\n",
      "As for Tesla (symbol: **TSLA**), here is the latest quote:\n",
      "\n",
      "- **Open:** $211.15\n",
      "- **High:** $219.80\n",
      "- **Low:** $210.80\n",
      "- **Price:** $216.12\n",
      "- **Volume:** 88,765,122\n",
      "- **Latest Trading Day:** August 16, 2024\n",
      "- **Previous Close:** $214.14\n",
      "- **Change:** $1.98\n",
      "- **Change Percent:** 0.92%\u001b[0m\n",
      "\n",
      "\u001b[1m> Finished chain.\u001b[0m\n"
     ]
    },
    {
     "data": {
      "text/plain": [
       "{'input': 'What is symbol for microsoft and quote for Tesla?',\n",
       " 'output': 'The symbol for Microsoft is **MSFT** (Microsoft Corporation).\\n\\nAs for Tesla (symbol: **TSLA**), here is the latest quote:\\n\\n- **Open:** $211.15\\n- **High:** $219.80\\n- **Low:** $210.80\\n- **Price:** $216.12\\n- **Volume:** 88,765,122\\n- **Latest Trading Day:** August 16, 2024\\n- **Previous Close:** $214.14\\n- **Change:** $1.98\\n- **Change Percent:** 0.92%'}"
      ]
     },
     "execution_count": 40,
     "metadata": {},
     "output_type": "execute_result"
    }
   ],
   "source": [
    "# query = \"What is the current exchange rate from USD to JPY?\"\n",
    "\n",
    "# query = \"get time series weekly data for Tesla?\"\n",
    "\n",
    "# query = \"get daily  data for Tesla?\"\n",
    "\n",
    "# query = \"get quote for Tesla?\"\n",
    "\n",
    "query = \"What is symbol for microsoft and quote for Tesla?\"\n",
    "\n",
    "\n",
    "# response = agent_executor.invoke(query)\n",
    "\n",
    "agent_executor.invoke({\"input\": query})\n"
   ]
  },
  {
   "cell_type": "code",
   "execution_count": null,
   "metadata": {},
   "outputs": [],
   "source": []
  }
 ],
 "metadata": {
  "kernelspec": {
   "display_name": "Python 3",
   "language": "python",
   "name": "python3"
  },
  "language_info": {
   "codemirror_mode": {
    "name": "ipython",
    "version": 3
   },
   "file_extension": ".py",
   "mimetype": "text/x-python",
   "name": "python",
   "nbconvert_exporter": "python",
   "pygments_lexer": "ipython3",
   "version": "3.10.0"
  }
 },
 "nbformat": 4,
 "nbformat_minor": 2
}
