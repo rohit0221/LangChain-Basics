{
 "cells": [
  {
   "cell_type": "code",
   "execution_count": 1,
   "metadata": {},
   "outputs": [
    {
     "data": {
      "text/plain": [
       "True"
      ]
     },
     "execution_count": 1,
     "metadata": {},
     "output_type": "execute_result"
    }
   ],
   "source": [
    "import os\n",
    "from dotenv import load_dotenv\n",
    "load_dotenv()"
   ]
  },
  {
   "cell_type": "code",
   "execution_count": 4,
   "metadata": {},
   "outputs": [],
   "source": [
    "from langchain_community.tools.tavily_search import TavilySearchResults\n",
    "\n",
    "tool = TavilySearchResults(\n",
    "    max_results=5,\n",
    "    search_depth=\"advanced\",\n",
    "    include_answer=True,\n",
    "    include_raw_content=True,\n",
    "    include_images=True,\n",
    "    # include_domains=[...],\n",
    "    # exclude_domains=[...],\n",
    "    # name=\"...\",            # overwrite default tool name\n",
    "    # description=\"...\",     # overwrite default tool description\n",
    "    # args_schema=...,       # overwrite default args_schema: BaseModel\n",
    ")"
   ]
  },
  {
   "cell_type": "code",
   "execution_count": 5,
   "metadata": {},
   "outputs": [
    {
     "data": {
      "text/plain": [
       "[{'url': 'https://www.theguardian.com/sport/live/2023/jul/16/wimbledon-mens-singles-final-2023-carlos-alcaraz-v-novak-djokovic-live?page=with:block-64b3ff568f08df28470056bf',\n",
       "  'content': 'Carlos Alcaraz recovered from a set down to topple Djokovic 1-6, 7-6(6), 6-1, 3-6, 6-4 and win his first Wimbledon title in a battle for the ages'},\n",
       " {'url': 'https://www.bbc.com/sport/tennis/articles/c4ngz77j5y5o',\n",
       "  'content': 'Making his return to Wimbledon after being injured himself last year, Draper celebrated clinching victory at 21:15 BST by whacking a ball into the jubilant crowd.'},\n",
       " {'url': 'https://sports.yahoo.com/live/wimbledon-mens-semifinals-carlos-alcaraz-novak-djokovic-set-to-face-off-in-wimbledon-final-rematch-121511865.html',\n",
       "  'content': \"Carlos Alcaraz defeated Daniil Medvedev in Friday's first men's semifinal at Wimbledon, 6-7, 6-3, 6-4, 6-4. It's the second straight year that Alcaraz has knocked Medvedev out in the semifinals at ...\"},\n",
       " {'url': 'https://apnews.com/article/wimbledon-7-14-2024-men-final-djokovic-alcaraz-29160fa7a3653edc1ba493940dddc5eb',\n",
       "  'content': \"LONDON (AP) — Carlos Alcaraz was ready from the get-go this time. A year ago in the Wimbledon final against Novak Djokovic, Alcaraz got off to a slow start, dropped the opening set and needed five to claim his first championship at the All England Club.. Sunday's rematch began with a game that felt monumental: 20 points across nearly 15 minutes, portending an engrossing, back-and forth ...\"},\n",
       " {'url': 'https://www.nytimes.com/athletic/live-blogs/wimbledon-2024-live-updates-alcaraz-djokovic-mens-final-result/kJJdTKhOgkZo/',\n",
       "  'content': \"It was Djokovic's first straight-sets defeat at Wimbledon since the 2013 final, when he lost to Andy Murray. Below, The Athletic 's writers, Charlie Eccleshare and Matt Futterman, analyze the ...\"}]"
      ]
     },
     "execution_count": 5,
     "metadata": {},
     "output_type": "execute_result"
    }
   ],
   "source": [
    "tool.invoke({\"query\": \"What happened at the last wimbledon\"})"
   ]
  },
  {
   "cell_type": "code",
   "execution_count": 6,
   "metadata": {},
   "outputs": [],
   "source": [
    "from langchain_core.tools import tool\n",
    "@tool\n",
    "def TavilySearchAPIWrapperTool(query:str): \n",
    "    \"\"\"Tool to perform internet search  using Tavily search engine\"\"\"\n",
    "    tool = TavilySearchResults(\n",
    "    max_results=5,\n",
    "    search_depth=\"advanced\",\n",
    "    include_answer=True,\n",
    "    include_raw_content=True,\n",
    "    include_images=True,\n",
    "    # include_domains=[...],\n",
    "    # exclude_domains=[...],\n",
    "    # name=\"...\",            # overwrite default tool name\n",
    "    # description=\"...\",     # overwrite default tool description\n",
    "    # args_schema=...,       # overwrite default args_schema: BaseModel\n",
    ")\n",
    "    return tool.invoke({\"query\": query})\n"
   ]
  },
  {
   "cell_type": "code",
   "execution_count": 7,
   "metadata": {},
   "outputs": [],
   "source": [
    "from langchain_openai import ChatOpenAI\n",
    "\n",
    "tools = [TavilySearchAPIWrapperTool]\n",
    "\n",
    "llm = ChatOpenAI(model=\"gpt-4o-mini\")\n",
    "llm_with_tools = llm.bind_tools(tools)"
   ]
  },
  {
   "cell_type": "code",
   "execution_count": 8,
   "metadata": {},
   "outputs": [
    {
     "name": "stderr",
     "output_type": "stream",
     "text": [
      "c:\\Code\\Github\\LangChain-Basics\\venv\\lib\\site-packages\\langchain\\hub.py:86: DeprecationWarning: The `langchainhub sdk` is deprecated.\n",
      "Please use the `langsmith sdk` instead:\n",
      "  pip install langsmith\n",
      "Use the `pull_prompt` method.\n",
      "  res_dict = client.pull_repo(owner_repo_commit)\n"
     ]
    }
   ],
   "source": [
    "from langchain import hub\n",
    "from langchain.agents import create_tool_calling_agent\n",
    "\n",
    "# Get the prompt to use - you can modify this!\n",
    "prompt = hub.pull(\"hwchase17/openai-functions-agent\")\n",
    "prompt.messages\n",
    "\n",
    "agent = create_tool_calling_agent(llm, tools, prompt)"
   ]
  },
  {
   "cell_type": "code",
   "execution_count": 9,
   "metadata": {},
   "outputs": [],
   "source": [
    "from langchain.agents import AgentExecutor\n",
    "agent_executor = AgentExecutor(agent=agent, tools=tools, verbose=True)"
   ]
  },
  {
   "cell_type": "code",
   "execution_count": 10,
   "metadata": {},
   "outputs": [
    {
     "name": "stdout",
     "output_type": "stream",
     "text": [
      "\n",
      "\n",
      "\u001b[1m> Entering new AgentExecutor chain...\u001b[0m\n",
      "\u001b[32;1m\u001b[1;3m\n",
      "Invoking: `TavilySearchAPIWrapperTool` with `{'query': 'latest news'}`\n",
      "\n",
      "\n",
      "\u001b[0m\u001b[36;1m\u001b[1;3m[{'url': 'https://www.cnn.com/', 'content': 'View the latest news and breaking news today for U.S., world, weather, entertainment, politics and health at CNN.com.'}, {'url': 'https://apnews.com/', 'content': 'In a political shift to the far right, anti-Islam populist Geert Wilders wins big in Dutch election\\nEurope’s far-right populists buoyed by Wilders’ win in Netherlands, hoping the best is yet to come\\nDaniel Noboa is sworn in as Ecuador’s president, inheriting the leadership of a country on edge\\nOn the cusp of climate talks, UN chief Guterres visits crucial Antarctica\\nBUSINESS\\nOpenAI brings back Sam Altman as CEO just days after his firing unleashed chaos\\nThis week’s turmoil with ChatGPT-maker OpenAI has heightened trust concerns in the AI world\\nTo save the climate, the oil and gas sector must slash planet-warming operations, report says\\nArgentina’s labor leaders warn of resistance to President-elect Milei’s radical reforms\\nSCIENCE\\nPeru lost more than half of its glacier surface in just over half a century, scientists say\\nSearch is on for pipeline leak after as much as 1.1 million gallons of oil sullies Gulf of Mexico\\nNew hardiness zone map will help US gardeners keep pace with climate change\\nSpaceX launched its giant new rocket but explosions end the second test flight\\nLIFESTYLE\\nEdmunds picks the five best cars for under $30,000\\nFrance remains ‘le grand fromage’ in the European Union, and Camembert remains in a wooden box\\nHow to avoid the worst 4 hours of holiday travel\\nGet ahead this Thanksgiving by setting the table a day or two early\\nNow Playing\\nMovie Review: Emerald Fennell chronicles a promising young man in audacious, shock-filled ‘Saltburn’\\nMovie Review: Disney’s musical fairy tale ‘Wish’ is beautiful, but lacking magic\\nMovie Review: ‘Fallen Leaves’ is deadpan nirvana\\nReview: In Ridley Scott’s ‘Napoleon,’ the emperor has no clothes but plenty of ego\\nMovie Review: Emotional complexity, melodramatic wit and masterful acting in ‘May December’\\nMovie Review: Taika Waititi’s ‘Next Goal Wins’ is a sweet, frothy diversion but no knee slide\\nReview: The Hunger Games return in ‘The Ballad of Songbirds and Snakes,’ with the odds in its favor\\nMovie Review: Nicolas Cage finds fame to be highly overrated in chillingly funny ‘Dream Scenario’\\nMovie Review: Iman Vellani is a scene-stealer in low-stakes ‘The Marvels’\\nMovie Review: In David Fincher’s ‘The Killer,’ an assassin hides in plain sight\\nThe Protein Problem\\nHow ‘lab-grown’ meat cultivated from animal cells could offer another sustainable food option\\nPlant-based products haven’t converted US meat-eaters. The US has thwarted a plot to kill a Sikh separatist leader, an AP source says\\nNearly half of Americans think the US is spending too much on Ukraine aid, an AP-NORC poll says\\nBiden’s plan would raise salaries for Head Start teachers but could leave fewer spots for kids\\nEntertainment\\nThe ‘Oppenheimer’ creative team take you behind the scenes of the film’s key moments\\nWhat’s streaming now: ‘Oppenheimer,’ Adam Sandler as a lizard and celebs dancing to Taylor Swift\\nFill your holiday stocking with Cher, Ella Fitzgerald, Brandy, Andrea Bocelli and more\\nStudent Academy Awards — a launching pad into Hollywood — celebrate 50 years\\nSPORTS\\nBland, Prescott help Cowboys to 13th straight home win over Commanders on Thanksgiving\\nBlackhawks’ Taylor Hall is expected to miss the rest of the season with a right knee injury\\nLSU star Angel Reese has not been seen with the Tigers in the Cayman Islands\\nEddie Merrins, the ‘Little Pro’ who had an enormous influence on golf in LA, dies at 91\\nUS News\\nResidents of Kentucky town can return home after crews extinguish derailment fire\\nOfficials begin clearing debris while 3 remain missing in Alaska landslide that left 3 dead\\nOxyContin maker’s settlement plan divides victims of opioid crisis. When the battles stop, many fear it will remain uninhabitable\\nHundreds of German police raid properties of Hamas supporters in Berlin and across the country\\nHow the hostage deal came about: Negotiations stumbled, but persistence finally won out\\nPortraits of those held hostage after Hamas attack on Israel\\nDutch election winner Geert Wilders is an anti-Islam firebrand known as the Dutch Donald Trump\\nWoman alleges Jamie Foxx sexually assaulted her at New York bar, actor says it ‘never happened’\\nFBI ends investigation of car wreck at Niagara Falls bridge, no indication of terrorism\\nRetailers are ready to kick off Black Friday just as shoppers pull back on spending\\nMacy’s Thanksgiving Day Parade sends Snoopy and SpongeBob soaring as Cher entertains NYC\\nViolent clashes break out in Dublin after knife attack that injured 3 children, one seriously\\nNicaragua’s Miss Universe title win exposes deep political divide in the Central American country\\nSusan Sarandon and Melissa Barrera dropped from Hollywood companies after comments on Israel-Hamas war\\nSeveral more children sickened by fruit pouches tainted with lead, FDA says\\nLatest videos\\nPhiladelphia marks Thanksgiving with parade\\nPhiladelphia held its annual Thanksgiving Day parade on Thursday. Florida Atlantic defeats Butler 91-86\\nBroncos nickel back Ja’Quan McMillian is making a name for himself even if it’s being mispronounced\\nSt. Rose scores 26, Princeton rolls to a 77-63 win over No. 22 Oklahoma women in Florida\\nFormer St. Louis alderman in fraud case also charged with lying to police\\nBrazilian police bust international drug mule ring in Sao Paulo\\nNorris scores 20, Loyola Chicago closes on 14-2 run to beat Boston College 71-68\\nBusiness Highlights: Retailers prepare for Black Friday; world stocks mixed\\nNew Mexico Supreme Court reprimands judge who advised prosecutors in case involving his daughter\\nNo. 3 Colorado holds off Cincinnati 77-60 to open Paradise Jam tournament\\nThursday’s Transactions\\nIsaacs banks in go-ahead shot with 0.8 seconds left and Texas Tech beats UNI in Battle 4 Atlantis\\nColeman has 24 points, No. 12 Texas A&M beats Penn State 89-77 in ESPN Events Invitational\\nWest Africa responds to huge diphtheria outbreaks by targeting unvaccinated populations\\n This rancher thinks she can change that\\nWhat pastoralists in Senegal and Mongolia can teach us about adapting to a changing environment\\nSaving Brazil’s rainforest starts with helping people and businesses make a living off cleared land\\nMore from the project\\nGardening\\nA dozen fresh-picked holiday gift ideas for gardeners\\nIf it seems like there are a lot of acorns this fall, you might be seeing a ‘mast’ year\\nA slow transition to winter keeps houseplants healthy\\nThere’s a movement to ‘leave the leaves’ in gardens and lawns.'}, {'url': 'https://www.bbc.com/live/news', 'content': 'Follow the latest news stories from around the world with BBC Live & Breaking World and U.S. News. Watch, listen and interact with live updates.'}, {'url': 'https://www.nbcnews.com/', 'content': \"judge asks in granting bail\\nAsian America\\nBrooklyn woman arrested after allegedly throwing hot coffee at a man in a Palestinian scarf\\nU.S. news\\nMichigan police make arrest in the disappearance of a woman missing since 2021\\nAsian America\\nBrooklyn woman arrested after allegedly throwing hot coffee at a man in a Palestinian scarf\\nU.S. news\\nMichigan police make arrest in the disappearance of a woman missing since 2021\\nHealth\\nHealth news\\nMysterious dog respiratory illness may be caused by a new type of bacterial infection, researchers say\\nCoronavirus\\nFour more free Covid tests will be available to U.S. households\\nHealth news\\nThis type of belly fat is linked to increased risk of Alzheimer's, research finds\\nHealth news\\nNew weight loss drugs change how people think of Thanksgiving and other holiday meals\\nHealth news\\nDeadly listeria outbreak linked to whole peaches, nectarines and plums\\nHealth news\\nNew weight loss drugs change how people think of Thanksgiving and other holiday meals\\nHealth news\\nDeadly listeria outbreak linked to whole peaches, nectarines and plums\\nPop culture\\nCulture & Trends\\nComedian Matt Rife responds to Netflix special backlash with link to ‘special needs helmets’\\nU.S. news\\nA stampede, shooting and bodyguard brawls: How Sean Combs' legal troubles have played out\\nOUT News\\nAntoni Porowski and fiancé Kevin Harrington split 1 year after getting engaged\\nAsian America\\nGroom secretly learned Korean for over a year to surprise wife and family at wedding\\nCulture & Trends\\n'We just had to do it': Bradley Cooper speaks out about prosthetic nose controversy in 'Maestro'\\nAsian America\\nGroom secretly learned Korean for over a year to surprise wife and family at wedding\\nCulture & Trends\\n'We just had to do it': Bradley Cooper speaks out about prosthetic nose controversy in 'Maestro'\\nBusiness, Tech & Media\\nEXCLUSIVE\\nDiageo cites Diddy rape claims in renewed push to keep him out of tequila ads\\n#MeToo Reckoning\\nDiddy’s companies named in suit accusing an ex-Bad Boy president of sexual assault\\nTech News\\nWith X under fire, Elon Musk digs in and finds support from conservatives\\nTech News\\nSam Altman returns as OpenAI CEO after days of infighting at AI startup\\nU.S. news\\nHow Formula One accidentally helped Las Vegas workers land the 'best contract ever'\\nTech News\\nSam Altman returns as OpenAI CEO after days of infighting at AI startup\\nU.S. news\\nHow Formula One accidentally helped Las Vegas workers land the 'best contract ever'\\nNBC OUT\\nOUT News\\nAntoni Porowski and fiancé Kevin Harrington split 1 year after getting engaged\\nOUT Pop Culture\\nIn 'The Dads,' men bond over fishing and their love for their transgender kids\\nOUT Politics and Policy\\nTeachers and students grapple with fears and confusion about new laws restricting pronoun use\\nGay bar druggings\\nVictims of the deadly druggings that terrorized NYC's gay bars are haunted by unknowns\\nAsian America\\nCulture & Trends\\nNetflix’s ‘Squid Game: The Challenge’ turns dystopian drama into real-life competition — minus the death\\nAsian America\\nThanksgiving fusion dishes have become a way for Asian Americans to share their cultures with others\\nImmigration\\nMore asylum claims, illegal crossings along U.S.-Canada border, despite the dangers\\nAsian America\\nBrooklyn woman arrested after allegedly throwing hot coffee at a man in a Palestinian scarf\\nNBCBLK\\nNBCBLK\\n Profile\\nSections\\ntv\\nFeatured\\nMore From NBC\\nFollow NBC News\\nnews Alerts\\nThere are no new alerts at this time\\nHostage release and Gaza truce to start Friday, Qatar says\\nLIVEAl-Shifa Hospital director arrested by Israeli forces\\nLIVEAl-Shifa Hospital director arrested by Israeli forces\\nHostage deal exposes tensions between Israel’s far-right and hostage families\\nGazans welcome deal to pause fighting but dread what may come afterward\\nFringe proposal to displace Palestinians draws condemnation and triggers past trauma\\nOne of the only places that can claim to host the First Thanksgiving rejects the label\\nOne of the only places that can claim to host the First Thanksgiving rejects the label\\nNew York City Mayor Eric Adams accused of sexually assaulting a colleague in 1993\\nNew York City Mayor Eric Adams accused of sexually assaulting a colleague in 1993\\nSean 'Diddy' Combs accused of drugging, sexually assaulting woman when she was in college\\nSean 'Diddy' Combs accused of drugging, sexually assaulting woman when she was in college\\nNetflix’s ‘Squid Game: The Challenge’ turns dystopian drama into real-life competition — minus the death\\nChinese hospitals ‘overwhelmed with sick children’ after surge in respiratory illness\\nChinese hospitals ‘overwhelmed with sick children’ after surge in respiratory illness\\nFor teen girls victimized by ‘deepfake’ nude photos, there are few pathways to recourse\\nFor teen girls victimized by ‘deepfake’ nude photos, there are few pathways to recourse\\nTrump rages about judge and law clerk while gag order is paused in New York fraud trial\\nTrump rages about judge and law clerk while gag order is paused in New York fraud trial\\nLong-awaited hostage deal set to move ahead\\nLong-awaited hostage deal set to move ahead\\nBlack Friday\\nThe best Black Friday deals on Amazon\\nBlack Friday\\nThe best early Black Friday deals to shop right now\\nLuggage\\n8 highly rated work totes for commuting with ease\\nBlack Friday\\nThe best Black Friday deals at Target to shop right now\\nBlack Friday\\nThe best Walmart Black Friday deals to shop right now\\n The best Walmart Black Friday deals to shop right now\\nCaptives of Cannabis Part II: Mass Murder, Migrants & Money Laundering\\nLatest News\\nHead of security for sons of 'El Chapo' arrested in Mexico, sought for extradition\\nAlabama priest who fled to Italy with teen he later married is expected to be defrocked\\nSean 'Diddy' Combs accused of drugging, sexually assaulting woman when she was in college\\nHostage deal exposes tensions between Israel’s far-right and hostage families\\nNew York City Mayor Eric Adams accused of sexually assaulting a colleague in 1993\\n'Stop the rancor': Biden calls for national unity on Thanksgiving Day\\nTrump rages about judge and law clerk while gag order is paused in New York fraud trial\\nBatting cage accident at Georgia high school leaves a player in a coma\\nChinese hospitals ‘overwhelmed with sick children’ after surge in respiratory illness\\nNetflix’s ‘Squid Game: The Challenge’ turns dystopian drama into real-life competition — minus the death\\nFor teen girls victimized by ‘deepfake’ nude photos, there are few pathways to recourse\\nAs holiday shopping begins, Black business owners hope shoppers don’t forget them\\nGerman police raid homes of far-right Reich Citizens group\\nMacy’s Thanksgiving Day Parade recap: All the floats, performances and more\\nOne of the only places that can claim to host the First Thanksgiving rejects the label\\nThis Afro Latina actor touts the power behind journaling\\nThanksgiving travelers told to 'be nice' as all-time passenger record set to be broken\\nSmall Kentucky town urged to evacuate after train derails, spilling chemicals\\nIn a shock for Europe, anti-Islam populist Geert Wilders records a massive win in Dutch elections\\nGaza hostage release and truce to start Friday, Qatar says\\nUC Berkeley men's basketball player confronts fan who allegedly called him a 'terrorist'\\nAustralia has too many sheep — and farmers are giving them away for free\\nCharleston, South Carolina, elects its first Republican mayor since Reconstruction Era\\nNorth Korea says it is suspending military pact with South\\nBiden and Harris to attend services for Rosalynn Carter in Georgia\\nWhat causes skin to itch? Remembering Rosalynn Carter, former first lady and tireless humanitarian\\nTop videos\\nNightly News\\nLong-awaited hostage deal set to move ahead\\nNightly News\\nIsraeli military arrests Al-Shifa Hospital director, 200 patients too sick to evacuate\\nNightly News\\nAuthorities looking into airline incidents amid Thanksgiving travel rush\\nNightly News\\nFormer Obama advisor caught on video berating NYC street vendor\\nMost popular\\nTrump investigations\\n'Deluge' of threats against judge and law clerk in Trump’s civil fraud trial are detailed in new court filing\\nCelebrity\\nCuba Gooding Jr. faces 2 sexual assault lawsuits in New York\\nU.S. news\\nHusband charged with murder more than two years after his wife vanished in Michigan\\nLive Updates\\nMacy’s As holiday shopping begins, Black business owners hope shoppers don’t forget them\\n#MeToo Reckoning\\nDiddy’s companies named in suit accusing an ex-Bad Boy president of sexual assault\\nNBCBLK\\nAlabama A&M will lead bands in Macy’s Thanksgiving Day Parade\\nNBCBLK\\nNFL disability program leaves retired Saints tight end hurting and angry\\nLatino\\nLatino\\nBrazilian officials investigating company behind Taylor Swift shows in Rio de Janeiro after fan's death\\nCulture & Trends\\nThis Afro Latina actor touts the power behind journaling\\nCulture & Trends\\nPuerto Ricans are pushing to make these unique slang words officially Spanish\\nImmigration\\nMore asylum claims, illegal crossings along U.S.-Canada border, despite the dangers\\nYour personalized news, including saved and local stories\\nAccess these features with your free account.\\n\"}, {'url': 'https://news.google.com/topics/CAAqKggKIiRDQkFTRlFvSUwyMHZNRFZxYUdjU0JXVnVMVWRDR2dKSlRpZ0FQAQ', 'content': 'Get the headlines and latest news from Google News. Explore topics, full coverage, and personalized settings. Read, watch, or listen to the news that matters to you.'}]\u001b[0m\u001b[32;1m\u001b[1;3mHere are some of the latest hot news stories:\n",
      "\n",
      "1. **Geert Wilders Wins Big in Dutch Election**: In a significant political shift to the far right, anti-Islam populist Geert Wilders has achieved a notable victory in the Netherlands, with hopes among Europe’s far-right populists for further success. [Read more here](https://apnews.com/).\n",
      "\n",
      "2. **OpenAI's Turmoil**: Sam Altman has been reinstated as CEO of OpenAI just days after his controversial firing, a move that has heightened trust concerns in the AI community. [More details here](https://apnews.com/).\n",
      "\n",
      "3. **Ecuador's New Leadership**: Daniel Noboa has been sworn in as Ecuador’s president amidst a challenging political landscape. [Learn more about this story](https://apnews.com/).\n",
      "\n",
      "4. **Climate Crisis Developments**: A report indicates that the oil and gas sector must drastically reduce operations to combat climate change effectively. [Explore the findings here](https://apnews.com/).\n",
      "\n",
      "5. **Hostage Deal in Gaza**: A truce and hostage release in Gaza is set to begin, amid ongoing tensions and negotiations. [Read the latest updates](https://www.nbcnews.com/).\n",
      "\n",
      "6. **Health Alerts**: A deadly listeria outbreak has been linked to whole peaches, nectarines, and plums, prompting health warnings. [Check the health news here](https://www.nbcnews.com/).\n",
      "\n",
      "7. **Thanksgiving Day Events**: The Macy’s Thanksgiving Day Parade took place, featuring various floats and performances, including entertainment from Cher. [Recap the parade here](https://www.nbcnews.com/).\n",
      "\n",
      "8. **Crisis in China**: Hospitals in China are reportedly overwhelmed with sick children due to a surge in respiratory illnesses. [More on this situation](https://www.nbcnews.com/).\n",
      "\n",
      "For further details, you can check out major news outlets like [CNN](https://www.cnn.com/), [BBC](https://www.bbc.com/live/news), and [NBC News](https://www.nbcnews.com/).\u001b[0m\n",
      "\n",
      "\u001b[1m> Finished chain.\u001b[0m\n"
     ]
    },
    {
     "data": {
      "text/plain": [
       "{'input': 'Tell me latest hot news?',\n",
       " 'output': \"Here are some of the latest hot news stories:\\n\\n1. **Geert Wilders Wins Big in Dutch Election**: In a significant political shift to the far right, anti-Islam populist Geert Wilders has achieved a notable victory in the Netherlands, with hopes among Europe’s far-right populists for further success. [Read more here](https://apnews.com/).\\n\\n2. **OpenAI's Turmoil**: Sam Altman has been reinstated as CEO of OpenAI just days after his controversial firing, a move that has heightened trust concerns in the AI community. [More details here](https://apnews.com/).\\n\\n3. **Ecuador's New Leadership**: Daniel Noboa has been sworn in as Ecuador’s president amidst a challenging political landscape. [Learn more about this story](https://apnews.com/).\\n\\n4. **Climate Crisis Developments**: A report indicates that the oil and gas sector must drastically reduce operations to combat climate change effectively. [Explore the findings here](https://apnews.com/).\\n\\n5. **Hostage Deal in Gaza**: A truce and hostage release in Gaza is set to begin, amid ongoing tensions and negotiations. [Read the latest updates](https://www.nbcnews.com/).\\n\\n6. **Health Alerts**: A deadly listeria outbreak has been linked to whole peaches, nectarines, and plums, prompting health warnings. [Check the health news here](https://www.nbcnews.com/).\\n\\n7. **Thanksgiving Day Events**: The Macy’s Thanksgiving Day Parade took place, featuring various floats and performances, including entertainment from Cher. [Recap the parade here](https://www.nbcnews.com/).\\n\\n8. **Crisis in China**: Hospitals in China are reportedly overwhelmed with sick children due to a surge in respiratory illnesses. [More on this situation](https://www.nbcnews.com/).\\n\\nFor further details, you can check out major news outlets like [CNN](https://www.cnn.com/), [BBC](https://www.bbc.com/live/news), and [NBC News](https://www.nbcnews.com/).\"}"
      ]
     },
     "execution_count": 10,
     "metadata": {},
     "output_type": "execute_result"
    }
   ],
   "source": [
    "# query = \"What is the current exchange rate from USD to JPY?\"\n",
    "\n",
    "# query = \"get time series weekly data for Tesla?\"\n",
    "\n",
    "# query = \"get daily  data for Tesla?\"\n",
    "\n",
    "# query = \"get quote for Tesla?\"\n",
    "\n",
    "query = \"Tell me latest hot news?\"\n",
    "\n",
    "\n",
    "# response = agent_executor.invoke(query)\n",
    "\n",
    "agent_executor.invoke({\"input\": query})\n"
   ]
  },
  {
   "cell_type": "code",
   "execution_count": null,
   "metadata": {},
   "outputs": [],
   "source": []
  }
 ],
 "metadata": {
  "kernelspec": {
   "display_name": "Python 3",
   "language": "python",
   "name": "python3"
  },
  "language_info": {
   "codemirror_mode": {
    "name": "ipython",
    "version": 3
   },
   "file_extension": ".py",
   "mimetype": "text/x-python",
   "name": "python",
   "nbconvert_exporter": "python",
   "pygments_lexer": "ipython3",
   "version": "3.10.0"
  }
 },
 "nbformat": 4,
 "nbformat_minor": 2
}
