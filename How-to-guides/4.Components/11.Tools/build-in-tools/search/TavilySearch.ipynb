{
 "cells": [
  {
   "cell_type": "code",
   "execution_count": 1,
   "metadata": {},
   "outputs": [
    {
     "data": {
      "text/plain": [
       "True"
      ]
     },
     "execution_count": 1,
     "metadata": {},
     "output_type": "execute_result"
    }
   ],
   "source": [
    "import os\n",
    "from dotenv import load_dotenv\n",
    "load_dotenv()"
   ]
  },
  {
   "cell_type": "code",
   "execution_count": 4,
   "metadata": {},
   "outputs": [
    {
     "data": {
      "text/plain": [
       "\"[snippet: Former President Barack Obama released a letter about President Biden's decision to drop out of the 2024 presidential race. Notably, Obama did not name or endorse Vice President Kamala Harris., title: Read Obama's full statement on Biden dropping out - CBS News, link: https://www.cbsnews.com/news/barack-obama-biden-dropping-out-2024-presidential-race-full-statement/], [snippet: Barack Obama—with his wife, Michelle—being sworn in as the 44th president of the United States, January 20, 2009. Key events in the life of Barack Obama. Barack Obama (born August 4, 1961, Honolulu, Hawaii, U.S.) is the 44th president of the United States (2009-17) and the first African American to hold the office., title: Barack Obama | Biography, Parents, Education, Presidency, Books ..., link: https://www.britannica.com/biography/Barack-Obama], [snippet: Many of the marquee names in Democratic politics began quickly lining up behind Vice President Kamala Harris on Sunday, but one towering presence in the party held back: Barack Obama. The former ..., title: Why Obama Hasn't Endorsed Harris - The New York Times, link: https://www.nytimes.com/2024/07/21/us/politics/why-obama-hasnt-endorsed-harris.html], [snippet: Biden has long thought that Obama's staff looked down upon him and the president's aides still bristle when Obama allies like David Axelrod or the Pod Save America cast criticize the incumbent ..., title: Biden harbors lingering frustration at Pelosi, Obama, Schumer, link: https://www.politico.com/news/2024/08/14/biden-frustration-obama-pelosi-00173883]\""
      ]
     },
     "execution_count": 4,
     "metadata": {},
     "output_type": "execute_result"
    }
   ],
   "source": [
    "# DuckDuckGoSearchResuts \n",
    "\n",
    "from langchain_community.tools import DuckDuckGoSearchResults\n",
    "\n",
    "search = DuckDuckGoSearchResults()\n",
    "\n",
    "search.invoke(\"Obama\")"
   ]
  },
  {
   "cell_type": "code",
   "execution_count": 5,
   "metadata": {},
   "outputs": [
    {
     "data": {
      "text/plain": [
       "'[snippet: A former economic adviser to ex-President Barack Obama has expressed doubts pertaining to Vice President Kamala Harris\\' plan to combat rising grocery costs by banning \"corporate price gouging.\" Harris announced a series of economic policy proposals this week,, title: Ex-Obama Economic Adviser Casts Doubt on Kamala Harris Plan, link: https://www.msn.com/en-us/news/politics/ex-obama-economic-adviser-casts-doubt-on-kamala-harris-plan/ar-AA1oWaoY, date: 2024-08-16T22:41:04+00:00, source: Newsweek on MSN.com], [snippet: Former President Barack Obama\\'s summer playlist, an appropriate 44 songs strong, features terrific pop, rap, jazz and rock tracks both old and new., title: I listened to Barack Obama\\'s summer playlist. Here are my 13 favorite songs, link: https://www.usatoday.com/story/entertainment/music/2024/08/17/barack-obama-summer-playlist-13-highlights/74787328007/, date: 2024-08-17T21:00:00+00:00, source: USA Today], [snippet: Obama economic advisor Jason Furman ripped Vice President Kamala Harris\\' price fixing plan for corporations, saying there was \"no upside\" to the idea., title: Obama economist trashes Kamala Harris\\' price control plan: \\'This is not sensible policy\\', link: https://www.msn.com/en-us/news/politics/obama-economist-trashes-kamala-harris-price-control-plan-this-is-not-sensible-policy/ar-AA1oW17l, date: 2024-08-16T19:47:17+00:00, source: FOX News on MSN.com], [snippet: Former President Barack Obama\\'s top economist joined the chorus of experts critiquing Vice President Kamala Harris\\' proposed plan to lower, title: \\'Bad Case Scenario\\': Former Obama Economist Slams Kamala Harris\\' Plan For Nationwide \\'Price Controls\\', link: https://ijr.com/bad-case-scenario-former-obama-economist-slams-kamala-harris-plan-for-nationwide-price-controls/, date: 2024-08-17T19:31:00+00:00, source: IJR]'"
      ]
     },
     "execution_count": 5,
     "metadata": {},
     "output_type": "execute_result"
    }
   ],
   "source": [
    "\n",
    "search = DuckDuckGoSearchResults(backend=\"news\")\n",
    "\n",
    "search.invoke(\"Obama\")"
   ]
  },
  {
   "cell_type": "code",
   "execution_count": 7,
   "metadata": {},
   "outputs": [
    {
     "data": {
      "text/plain": [
       "\"[snippet: Obama is expected to speak Tuesday night while former President Bill Clinton is scheduled to speak Wednesday night before vice presidential nominee Tim Walz, the governor of Minnesota, gives his ..., title: DNC 2024 full schedule, dates, times, how to watch and livestream, link: https://www.usatoday.com/story/news/politics/elections/2024/08/18/dnc-2024-full-schedule-dates-times/74830659007/], [snippet: With the start of Obama's second term in 2013 — earlier than has been previously reported — Biden and his advisers began plotting his own presidential run, according to one of them. Their ..., title: Six Takeaways From the Magazine's Profile of Joe Biden, link: https://www.nytimes.com/2024/08/18/magazine/biden-presidency-legacy-takeaways.html], [snippet: Obama is due to speak on Tuesday evening, while former president Bill Clinton will speak on Wednesday, as will Walz. Hillary Clinton, who lost to Trump in 2016, will also address the convention., title: Harris gains ground in polls as bitter Biden fumes at Obama and Pelosi, link: https://inews.co.uk/news/world/harris-polls-bitter-biden-obama-pelosi-3233194?ico=related_stories], [snippet: En 2008, son poster Hope présentant Barack Obama sérigraphié aux couleurs du pays, en costume cravate, regard tourné vers l'horizon, était rapidement devenu viral. Une fois élu, l'ancien président n'avait pas manqué de remercier l'artiste pour son œuvre comme l'a rappelé Le Figaro, n'hésitant pas à la détourner dans d'autres campagnes de communication., title: Kamala Harris : l'artiste qui a inventé l'affiche Hope avec Barack ..., link: https://www.cnews.fr/monde/2024-08-18/kamala-harris-lartiste-qui-invente-laffiche-hope-avec-barack-obama-cree-un-nouveau]\""
      ]
     },
     "execution_count": 7,
     "metadata": {},
     "output_type": "execute_result"
    }
   ],
   "source": [
    "from langchain_community.utilities import DuckDuckGoSearchAPIWrapper\n",
    "\n",
    "wrapper = DuckDuckGoSearchAPIWrapper(backend=\"api\",region=\"in-en\", time=\"d\", max_results=2)\n",
    "\n",
    "search = DuckDuckGoSearchResults(api_wrapper=wrapper, source=\"news\")\n",
    "\n",
    "search.invoke(\"Obama\")"
   ]
  },
  {
   "cell_type": "code",
   "execution_count": 11,
   "metadata": {},
   "outputs": [],
   "source": [
    "from langchain_core.tools import tool\n",
    "@tool\n",
    "def DuckDuckGoSearchAPIWrapperTool(query:str): \n",
    "    \"\"\"Tool to perform internet search  using DuckDuckGo search browser\"\"\"\n",
    "    wrapper = DuckDuckGoSearchAPIWrapper(backend=\"api\",region=\"in-en\", time=\"d\", max_results=2)\n",
    "    search = DuckDuckGoSearchResults(api_wrapper=wrapper, source=\"news\")\n",
    "    return search.invoke(query)\n"
   ]
  },
  {
   "cell_type": "code",
   "execution_count": 12,
   "metadata": {},
   "outputs": [],
   "source": [
    "from langchain_openai import ChatOpenAI\n",
    "\n",
    "tools = [DuckDuckGoSearchAPIWrapperTool]\n",
    "\n",
    "llm = ChatOpenAI(model=\"gpt-4o-mini\")\n",
    "llm_with_tools = llm.bind_tools(tools)"
   ]
  },
  {
   "cell_type": "code",
   "execution_count": 13,
   "metadata": {},
   "outputs": [
    {
     "name": "stderr",
     "output_type": "stream",
     "text": [
      "c:\\Code\\Github\\LangChain-Basics\\venv\\lib\\site-packages\\langchain\\hub.py:86: DeprecationWarning: The `langchainhub sdk` is deprecated.\n",
      "Please use the `langsmith sdk` instead:\n",
      "  pip install langsmith\n",
      "Use the `pull_prompt` method.\n",
      "  res_dict = client.pull_repo(owner_repo_commit)\n"
     ]
    }
   ],
   "source": [
    "from langchain import hub\n",
    "from langchain.agents import create_tool_calling_agent\n",
    "\n",
    "# Get the prompt to use - you can modify this!\n",
    "prompt = hub.pull(\"hwchase17/openai-functions-agent\")\n",
    "prompt.messages\n",
    "\n",
    "agent = create_tool_calling_agent(llm, tools, prompt)"
   ]
  },
  {
   "cell_type": "code",
   "execution_count": 14,
   "metadata": {},
   "outputs": [],
   "source": [
    "from langchain.agents import AgentExecutor\n",
    "agent_executor = AgentExecutor(agent=agent, tools=tools, verbose=True)"
   ]
  },
  {
   "cell_type": "code",
   "execution_count": 15,
   "metadata": {},
   "outputs": [
    {
     "name": "stdout",
     "output_type": "stream",
     "text": [
      "\n",
      "\n",
      "\u001b[1m> Entering new AgentExecutor chain...\u001b[0m\n",
      "\u001b[32;1m\u001b[1;3m\n",
      "Invoking: `DuckDuckGoSearchAPIWrapperTool` with `{'query': 'latest news'}`\n",
      "\n",
      "\n",
      "\u001b[0m\u001b[36;1m\u001b[1;3m[snippet: Kolkata Doctor Rape-Murder Case LIVE Updates: The Union Home Ministry has asked all state police forces to provide it situation reports every two hours in the wake of protests by doctors, nursing staff and others against the alleged rape and murder of a postgraduate trainee doctor at state-run RG Kar Medical College and Hospital in Kolkata. In a communication to the state police forces, the home ministry said that the law and order situation of all states should be monitored in view of the ..., title: Kolkata Doctor Rape-Murder LIVE: SC Takes Suo Motu Cognizance ... - News18, link: https://www.news18.com/india/kolkata-doctor-rape-murder-case-live-updates-protests-rg-kar-medical-college-cbi-tmc-bjp-mamata-banerjee-latest-news-liveblog-9018970.html], [snippet: Stay here for real-time updates on breaking news from India and across the world that you can't miss: Explosions heard in Ukraine's capital Kyiv, Reuters reports According to the Reuters witness ..., title: Breaking News Live: Shiveluch volcano erupts after 7.0 magnitude ..., link: https://timesofindia.indiatimes.com/india/breaking-news-live-august-18/liveblog/112599579.cms], [snippet: India News Live Updates: Amid rumours of joining BJP ahead of state polls, former Jharkhand CM and JMM leader Champai Soren landed in Delhi on Sunday. ... Latest News. Foxconn working on plans to set up battery energy storage system unit in India Trademark infringement: Burger King loses legal battle against namesake Pune eatery Karunanidhi a towering figure in Indian politics, ..., title: India News Live Updates: Former Jharkhand CM and JMM leader Champai ..., link: https://economictimes.indiatimes.com/news/newsblogs/india-news-kolkata-rape-nepal-india-ukraine-russia-gaza-israel-war-rrts-august-18/liveblog/112599576.cms], [snippet: Latest News Today Live Updates: Today's news roundup to get a lowdown of global and local events and developments. This live blog gives you the day's most important news on current affairs you ..., title: Latest News Today Live Updates August 18, 2024: Beyond the noise ... - Mint, link: https://www.livemint.com/news/latest-news-today-live-updates-august-18-2024-11723941717849.html]\u001b[0m\u001b[32;1m\u001b[1;3mHere are some of the latest hot news updates:\n",
      "\n",
      "1. **Kolkata Doctor Rape-Murder Case**: The Union Home Ministry of India has requested all state police forces to provide situation reports every two hours following protests against the alleged rape and murder of a postgraduate trainee doctor in Kolkata. Protests have erupted among doctors and nursing staff, prompting the Home Ministry to monitor the law and order situation closely. [Read more here](https://www.news18.com/india/kolkata-doctor-rape-murder-case-live-updates-protests-rg-kar-medical-college-cbi-tmc-bjp-mamata-banerjee-latest-news-liveblog-9018970.html).\n",
      "\n",
      "2. **Explosions in Kyiv**: Reports indicate that explosions were heard in Ukraine's capital, Kyiv, as the situation continues to develop amid ongoing conflicts. [More details here](https://timesofindia.indiatimes.com/india/breaking-news-live-august-18/liveblog/112599579.cms).\n",
      "\n",
      "3. **Political Developments in India**: Former Jharkhand Chief Minister and JMM leader Champai Soren has arrived in Delhi amid rumors of joining the BJP ahead of state elections. [Find out more](https://economictimes.indiatimes.com/news/newsblogs/india-news-kolkata-rape-nepal-india-ukraine-russia-gaza-israel-war-rrts-august-18/liveblog/112599576.cms).\n",
      "\n",
      "4. **Global and Local News Roundup**: A comprehensive news roundup is available, covering the most important developments from around the world and local events. [Check the live updates here](https://www.livemint.com/news/latest-news-today-live-updates-august-18-2024-11723941717849.html).\n",
      "\n",
      "Stay tuned for more updates!\u001b[0m\n",
      "\n",
      "\u001b[1m> Finished chain.\u001b[0m\n"
     ]
    },
    {
     "data": {
      "text/plain": [
       "{'input': 'Tell me latest hot news?',\n",
       " 'output': \"Here are some of the latest hot news updates:\\n\\n1. **Kolkata Doctor Rape-Murder Case**: The Union Home Ministry of India has requested all state police forces to provide situation reports every two hours following protests against the alleged rape and murder of a postgraduate trainee doctor in Kolkata. Protests have erupted among doctors and nursing staff, prompting the Home Ministry to monitor the law and order situation closely. [Read more here](https://www.news18.com/india/kolkata-doctor-rape-murder-case-live-updates-protests-rg-kar-medical-college-cbi-tmc-bjp-mamata-banerjee-latest-news-liveblog-9018970.html).\\n\\n2. **Explosions in Kyiv**: Reports indicate that explosions were heard in Ukraine's capital, Kyiv, as the situation continues to develop amid ongoing conflicts. [More details here](https://timesofindia.indiatimes.com/india/breaking-news-live-august-18/liveblog/112599579.cms).\\n\\n3. **Political Developments in India**: Former Jharkhand Chief Minister and JMM leader Champai Soren has arrived in Delhi amid rumors of joining the BJP ahead of state elections. [Find out more](https://economictimes.indiatimes.com/news/newsblogs/india-news-kolkata-rape-nepal-india-ukraine-russia-gaza-israel-war-rrts-august-18/liveblog/112599576.cms).\\n\\n4. **Global and Local News Roundup**: A comprehensive news roundup is available, covering the most important developments from around the world and local events. [Check the live updates here](https://www.livemint.com/news/latest-news-today-live-updates-august-18-2024-11723941717849.html).\\n\\nStay tuned for more updates!\"}"
      ]
     },
     "execution_count": 15,
     "metadata": {},
     "output_type": "execute_result"
    }
   ],
   "source": [
    "# query = \"What is the current exchange rate from USD to JPY?\"\n",
    "\n",
    "# query = \"get time series weekly data for Tesla?\"\n",
    "\n",
    "# query = \"get daily  data for Tesla?\"\n",
    "\n",
    "# query = \"get quote for Tesla?\"\n",
    "\n",
    "query = \"Tell me latest hot news?\"\n",
    "\n",
    "\n",
    "# response = agent_executor.invoke(query)\n",
    "\n",
    "agent_executor.invoke({\"input\": query})\n"
   ]
  },
  {
   "cell_type": "code",
   "execution_count": null,
   "metadata": {},
   "outputs": [],
   "source": []
  }
 ],
 "metadata": {
  "kernelspec": {
   "display_name": "Python 3",
   "language": "python",
   "name": "python3"
  },
  "language_info": {
   "codemirror_mode": {
    "name": "ipython",
    "version": 3
   },
   "file_extension": ".py",
   "mimetype": "text/x-python",
   "name": "python",
   "nbconvert_exporter": "python",
   "pygments_lexer": "ipython3",
   "version": "3.10.0"
  }
 },
 "nbformat": 4,
 "nbformat_minor": 2
}
