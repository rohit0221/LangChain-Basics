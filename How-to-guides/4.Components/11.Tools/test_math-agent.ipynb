{
 "cells": [
  {
   "cell_type": "code",
   "execution_count": 1,
   "metadata": {},
   "outputs": [],
   "source": [
    "import math\n",
    "from typing import Annotated, Sequence\n",
    "\n",
    "import numexpr\n",
    "from langchain_core.messages import BaseMessage\n",
    "from langchain_core.runnables import RunnableConfig\n",
    "from langchain_core.tools import tool\n",
    "from langchain_openai import ChatOpenAI\n",
    "from langgraph.graph import START, END, StateGraph\n",
    "from langgraph.graph.message import add_messages\n",
    "from langgraph.prebuilt.tool_node import ToolNode\n",
    "from typing_extensions import TypedDict\n",
    "\n",
    "\n",
    "@tool\n",
    "def calculator(expression: str) -> str:\n",
    "    \"\"\"Calculate expression using Python's numexpr library.\n",
    "\n",
    "    Expression should be a single line mathematical expression\n",
    "    that solves the problem.\n",
    "\n",
    "    Examples:\n",
    "        \"37593 * 67\" for \"37593 times 67\"\n",
    "        \"37593**(1/5)\" for \"37593^(1/5)\"\n",
    "    \"\"\"\n",
    "    local_dict = {\"pi\": math.pi, \"e\": math.e}\n",
    "    return str(\n",
    "        numexpr.evaluate(\n",
    "            expression.strip(),\n",
    "            global_dict={},  # restrict access to globals\n",
    "            local_dict=local_dict,  # add common mathematical functions\n",
    "        )\n",
    "    )\n",
    "\n"
   ]
  },
  {
   "cell_type": "code",
   "execution_count": 2,
   "metadata": {},
   "outputs": [],
   "source": [
    "\n",
    "llm = ChatOpenAI(model=\"gpt-4o-mini\", temperature=0)\n",
    "tools = [calculator]\n",
    "llm_with_tools = llm.bind_tools(tools, tool_choice=\"any\")\n",
    "\n",
    "\n",
    "class ChainState(TypedDict):\n",
    "    \"\"\"LangGraph state.\"\"\"\n",
    "\n",
    "    messages: Annotated[Sequence[BaseMessage], add_messages]\n",
    "\n",
    "\n",
    "async def acall_chain(state: ChainState, config: RunnableConfig):\n",
    "    last_message = state[\"messages\"][-1]\n",
    "    response = await llm_with_tools.ainvoke(state[\"messages\"], config)\n",
    "    return {\"messages\": [response]}\n",
    "\n",
    "\n",
    "async def acall_model(state: ChainState, config: RunnableConfig):\n",
    "    response = await llm.ainvoke(state[\"messages\"], config)\n",
    "    return {\"messages\": [response]}\n"
   ]
  },
  {
   "cell_type": "code",
   "execution_count": 3,
   "metadata": {},
   "outputs": [],
   "source": [
    "graph_builder = StateGraph(ChainState)\n",
    "graph_builder.add_node(\"call_tool\", acall_chain)\n",
    "graph_builder.add_node(\"execute_tool\", ToolNode(tools))\n",
    "graph_builder.add_node(\"call_model\", acall_model)\n",
    "graph_builder.set_entry_point(\"call_tool\")\n",
    "graph_builder.add_edge(START, \"call_tool\")\n",
    "graph_builder.add_edge(\"call_tool\", \"execute_tool\")\n",
    "graph_builder.add_edge(\"execute_tool\", \"call_model\")\n",
    "graph_builder.add_edge(\"call_model\", END)\n",
    "chain = graph_builder.compile()"
   ]
  },
  {
   "cell_type": "code",
   "execution_count": 4,
   "metadata": {},
   "outputs": [
    {
     "data": {
      "image/jpeg": "[encoded data removed]",
      "text/plain": [
       "<IPython.core.display.Image object>"
      ]
     },
     "execution_count": 4,
     "metadata": {},
     "output_type": "execute_result"
    }
   ],
   "source": [
    "# Visualize chain:\n",
    "\n",
    "from IPython.display import Image\n",
    "\n",
    "Image(chain.get_graph().draw_mermaid_png())"
   ]
  },
  {
   "cell_type": "code",
   "execution_count": 5,
   "metadata": {},
   "outputs": [
    {
     "ename": "KeyError",
     "evalue": "'__start__'",
     "output_type": "error",
     "traceback": [
      "\u001b[1;31m---------------------------------------------------------------------------\u001b[0m",
      "\u001b[1;31mKeyError\u001b[0m                                  Traceback (most recent call last)",
      "Cell \u001b[1;32mIn[5], line 1\u001b[0m\n\u001b[1;32m----> 1\u001b[0m \u001b[43mchain\u001b[49m\u001b[38;5;241;43m.\u001b[39;49m\u001b[43minvoke\u001b[49m\u001b[43m(\u001b[49m\u001b[38;5;124;43m\"\u001b[39;49m\u001b[38;5;124;43mif i have 4563 apples and i get 34567 more apples. then i give someone 678 apple. How many apples will i be left?\u001b[39;49m\u001b[38;5;124;43m\"\u001b[39;49m\u001b[43m)\u001b[49m\n",
      "File \u001b[1;32mc:\\Code\\Github\\LangChain-Basics\\venv\\lib\\site-packages\\langgraph\\pregel\\__init__.py:1249\u001b[0m, in \u001b[0;36mPregel.invoke\u001b[1;34m(self, input, config, stream_mode, output_keys, input_keys, interrupt_before, interrupt_after, debug, **kwargs)\u001b[0m\n\u001b[0;32m   1247\u001b[0m \u001b[38;5;28;01melse\u001b[39;00m:\n\u001b[0;32m   1248\u001b[0m     chunks \u001b[38;5;241m=\u001b[39m []\n\u001b[1;32m-> 1249\u001b[0m \u001b[38;5;28;01mfor\u001b[39;00m chunk \u001b[38;5;129;01min\u001b[39;00m \u001b[38;5;28mself\u001b[39m\u001b[38;5;241m.\u001b[39mstream(\n\u001b[0;32m   1250\u001b[0m     \u001b[38;5;28minput\u001b[39m,\n\u001b[0;32m   1251\u001b[0m     config,\n\u001b[0;32m   1252\u001b[0m     stream_mode\u001b[38;5;241m=\u001b[39mstream_mode,\n\u001b[0;32m   1253\u001b[0m     output_keys\u001b[38;5;241m=\u001b[39moutput_keys,\n\u001b[0;32m   1254\u001b[0m     input_keys\u001b[38;5;241m=\u001b[39minput_keys,\n\u001b[0;32m   1255\u001b[0m     interrupt_before\u001b[38;5;241m=\u001b[39minterrupt_before,\n\u001b[0;32m   1256\u001b[0m     interrupt_after\u001b[38;5;241m=\u001b[39minterrupt_after,\n\u001b[0;32m   1257\u001b[0m     debug\u001b[38;5;241m=\u001b[39mdebug,\n\u001b[0;32m   1258\u001b[0m     \u001b[38;5;241m*\u001b[39m\u001b[38;5;241m*\u001b[39mkwargs,\n\u001b[0;32m   1259\u001b[0m ):\n\u001b[0;32m   1260\u001b[0m     \u001b[38;5;28;01mif\u001b[39;00m stream_mode \u001b[38;5;241m==\u001b[39m \u001b[38;5;124m\"\u001b[39m\u001b[38;5;124mvalues\u001b[39m\u001b[38;5;124m\"\u001b[39m:\n\u001b[0;32m   1261\u001b[0m         latest \u001b[38;5;241m=\u001b[39m chunk\n",
      "File \u001b[1;32mc:\\Code\\Github\\LangChain-Basics\\venv\\lib\\site-packages\\langgraph\\pregel\\__init__.py:740\u001b[0m, in \u001b[0;36mPregel.stream\u001b[1;34m(self, input, config, stream_mode, output_keys, input_keys, interrupt_before, interrupt_after, debug)\u001b[0m\n\u001b[0;32m    730\u001b[0m \u001b[38;5;28;01mwith\u001b[39;00m ChannelsManager(\n\u001b[0;32m    731\u001b[0m     \u001b[38;5;28mself\u001b[39m\u001b[38;5;241m.\u001b[39mchannels, checkpoint\n\u001b[0;32m    732\u001b[0m ) \u001b[38;5;28;01mas\u001b[39;00m channels, get_executor_for_config(\n\u001b[1;32m   (...)\u001b[0m\n\u001b[0;32m    736\u001b[0m ) \u001b[38;5;28;01mas\u001b[39;00m managed:\n\u001b[0;32m    737\u001b[0m     \u001b[38;5;66;03m# map inputs to channel updates\u001b[39;00m\n\u001b[0;32m    738\u001b[0m     \u001b[38;5;28;01mif\u001b[39;00m input_writes \u001b[38;5;241m:=\u001b[39m deque(map_input(input_keys, \u001b[38;5;28minput\u001b[39m)):\n\u001b[0;32m    739\u001b[0m         \u001b[38;5;66;03m# discard any unfinished tasks from previous checkpoint\u001b[39;00m\n\u001b[1;32m--> 740\u001b[0m         checkpoint, _ \u001b[38;5;241m=\u001b[39m \u001b[43m_prepare_next_tasks\u001b[49m\u001b[43m(\u001b[49m\n\u001b[0;32m    741\u001b[0m \u001b[43m            \u001b[49m\u001b[43mcheckpoint\u001b[49m\u001b[43m,\u001b[49m\n\u001b[0;32m    742\u001b[0m \u001b[43m            \u001b[49m\u001b[43mprocesses\u001b[49m\u001b[43m,\u001b[49m\n\u001b[0;32m    743\u001b[0m \u001b[43m            \u001b[49m\u001b[43mchannels\u001b[49m\u001b[43m,\u001b[49m\n\u001b[0;32m    744\u001b[0m \u001b[43m            \u001b[49m\u001b[43mmanaged\u001b[49m\u001b[43m,\u001b[49m\n\u001b[0;32m    745\u001b[0m \u001b[43m            \u001b[49m\u001b[43mconfig\u001b[49m\u001b[43m,\u001b[49m\n\u001b[0;32m    746\u001b[0m \u001b[43m            \u001b[49m\u001b[38;5;241;43m-\u001b[39;49m\u001b[38;5;241;43m1\u001b[39;49m\u001b[43m,\u001b[49m\n\u001b[0;32m    747\u001b[0m \u001b[43m            \u001b[49m\u001b[43mfor_execution\u001b[49m\u001b[38;5;241;43m=\u001b[39;49m\u001b[38;5;28;43;01mTrue\u001b[39;49;00m\u001b[43m,\u001b[49m\n\u001b[0;32m    748\u001b[0m \u001b[43m        \u001b[49m\u001b[43m)\u001b[49m\n\u001b[0;32m    749\u001b[0m         \u001b[38;5;66;03m# apply input writes\u001b[39;00m\n\u001b[0;32m    750\u001b[0m         _apply_writes(checkpoint, channels, input_writes)\n",
      "File \u001b[1;32mc:\\Code\\Github\\LangChain-Basics\\venv\\lib\\site-packages\\langgraph\\pregel\\__init__.py:1472\u001b[0m, in \u001b[0;36m_prepare_next_tasks\u001b[1;34m(checkpoint, processes, channels, managed, config, step, for_execution, manager)\u001b[0m\n\u001b[0;32m   1469\u001b[0m \u001b[38;5;66;03m# Check if any processes should be run in next step\u001b[39;00m\n\u001b[0;32m   1470\u001b[0m \u001b[38;5;66;03m# If so, prepare the values to be passed to them\u001b[39;00m\n\u001b[0;32m   1471\u001b[0m \u001b[38;5;28;01mfor\u001b[39;00m name, proc \u001b[38;5;129;01min\u001b[39;00m processes\u001b[38;5;241m.\u001b[39mitems():\n\u001b[1;32m-> 1472\u001b[0m     seen \u001b[38;5;241m=\u001b[39m \u001b[43mcheckpoint\u001b[49m\u001b[43m[\u001b[49m\u001b[38;5;124;43m\"\u001b[39;49m\u001b[38;5;124;43mversions_seen\u001b[39;49m\u001b[38;5;124;43m\"\u001b[39;49m\u001b[43m]\u001b[49m\u001b[43m[\u001b[49m\u001b[43mname\u001b[49m\u001b[43m]\u001b[49m\n\u001b[0;32m   1473\u001b[0m     \u001b[38;5;66;03m# If any of the channels read by this process were updated\u001b[39;00m\n\u001b[0;32m   1474\u001b[0m     \u001b[38;5;28;01mif\u001b[39;00m triggers \u001b[38;5;241m:=\u001b[39m [\n\u001b[0;32m   1475\u001b[0m         chan\n\u001b[0;32m   1476\u001b[0m         \u001b[38;5;28;01mfor\u001b[39;00m chan \u001b[38;5;129;01min\u001b[39;00m proc\u001b[38;5;241m.\u001b[39mtriggers\n\u001b[1;32m   (...)\u001b[0m\n\u001b[0;32m   1482\u001b[0m         \u001b[38;5;66;03m# If all trigger channels subscribed by this process are not empty\u001b[39;00m\n\u001b[0;32m   1483\u001b[0m         \u001b[38;5;66;03m# then invoke the process with the values of all non-empty channels\u001b[39;00m\n",
      "\u001b[1;31mKeyError\u001b[0m: '__start__'"
     ]
    }
   ],
   "source": [
    "chain.invoke(\"if i have 4563 apples and i get 34567 more apples. then i give someone 678 apple. How many apples will i be left?\")"
   ]
  },
  {
   "cell_type": "code",
   "execution_count": null,
   "metadata": {},
   "outputs": [
    {
     "ename": "KeyError",
     "evalue": "'__start__'",
     "output_type": "error",
     "traceback": [
      "\u001b[1;31m---------------------------------------------------------------------------\u001b[0m",
      "\u001b[1;31mKeyError\u001b[0m                                  Traceback (most recent call last)",
      "Cell \u001b[1;32mIn[16], line 12\u001b[0m\n\u001b[0;32m      6\u001b[0m initial_state \u001b[38;5;241m=\u001b[39m {\u001b[38;5;124m\"\u001b[39m\u001b[38;5;124mmessages\u001b[39m\u001b[38;5;124m\"\u001b[39m: [HumanMessage(content\u001b[38;5;241m=\u001b[39mexample_query)]}\n\u001b[0;32m      8\u001b[0m events \u001b[38;5;241m=\u001b[39m chain\u001b[38;5;241m.\u001b[39mastream(\n\u001b[0;32m      9\u001b[0m     {\u001b[38;5;124m\"\u001b[39m\u001b[38;5;124mmessages\u001b[39m\u001b[38;5;124m\"\u001b[39m: [(\u001b[38;5;124m\"\u001b[39m\u001b[38;5;124muser\u001b[39m\u001b[38;5;124m\"\u001b[39m, example_query)]},\n\u001b[0;32m     10\u001b[0m     stream_mode\u001b[38;5;241m=\u001b[39m\u001b[38;5;124m\"\u001b[39m\u001b[38;5;124mvalues\u001b[39m\u001b[38;5;124m\"\u001b[39m,\n\u001b[0;32m     11\u001b[0m )\n\u001b[1;32m---> 12\u001b[0m \u001b[38;5;28;01masync\u001b[39;00m \u001b[38;5;28;01mfor\u001b[39;00m event \u001b[38;5;129;01min\u001b[39;00m events:\n\u001b[0;32m     13\u001b[0m     event[\u001b[38;5;124m\"\u001b[39m\u001b[38;5;124mmessages\u001b[39m\u001b[38;5;124m\"\u001b[39m][\u001b[38;5;241m-\u001b[39m\u001b[38;5;241m1\u001b[39m]\u001b[38;5;241m.\u001b[39mpretty_print()\n",
      "File \u001b[1;32mc:\\Code\\Github\\LangChain-Basics\\venv\\lib\\site-packages\\langgraph\\pregel\\__init__.py:1012\u001b[0m, in \u001b[0;36mPregel.astream\u001b[1;34m(self, input, config, stream_mode, output_keys, input_keys, interrupt_before, interrupt_after, debug)\u001b[0m\n\u001b[0;32m   1004\u001b[0m \u001b[38;5;28;01masync\u001b[39;00m \u001b[38;5;28;01mwith\u001b[39;00m AsyncChannelsManager(\n\u001b[0;32m   1005\u001b[0m     \u001b[38;5;28mself\u001b[39m\u001b[38;5;241m.\u001b[39mchannels, checkpoint\n\u001b[0;32m   1006\u001b[0m ) \u001b[38;5;28;01mas\u001b[39;00m channels, AsyncManagedValuesManager(\n\u001b[0;32m   1007\u001b[0m     \u001b[38;5;28mself\u001b[39m\u001b[38;5;241m.\u001b[39mmanaged_values_dict, config, \u001b[38;5;28mself\u001b[39m\n\u001b[0;32m   1008\u001b[0m ) \u001b[38;5;28;01mas\u001b[39;00m managed:\n\u001b[0;32m   1009\u001b[0m     \u001b[38;5;66;03m# map inputs to channel updates\u001b[39;00m\n\u001b[0;32m   1010\u001b[0m     \u001b[38;5;28;01mif\u001b[39;00m input_writes \u001b[38;5;241m:=\u001b[39m deque(map_input(input_keys, \u001b[38;5;28minput\u001b[39m)):\n\u001b[0;32m   1011\u001b[0m         \u001b[38;5;66;03m# discard any unfinished tasks from previous checkpoint\u001b[39;00m\n\u001b[1;32m-> 1012\u001b[0m         checkpoint, _ \u001b[38;5;241m=\u001b[39m \u001b[43m_prepare_next_tasks\u001b[49m\u001b[43m(\u001b[49m\n\u001b[0;32m   1013\u001b[0m \u001b[43m            \u001b[49m\u001b[43mcheckpoint\u001b[49m\u001b[43m,\u001b[49m\n\u001b[0;32m   1014\u001b[0m \u001b[43m            \u001b[49m\u001b[43mprocesses\u001b[49m\u001b[43m,\u001b[49m\n\u001b[0;32m   1015\u001b[0m \u001b[43m            \u001b[49m\u001b[43mchannels\u001b[49m\u001b[43m,\u001b[49m\n\u001b[0;32m   1016\u001b[0m \u001b[43m            \u001b[49m\u001b[43mmanaged\u001b[49m\u001b[43m,\u001b[49m\n\u001b[0;32m   1017\u001b[0m \u001b[43m            \u001b[49m\u001b[43mconfig\u001b[49m\u001b[43m,\u001b[49m\n\u001b[0;32m   1018\u001b[0m \u001b[43m            \u001b[49m\u001b[38;5;241;43m-\u001b[39;49m\u001b[38;5;241;43m1\u001b[39;49m\u001b[43m,\u001b[49m\n\u001b[0;32m   1019\u001b[0m \u001b[43m            \u001b[49m\u001b[43mfor_execution\u001b[49m\u001b[38;5;241;43m=\u001b[39;49m\u001b[38;5;28;43;01mTrue\u001b[39;49;00m\u001b[43m,\u001b[49m\n\u001b[0;32m   1020\u001b[0m \u001b[43m        \u001b[49m\u001b[43m)\u001b[49m\n\u001b[0;32m   1021\u001b[0m         \u001b[38;5;66;03m# apply input writes\u001b[39;00m\n\u001b[0;32m   1022\u001b[0m         _apply_writes(checkpoint, channels, input_writes)\n",
      "File \u001b[1;32mc:\\Code\\Github\\LangChain-Basics\\venv\\lib\\site-packages\\langgraph\\pregel\\__init__.py:1472\u001b[0m, in \u001b[0;36m_prepare_next_tasks\u001b[1;34m(checkpoint, processes, channels, managed, config, step, for_execution, manager)\u001b[0m\n\u001b[0;32m   1469\u001b[0m \u001b[38;5;66;03m# Check if any processes should be run in next step\u001b[39;00m\n\u001b[0;32m   1470\u001b[0m \u001b[38;5;66;03m# If so, prepare the values to be passed to them\u001b[39;00m\n\u001b[0;32m   1471\u001b[0m \u001b[38;5;28;01mfor\u001b[39;00m name, proc \u001b[38;5;129;01min\u001b[39;00m processes\u001b[38;5;241m.\u001b[39mitems():\n\u001b[1;32m-> 1472\u001b[0m     seen \u001b[38;5;241m=\u001b[39m \u001b[43mcheckpoint\u001b[49m\u001b[43m[\u001b[49m\u001b[38;5;124;43m\"\u001b[39;49m\u001b[38;5;124;43mversions_seen\u001b[39;49m\u001b[38;5;124;43m\"\u001b[39;49m\u001b[43m]\u001b[49m\u001b[43m[\u001b[49m\u001b[43mname\u001b[49m\u001b[43m]\u001b[49m\n\u001b[0;32m   1473\u001b[0m     \u001b[38;5;66;03m# If any of the channels read by this process were updated\u001b[39;00m\n\u001b[0;32m   1474\u001b[0m     \u001b[38;5;28;01mif\u001b[39;00m triggers \u001b[38;5;241m:=\u001b[39m [\n\u001b[0;32m   1475\u001b[0m         chan\n\u001b[0;32m   1476\u001b[0m         \u001b[38;5;28;01mfor\u001b[39;00m chan \u001b[38;5;129;01min\u001b[39;00m proc\u001b[38;5;241m.\u001b[39mtriggers\n\u001b[1;32m   (...)\u001b[0m\n\u001b[0;32m   1482\u001b[0m         \u001b[38;5;66;03m# If all trigger channels subscribed by this process are not empty\u001b[39;00m\n\u001b[0;32m   1483\u001b[0m         \u001b[38;5;66;03m# then invoke the process with the values of all non-empty channels\u001b[39;00m\n",
      "\u001b[1;31mKeyError\u001b[0m: '__start__'"
     ]
    }
   ],
   "source": [
    "# Stream chain steps:\n",
    "from langchain_core.messages import BaseMessage, HumanMessage\n",
    "\n",
    "example_query = \"What is 551368 divided by 82\"\n",
    "\n",
    "initial_state = {\"messages\": [HumanMessage(content=example_query)]}\n",
    "\n",
    "events = chain.astream(\n",
    "    {\"messages\": [(\"user\", example_query)]},\n",
    "    stream_mode=\"values\",\n",
    ")\n",
    "async for event in events:\n",
    "    event[\"messages\"][-1].pretty_print()"
   ]
  },
  {
   "cell_type": "code",
   "execution_count": null,
   "metadata": {},
   "outputs": [],
   "source": []
  },
  {
   "cell_type": "code",
   "execution_count": null,
   "metadata": {},
   "outputs": [],
   "source": []
  },
  {
   "cell_type": "code",
   "execution_count": null,
   "metadata": {},
   "outputs": [],
   "source": []
  },
  {
   "cell_type": "code",
   "execution_count": null,
   "metadata": {},
   "outputs": [],
   "source": []
  },
  {
   "cell_type": "code",
   "execution_count": null,
   "metadata": {},
   "outputs": [],
   "source": []
  },
  {
   "cell_type": "code",
   "execution_count": null,
   "metadata": {},
   "outputs": [],
   "source": []
  },
  {
   "cell_type": "code",
   "execution_count": null,
   "metadata": {},
   "outputs": [],
   "source": [
    "import math\n",
    "from typing import Annotated, Sequence\n",
    "\n",
    "import numexpr\n",
    "from langchain_core.messages import BaseMessage, HumanMessage\n",
    "from langchain_core.runnables import RunnableConfig\n",
    "from langchain_core.tools import tool\n",
    "from langchain_openai import ChatOpenAI\n",
    "from langgraph.graph import END, StateGraph\n",
    "from langgraph.graph.message import add_messages\n",
    "from langgraph.prebuilt.tool_node import ToolNode\n",
    "from typing_extensions import TypedDict\n",
    "\n",
    "\n",
    "@tool\n",
    "def calculator(expression: str) -> str:\n",
    "    \"\"\"Calculate expression using Python's numexpr library.\n",
    "\n",
    "    Expression should be a single line mathematical expression\n",
    "    that solves the problem.\n",
    "\n",
    "    Examples:\n",
    "        \"37593 * 67\" for \"37593 times 67\"\n",
    "        \"37593**(1/5)\" for \"37593^(1/5)\"\n",
    "    \"\"\"\n",
    "    local_dict = {\"pi\": math.pi, \"e\": math.e}\n",
    "    return str(\n",
    "        numexpr.evaluate(\n",
    "            expression.strip(),\n",
    "            global_dict={},  # restrict access to globals\n",
    "            local_dict=local_dict,  # add common mathematical functions\n",
    "        )\n",
    "    )\n",
    "\n",
    "\n",
    "llm = ChatOpenAI(model=\"gpt-4o-mini\", temperature=0)\n",
    "tools = [calculator]\n",
    "llm_with_tools = llm.bind_tools(tools, tool_choice=\"any\")\n",
    "\n",
    "\n",
    "class ChainState(TypedDict):\n",
    "    \"\"\"LangGraph state.\"\"\"\n",
    "\n",
    "    messages: Annotated[Sequence[BaseMessage], add_messages]\n",
    "\n",
    "\n",
    "async def acall_chain(state: ChainState, config: RunnableConfig):\n",
    "    response = await llm_with_tools.ainvoke(state[\"messages\"], config)\n",
    "    return {\"messages\": state[\"messages\"] + [response]}\n",
    "\n",
    "\n",
    "async def acall_model(state: ChainState, config: RunnableConfig):\n",
    "    response = await llm.ainvoke(state[\"messages\"], config)\n",
    "    return {\"messages\": state[\"messages\"] + [response]}\n",
    "\n",
    "\n",
    "graph_builder = StateGraph(ChainState)\n",
    "graph_builder.add_node(\"call_tool\", acall_chain)\n",
    "graph_builder.add_node(\"execute_tool\", ToolNode(tools))\n",
    "graph_builder.add_node(\"call_model\", acall_model)\n",
    "graph_builder.set_entry_point(\"call_tool\")\n",
    "graph_builder.add_edge(\"call_tool\", \"execute_tool\")\n",
    "graph_builder.add_edge(\"execute_tool\", \"call_model\")\n",
    "graph_builder.add_edge(\"call_model\", END)\n",
    "chain = graph_builder.compile()\n",
    "\n"
   ]
  },
  {
   "cell_type": "code",
   "execution_count": null,
   "metadata": {},
   "outputs": [],
   "source": [
    "# Test the chain with an example query\n",
    "example_query = \"What is 551368 divided by 82\"\n",
    "\n",
    "# Initializing the input state\n",
    "initial_state = {\"messages\": [HumanMessage(content=example_query)]}\n",
    "\n",
    "# Run the chain asynchronously\n",
    "events = chain.astream(initial_state, stream_mode=\"values\")\n",
    "\n",
    "async for event in events:\n",
    "    event[\"messages\"][-1].pretty_print()\n"
   ]
  },
  {
   "cell_type": "code",
   "execution_count": null,
   "metadata": {},
   "outputs": [],
   "source": []
  }
 ],
 "metadata": {
  "kernelspec": {
   "display_name": "venv",
   "language": "python",
   "name": "python3"
  },
  "language_info": {
   "codemirror_mode": {
    "name": "ipython",
    "version": 3
   },
   "file_extension": ".py",
   "mimetype": "text/x-python",
   "name": "python",
   "nbconvert_exporter": "python",
   "pygments_lexer": "ipython3",
   "version": "3.10.0"
  }
 },
 "nbformat": 4,
 "nbformat_minor": 2
}
