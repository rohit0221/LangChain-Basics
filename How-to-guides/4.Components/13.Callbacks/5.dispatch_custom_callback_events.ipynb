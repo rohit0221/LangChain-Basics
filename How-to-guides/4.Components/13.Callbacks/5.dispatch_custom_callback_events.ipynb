{
 "cells": [
  {
   "attachments": {
    "image.png": {
     "image/png": "[encoded data removed]"
    }
   },
   "cell_type": "markdown",
   "metadata": {},
   "source": [
    "# How to dispatch custom callback events\n",
    "\n",
    "\n",
    "In some situations, you may want to dipsatch a custom callback event from within a ```Runnable``` so it can be surfaced in a custom callback handler or via the Astream Events API.\n",
    "\n",
    "For example, if you have a long running tool with multiple steps, you can dispatch custom events between the steps and use these custom events to monitor progress. You could also surface these custom events to an end user of your application to show them how the current task is progressing.\n",
    "\n",
    "To dispatch a custom event you need to decide on two attributes for the event: the ```name``` and the ```data```.\n",
    "\n",
    "![image.png](attachment:image.png)"
   ]
  },
  {
   "cell_type": "code",
   "execution_count": 7,
   "metadata": {},
   "outputs": [
    {
     "name": "stdout",
     "output_type": "stream",
     "text": [
      "{'event': 'on_chain_start', 'data': {'input': 'hello world'}, 'name': 'foo', 'tags': [], 'run_id': '7c26e434-e293-43fa-b020-65f0cf5e7127', 'metadata': {}, 'parent_ids': []}\n",
      "{'event': 'on_custom_event', 'run_id': '7c26e434-e293-43fa-b020-65f0cf5e7127', 'name': 'event1', 'tags': [], 'metadata': {}, 'data': {'x': 'hello world'}, 'parent_ids': []}\n",
      "{'event': 'on_custom_event', 'run_id': '7c26e434-e293-43fa-b020-65f0cf5e7127', 'name': 'event2', 'tags': [], 'metadata': {}, 'data': 5, 'parent_ids': []}\n",
      "{'event': 'on_chain_stream', 'run_id': '7c26e434-e293-43fa-b020-65f0cf5e7127', 'name': 'foo', 'tags': [], 'metadata': {}, 'data': {'chunk': 'hello world'}, 'parent_ids': []}\n",
      "{'event': 'on_chain_end', 'data': {'output': 'hello world'}, 'run_id': '7c26e434-e293-43fa-b020-65f0cf5e7127', 'name': 'foo', 'tags': [], 'metadata': {}, 'parent_ids': []}\n"
     ]
    }
   ],
   "source": [
    "from langchain_core.callbacks.manager import (\n",
    "    adispatch_custom_event,\n",
    ")\n",
    "from langchain_core.runnables import RunnableLambda\n",
    "from langchain_core.runnables.config import RunnableConfig\n",
    "\n",
    "\n",
    "@RunnableLambda\n",
    "async def foo(x: str, config: RunnableConfig) -> str:\n",
    "    await adispatch_custom_event(\"event1\", {\"x\": x}, config=config)\n",
    "    await adispatch_custom_event(\"event2\", 5, config=config)\n",
    "    return x\n",
    "\n",
    "\n",
    "async for event in foo.astream_events(\"hello world\", version=\"v2\"):\n",
    "    print(event)"
   ]
  },
  {
   "cell_type": "code",
   "execution_count": 3,
   "metadata": {},
   "outputs": [],
   "source": [
    "from langchain_core.callbacks.manager import (\n",
    "    adispatch_custom_event,\n",
    ")\n",
    "from langchain_core.runnables import RunnableLambda\n",
    "from langchain_core.runnables.config import RunnableConfig"
   ]
  },
  {
   "cell_type": "code",
   "execution_count": 4,
   "metadata": {},
   "outputs": [
    {
     "name": "stdout",
     "output_type": "stream",
     "text": [
      "{'event': 'on_chain_start', 'data': {'input': 'hello world'}, 'name': 'bar', 'tags': [], 'run_id': 'd743516f-488c-4ae4-9a68-89be0195bffb', 'metadata': {}, 'parent_ids': []}\n",
      "{'event': 'on_custom_event', 'run_id': 'd743516f-488c-4ae4-9a68-89be0195bffb', 'name': 'event1', 'tags': [], 'metadata': {}, 'data': {'x': 'hello world'}, 'parent_ids': []}\n",
      "{'event': 'on_custom_event', 'run_id': 'd743516f-488c-4ae4-9a68-89be0195bffb', 'name': 'event2', 'tags': [], 'metadata': {}, 'data': 5, 'parent_ids': []}\n",
      "{'event': 'on_chain_stream', 'run_id': 'd743516f-488c-4ae4-9a68-89be0195bffb', 'name': 'bar', 'tags': [], 'metadata': {}, 'data': {'chunk': 'hello world'}, 'parent_ids': []}\n",
      "{'event': 'on_chain_end', 'data': {'output': 'hello world'}, 'run_id': 'd743516f-488c-4ae4-9a68-89be0195bffb', 'name': 'bar', 'tags': [], 'metadata': {}, 'parent_ids': []}\n"
     ]
    }
   ],
   "source": [
    "@RunnableLambda\n",
    "async def bar(x: str, config: RunnableConfig) -> str:\n",
    "    \"\"\"An example that shows how to manually propagate config.\n",
    "\n",
    "    You must do this if you're running python<=3.10.\n",
    "    \"\"\"\n",
    "    await adispatch_custom_event(\"event1\", {\"x\": x}, config=config)\n",
    "    await adispatch_custom_event(\"event2\", 5, config=config)\n",
    "    return x\n",
    "\n",
    "\n",
    "async for event in bar.astream_events(\"hello world\", version=\"v2\"):\n",
    "    print(event)"
   ]
  },
  {
   "cell_type": "markdown",
   "metadata": {},
   "source": [
    "# Async Callback Handler\n",
    "\n",
    "You can also consume the dispatched event via an async callback handler.\n",
    "\n"
   ]
  },
  {
   "cell_type": "code",
   "execution_count": 8,
   "metadata": {},
   "outputs": [
    {
     "name": "stdout",
     "output_type": "stream",
     "text": [
      "Received event event1 with data: {'x': 1}, with tags: ['foo', 'bar'], with metadata: {} and run_id: 84d37859-10a7-4999-a9f0-ce4b616a94af\n",
      "Received event event2 with data: 5, with tags: ['foo', 'bar'], with metadata: {} and run_id: 84d37859-10a7-4999-a9f0-ce4b616a94af\n"
     ]
    },
    {
     "data": {
      "text/plain": [
       "1"
      ]
     },
     "execution_count": 8,
     "metadata": {},
     "output_type": "execute_result"
    }
   ],
   "source": [
    "from typing import Any, Dict, List, Optional\n",
    "from uuid import UUID\n",
    "\n",
    "from langchain_core.callbacks import AsyncCallbackHandler\n",
    "from langchain_core.callbacks.manager import (\n",
    "    adispatch_custom_event,\n",
    ")\n",
    "from langchain_core.runnables import RunnableLambda\n",
    "from langchain_core.runnables.config import RunnableConfig\n",
    "\n",
    "\n",
    "class AsyncCustomCallbackHandler(AsyncCallbackHandler):\n",
    "    async def on_custom_event(\n",
    "        self,\n",
    "        name: str,\n",
    "        data: Any,\n",
    "        *,\n",
    "        run_id: UUID,\n",
    "        tags: Optional[List[str]] = None,\n",
    "        metadata: Optional[Dict[str, Any]] = None,\n",
    "        **kwargs: Any,\n",
    "    ) -> None:\n",
    "        print(\n",
    "            f\"Received event {name} with data: {data}, with tags: {tags}, with metadata: {metadata} and run_id: {run_id}\"\n",
    "        )\n",
    "\n",
    "\n",
    "@RunnableLambda\n",
    "async def bar(x: str, config: RunnableConfig) -> str:\n",
    "    \"\"\"An example that shows how to manually propagate config.\n",
    "\n",
    "    You must do this if you're running python<=3.10.\n",
    "    \"\"\"\n",
    "    await adispatch_custom_event(\"event1\", {\"x\": x}, config=config)\n",
    "    await adispatch_custom_event(\"event2\", 5, config=config)\n",
    "    return x\n",
    "\n",
    "\n",
    "async_handler = AsyncCustomCallbackHandler()\n",
    "await foo.ainvoke(1, {\"callbacks\": [async_handler], \"tags\": [\"foo\", \"bar\"]})"
   ]
  },
  {
   "cell_type": "markdown",
   "metadata": {},
   "source": [
    "# Sync Callback Handler\n",
    "Let's see how to emit custom events in a sync environment using ```dispatch_custom_event```.\n",
    "\n",
    "You must call ```dispatch_custom_event``` from within an existing ```Runnable```."
   ]
  },
  {
   "cell_type": "code",
   "execution_count": 9,
   "metadata": {},
   "outputs": [
    {
     "name": "stdout",
     "output_type": "stream",
     "text": [
      "Received event event1 with data: {'x': 1}, with tags: ['foo', 'bar'], with metadata: {} and run_id: 6a4ec94d-ac24-46a6-b366-9c3e76143408\n",
      "Received event event2 with data: {'x': 1}, with tags: ['foo', 'bar'], with metadata: {} and run_id: 6a4ec94d-ac24-46a6-b366-9c3e76143408\n"
     ]
    },
    {
     "data": {
      "text/plain": [
       "1"
      ]
     },
     "execution_count": 9,
     "metadata": {},
     "output_type": "execute_result"
    }
   ],
   "source": [
    "from typing import Any, Dict, List, Optional\n",
    "from uuid import UUID\n",
    "\n",
    "from langchain_core.callbacks import BaseCallbackHandler\n",
    "from langchain_core.callbacks.manager import (\n",
    "    dispatch_custom_event,\n",
    ")\n",
    "from langchain_core.runnables import RunnableLambda\n",
    "from langchain_core.runnables.config import RunnableConfig\n",
    "\n",
    "\n",
    "class CustomHandler(BaseCallbackHandler):\n",
    "    def on_custom_event(\n",
    "        self,\n",
    "        name: str,\n",
    "        data: Any,\n",
    "        *,\n",
    "        run_id: UUID,\n",
    "        tags: Optional[List[str]] = None,\n",
    "        metadata: Optional[Dict[str, Any]] = None,\n",
    "        **kwargs: Any,\n",
    "    ) -> None:\n",
    "        print(\n",
    "            f\"Received event {name} with data: {data}, with tags: {tags}, with metadata: {metadata} and run_id: {run_id}\"\n",
    "        )\n",
    "\n",
    "\n",
    "@RunnableLambda\n",
    "def foo(x: int, config: RunnableConfig) -> int:\n",
    "    dispatch_custom_event(\"event1\", {\"x\": x})\n",
    "    dispatch_custom_event(\"event2\", {\"x\": x})\n",
    "    return x\n",
    "\n",
    "\n",
    "handler = CustomHandler()\n",
    "foo.invoke(1, {\"callbacks\": [handler], \"tags\": [\"foo\", \"bar\"]})"
   ]
  },
  {
   "cell_type": "code",
   "execution_count": null,
   "metadata": {},
   "outputs": [],
   "source": []
  },
  {
   "cell_type": "code",
   "execution_count": null,
   "metadata": {},
   "outputs": [],
   "source": []
  },
  {
   "cell_type": "code",
   "execution_count": null,
   "metadata": {},
   "outputs": [],
   "source": []
  }
 ],
 "metadata": {
  "kernelspec": {
   "display_name": "Python 3",
   "language": "python",
   "name": "python3"
  },
  "language_info": {
   "codemirror_mode": {
    "name": "ipython",
    "version": 3
   },
   "file_extension": ".py",
   "mimetype": "text/x-python",
   "name": "python",
   "nbconvert_exporter": "python",
   "pygments_lexer": "ipython3",
   "version": "3.10.0"
  }
 },
 "nbformat": 4,
 "nbformat_minor": 2
}
