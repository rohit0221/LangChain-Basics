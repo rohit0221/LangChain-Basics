{
 "cells": [
  {
   "cell_type": "code",
   "execution_count": 1,
   "metadata": {},
   "outputs": [
    {
     "data": {
      "text/plain": [
       "True"
      ]
     },
     "execution_count": 1,
     "metadata": {},
     "output_type": "execute_result"
    }
   ],
   "source": [
    "import os\n",
    "from dotenv import load_dotenv\n",
    "load_dotenv()"
   ]
  },
  {
   "cell_type": "code",
   "execution_count": 2,
   "metadata": {},
   "outputs": [],
   "source": [
    "from langchain_core.output_parsers import JsonOutputParser\n",
    "from langchain_core.prompts import PromptTemplate\n",
    "from langchain_core.pydantic_v1 import BaseModel, Field\n",
    "from langchain_openai import ChatOpenAI\n",
    "\n",
    "model = ChatOpenAI(temperature=0)\n",
    "\n",
    "\n",
    "# Define your desired data structure.\n",
    "class Joke(BaseModel):\n",
    "    setup: str = Field(description=\"question to set up a joke\")\n",
    "    punchline: str = Field(description=\"answer to resolve the joke\")\n",
    "    Length: int = Field(description=\"word count of the joke\")\n",
    "    Genre: str = Field(description=\"genre of the joke\")\n",
    "\n"
   ]
  },
  {
   "cell_type": "code",
   "execution_count": 6,
   "metadata": {},
   "outputs": [
    {
     "data": {
      "text/plain": [
       "{'setup': \"Why couldn't the bicycle find its way home?\",\n",
       " 'punchline': 'Because it lost its bearings!',\n",
       " 'Length': 10,\n",
       " 'Genre': 'Pun'}"
      ]
     },
     "execution_count": 6,
     "metadata": {},
     "output_type": "execute_result"
    }
   ],
   "source": [
    "\n",
    "# And a query intented to prompt a language model to populate the data structure.\n",
    "joke_query = \"Tell me a joke.\"\n",
    "\n",
    "# Set up a parser + inject instructions into the prompt template.\n",
    "parser = JsonOutputParser(pydantic_object=Joke)\n",
    "\n",
    "prompt = PromptTemplate(\n",
    "    template=\"Answer the user query.\\n{format_instructions}\\n{query}\\n\",\n",
    "    input_variables=[\"query\"],\n",
    "    partial_variables={\"format_instructions\": parser.get_format_instructions()},\n",
    ")\n",
    "\n",
    "chain = prompt | model | parser\n",
    "\n",
    "chain.invoke({\"query\": joke_query})"
   ]
  },
  {
   "cell_type": "code",
   "execution_count": 13,
   "metadata": {},
   "outputs": [
    {
     "data": {
      "text/plain": [
       "'The output should be formatted as a JSON instance that conforms to the JSON schema below.\\n\\nAs an example, for the schema {\"properties\": {\"foo\": {\"title\": \"Foo\", \"description\": \"a list of strings\", \"type\": \"array\", \"items\": {\"type\": \"string\"}}}, \"required\": [\"foo\"]}\\nthe object {\"foo\": [\"bar\", \"baz\"]} is a well-formatted instance of the schema. The object {\"properties\": {\"foo\": [\"bar\", \"baz\"]}} is not well-formatted.\\n\\nHere is the output schema:\\n```\\n{\"properties\": {\"Year\": {\"title\": \"Year\", \"description\": \"Year for which results are given\", \"type\": \"string\"}, \"Quarter\": {\"title\": \"Quarter\", \"description\": \"answer to resolve the joke\", \"type\": \"string\"}, \"Revenue\": {\"title\": \"Revenue\", \"description\": \"Renevue numbers\", \"type\": \"number\"}, \"Profit\": {\"title\": \"Profit\", \"description\": \"Profit Numbers\", \"type\": \"string\"}}, \"required\": [\"Year\", \"Quarter\", \"Revenue\", \"Profit\"]}\\n```'"
      ]
     },
     "execution_count": 13,
     "metadata": {},
     "output_type": "execute_result"
    }
   ],
   "source": [
    "parser.get_format_instructions()"
   ]
  },
  {
   "cell_type": "code",
   "execution_count": 14,
   "metadata": {},
   "outputs": [
    {
     "name": "stdout",
     "output_type": "stream",
     "text": [
      "{}\n",
      "{'Year': ''}\n",
      "{'Year': '202'}\n",
      "{'Year': '2021'}\n",
      "{'Year': '2021-'}\n",
      "{'Year': '2021-202'}\n",
      "{'Year': '2021-2024'}\n",
      "{'Year': '2021-2024', 'Quarter': ''}\n",
      "{'Year': '2021-2024', 'Quarter': 'Q'}\n",
      "{'Year': '2021-2024', 'Quarter': 'Q1'}\n",
      "{'Year': '2021-2024', 'Quarter': 'Q1,'}\n",
      "{'Year': '2021-2024', 'Quarter': 'Q1, Q'}\n",
      "{'Year': '2021-2024', 'Quarter': 'Q1, Q2'}\n",
      "{'Year': '2021-2024', 'Quarter': 'Q1, Q2,'}\n",
      "{'Year': '2021-2024', 'Quarter': 'Q1, Q2, Q'}\n",
      "{'Year': '2021-2024', 'Quarter': 'Q1, Q2, Q3'}\n",
      "{'Year': '2021-2024', 'Quarter': 'Q1, Q2, Q3,'}\n",
      "{'Year': '2021-2024', 'Quarter': 'Q1, Q2, Q3, Q'}\n",
      "{'Year': '2021-2024', 'Quarter': 'Q1, Q2, Q3, Q4'}\n",
      "{'Year': '2021-2024', 'Quarter': 'Q1, Q2, Q3, Q4', 'Revenue': 100}\n",
      "{'Year': '2021-2024', 'Quarter': 'Q1, Q2, Q3, Q4', 'Revenue': 100000}\n",
      "{'Year': '2021-2024', 'Quarter': 'Q1, Q2, Q3, Q4', 'Revenue': 100000000}\n",
      "{'Year': '2021-2024', 'Quarter': 'Q1, Q2, Q3, Q4', 'Revenue': 1000000000}\n",
      "{'Year': '2021-2024', 'Quarter': 'Q1, Q2, Q3, Q4', 'Revenue': 1000000000, 'Profit': ''}\n",
      "{'Year': '2021-2024', 'Quarter': 'Q1, Q2, Q3, Q4', 'Revenue': 1000000000, 'Profit': '500'}\n",
      "{'Year': '2021-2024', 'Quarter': 'Q1, Q2, Q3, Q4', 'Revenue': 1000000000, 'Profit': '500000'}\n",
      "{'Year': '2021-2024', 'Quarter': 'Q1, Q2, Q3, Q4', 'Revenue': 1000000000, 'Profit': '50000000'}\n"
     ]
    }
   ],
   "source": [
    "for s in chain.stream({\"query\": joke_query}):\n",
    "    print(s)"
   ]
  },
  {
   "cell_type": "code",
   "execution_count": null,
   "metadata": {},
   "outputs": [],
   "source": []
  }
 ],
 "metadata": {
  "kernelspec": {
   "display_name": "venv",
   "language": "python",
   "name": "python3"
  },
  "language_info": {
   "codemirror_mode": {
    "name": "ipython",
    "version": 3
   },
   "file_extension": ".py",
   "mimetype": "text/x-python",
   "name": "python",
   "nbconvert_exporter": "python",
   "pygments_lexer": "ipython3",
   "version": "3.10.0"
  }
 },
 "nbformat": 4,
 "nbformat_minor": 2
}
