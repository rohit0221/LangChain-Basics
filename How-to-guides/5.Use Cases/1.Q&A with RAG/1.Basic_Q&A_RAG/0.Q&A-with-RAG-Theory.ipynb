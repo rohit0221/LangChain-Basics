{
 "cells": [
  {
   "cell_type": "markdown",
   "metadata": {},
   "source": [
    "# RAG theory:\n",
    "\n",
    "https://python.langchain.com/v0.2/docs/tutorials/rag/#what-is-rag\n",
    "\n",
    "### Using custom chains:\n",
    "\n",
    "https://python.langchain.com/v0.2/docs/tutorials/rag/#preview\n",
    "\n",
    "### Using built in chain:\n",
    "\n",
    "https://python.langchain.com/v0.2/docs/tutorials/rag/#built-in-chains\n",
    "\n",
    "\n",
    "\n",
    "\n",
    "\n",
    "API Reference:\n",
    "\n",
    "### create_retrieval_chain:\n",
    "https://api.python.langchain.com/en/latest/chains/langchain.chains.retrieval.create_retrieval_chain.html\n",
    "\n",
    "### create_stuff_documents_chain:\n",
    "\n",
    "https://api.python.langchain.com/en/latest/chains/langchain.chains.combine_documents.stuff.create_stuff_documents_chain.html"
   ]
  },
  {
   "cell_type": "markdown",
   "metadata": {},
   "source": [
    "# Adding history:\n",
    "\n",
    "\n",
    "https://python.langchain.com/v0.2/docs/tutorials/qa_chat_history/"
   ]
  },
  {
   "cell_type": "markdown",
   "metadata": {},
   "source": []
  }
 ],
 "metadata": {
  "language_info": {
   "name": "python"
  }
 },
 "nbformat": 4,
 "nbformat_minor": 2
}
