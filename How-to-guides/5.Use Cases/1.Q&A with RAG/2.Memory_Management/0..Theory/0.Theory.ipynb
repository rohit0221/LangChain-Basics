{
 "cells": [
  {
   "cell_type": "markdown",
   "metadata": {},
   "source": [
    "# How to add chat history\n"
   ]
  },
  {
   "cell_type": "markdown",
   "metadata": {},
   "source": [
    "# Basic:\n",
    "https://python.langchain.com/v0.2/docs/tutorials/chatbot/#message-history\n",
    "\n",
    "\n",
    "# How to add memory to chatbots\n",
    "\n",
    "https://python.langchain.com/v0.2/docs/how_to/chatbots_memory/\n",
    "\n",
    "\n",
    "# How to add message history\n",
    "\n",
    "\n",
    "https://python.langchain.com/v0.2/docs/how_to/message_history/\n",
    "\n",
    "# Memory management in Q&A RAG:\n",
    "\n",
    "https://python.langchain.com/v0.2/docs/how_to/qa_chat_history_how_to/\n",
    "\n",
    "\n",
    "\n"
   ]
  },
  {
   "cell_type": "markdown",
   "metadata": {},
   "source": []
  },
  {
   "cell_type": "markdown",
   "metadata": {},
   "source": []
  }
 ],
 "metadata": {
  "kernelspec": {
   "display_name": "venv",
   "language": "python",
   "name": "python3"
  },
  "language_info": {
   "codemirror_mode": {
    "name": "ipython",
    "version": 3
   },
   "file_extension": ".py",
   "mimetype": "text/x-python",
   "name": "python",
   "nbconvert_exporter": "python",
   "pygments_lexer": "ipython3",
   "version": "3.10.0"
  }
 },
 "nbformat": 4,
 "nbformat_minor": 2
}
