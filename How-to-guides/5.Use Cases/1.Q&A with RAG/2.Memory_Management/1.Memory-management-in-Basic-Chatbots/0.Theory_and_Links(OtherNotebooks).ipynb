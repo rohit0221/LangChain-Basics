{
 "cells": [
  {
   "cell_type": "markdown",
   "metadata": {},
   "source": [
    "# 1.Memory-management-in-Basic-Chatbots:\n",
    "\n",
    "\n",
    "Refer to following notebooks that contain everything in RAG\n",
    "\n",
    "✔️ ..\\How-to-guides\\5.Use Cases\\3.Chatbots\\1.ChatBot_without_RAG_or_Agents\n",
    "\n",
    "Here are Exact Links\n",
    "\n",
    "0. [0.Theory_and_Links](../../../3.Chatbots/1.ChatBot_without_RAG_or_Agents/0Theory_and_Links.ipynb)\n",
    "\n",
    "1. [Basic_ChatBot_without_chain_with_message_history](../../../3.Chatbots/1.ChatBot_without_RAG_or_Agents/1.Basic_ChatBot_without_chain_with_message_history.ipynb)\n",
    "\n",
    "2. [ChatBot_with_chain_Prompt_template_with_message_history](../../../3.Chatbots/1.ChatBot_without_RAG_or_Agents/2.ChatBot_with_chain_Prompt_template_with_message_history.ipynb)\n",
    "\n",
    "💡🎬 🎥 🔴 ▶ Notebooks with streaming Support and Message Trimming are in same folder\n",
    "\n",
    "These notebook are based on following documentation:\n",
    "\n",
    "https://python.langchain.com/v0.2/docs/tutorials/chatbot/\n"
   ]
  },
  {
   "cell_type": "markdown",
   "metadata": {},
   "source": []
  }
 ],
 "metadata": {
  "language_info": {
   "name": "python"
  }
 },
 "nbformat": 4,
 "nbformat_minor": 2
}
