{
 "cells": [
  {
   "cell_type": "markdown",
   "metadata": {},
   "source": [
    "# Memory Management in a Chatbot with RAG:\n",
    "\n",
    "\n",
    "Refer to following notebooks that contain everything in RAG\n",
    "\n",
    "✔️ ..\\How-to-guides\\5.Use Cases\\3.Chatbots\\2.ChatBots_with_RAG\n",
    "\n",
    "Here are Exact Links\n",
    "\n",
    "[0.Theory_and_Links](../../../3.Chatbots/2.ChatBots_with_RAG/0Theory_and_Links.ipynb)\n",
    "\n",
    "[1.1.Q&A with RAG-Chains-with-memory_dynamic-sessionid](../../../3.Chatbots/2.ChatBots_with_RAG/1.1.Q&A%20with%20RAG-Chains-with-memory_dynamic-sessionid.ipynb)\n",
    "\n",
    "\n",
    "[2.1Q&A with RAG-Agents-with-memory_dynamic-sessionid](../../../3.Chatbots/2.ChatBots_with_RAG/2.1Q&A%20with%20RAG-Agents-with-memory_dynamic-sessionid.ipynb)\n",
    "\n",
    "💡🎬 🎥 🔴 ▶ Notebooks With streaming support are in the same folder.\n",
    "\n",
    "These notebook are based on folllowing documentation:\n",
    "\n",
    "https://python.langchain.com/v0.2/docs/how_to/qa_chat_history_how_to/\n",
    "\n"
   ]
  },
  {
   "cell_type": "markdown",
   "metadata": {},
   "source": []
  }
 ],
 "metadata": {
  "language_info": {
   "name": "python"
  }
 },
 "nbformat": 4,
 "nbformat_minor": 2
}
