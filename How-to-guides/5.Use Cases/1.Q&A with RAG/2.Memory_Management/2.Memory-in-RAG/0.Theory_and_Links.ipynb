{
 "cells": [
  {
   "cell_type": "markdown",
   "metadata": {},
   "source": [
    "# How to add chat history\n",
    "\n",
    "These notebook are based on folllowing documentation:\n",
    "\n",
    "https://python.langchain.com/v0.2/docs/how_to/qa_chat_history_how_to/\n",
    "\n",
    "👍😎👌🔥 These are the best notebooks for all RAG needs !"
   ]
  },
  {
   "cell_type": "markdown",
   "metadata": {},
   "source": []
  }
 ],
 "metadata": {
  "language_info": {
   "name": "python"
  }
 },
 "nbformat": 4,
 "nbformat_minor": 2
}
