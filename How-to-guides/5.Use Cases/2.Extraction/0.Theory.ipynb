{
 "cells": [
  {
   "cell_type": "markdown",
   "metadata": {},
   "source": [
    "# Note\n",
    "For details on this section - better go though the notebooks in section\n",
    "\n",
    "..\\How-to-guides\\2.Key features\\Structured-Output-from-model"
   ]
  }
 ],
 "metadata": {
  "language_info": {
   "name": "python"
  }
 },
 "nbformat": 4,
 "nbformat_minor": 2
}
