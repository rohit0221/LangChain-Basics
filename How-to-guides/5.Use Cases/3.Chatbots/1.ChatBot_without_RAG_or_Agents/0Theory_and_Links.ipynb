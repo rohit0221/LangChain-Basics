{
 "cells": [
  {
   "cell_type": "markdown",
   "metadata": {},
   "source": [
    "# Build a Chatbot\n",
    "\n",
    "\n",
    "All notebooks in this sections are based off :\n",
    "\n",
    "https://python.langchain.com/v0.2/docs/tutorials/chatbot/\n",
    "\n",
    "✨This is the master documentation for all ChatBots"
   ]
  },
  {
   "cell_type": "markdown",
   "metadata": {},
   "source": []
  }
 ],
 "metadata": {
  "language_info": {
   "name": "python"
  }
 },
 "nbformat": 4,
 "nbformat_minor": 2
}
