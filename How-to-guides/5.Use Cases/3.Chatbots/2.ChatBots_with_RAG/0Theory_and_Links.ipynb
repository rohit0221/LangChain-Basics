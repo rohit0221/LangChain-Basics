{
 "cells": [
  {
   "cell_type": "markdown",
   "metadata": {},
   "source": [
    "# Build a Chatbot with RAG:\n",
    "\n",
    "❌ **NO** need to follow following documentations: \n",
    "https://python.langchain.com/v0.2/docs/how_to/chatbots_retrieval/\n",
    "\n",
    "Refer to following notebooks that contain everything in RAG\n",
    "\n",
    "✔️ ..\\How-to-guides\\5.Use Cases\\1.Q&A with RAG\\2.Memory_Management\\2.Memory-in-RAG\\\n",
    "\n",
    "Here are Exact Links\n",
    "\n",
    "[0.Theory_and_Links](../../1.Q&A%20with%20RAG/2.Memory_Management/2.Memory-in-RAG/0.Theory_and_Links.ipynb)\n",
    "\n",
    "[1.Q&A with RAG-Chains-with-memory_dynamic-sessionid](../../1.Q&A%20with%20RAG/2.Memory_Management/2.Memory-in-RAG/1.Q&A%20with%20RAG-Chains-with-memory_dynamic-sessionid.ipynb)\n",
    "\n",
    "[2.Q&A with RAG-Agents-with-memory_dynamic-sessionid](../../1.Q&A%20with%20RAG/2.Memory_Management/2.Memory-in-RAG/2.Q&A%20with%20RAG-Agents-with-memory_dynamic-sessionid.ipynb)\n",
    "\n",
    "\n"
   ]
  },
  {
   "cell_type": "markdown",
   "metadata": {},
   "source": []
  }
 ],
 "metadata": {
  "language_info": {
   "name": "python"
  }
 },
 "nbformat": 4,
 "nbformat_minor": 2
}
