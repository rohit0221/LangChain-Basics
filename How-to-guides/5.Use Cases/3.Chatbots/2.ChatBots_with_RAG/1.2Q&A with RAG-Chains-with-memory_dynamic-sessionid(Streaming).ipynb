{
 "cells": [
  {
   "cell_type": "code",
   "execution_count": 1,
   "metadata": {},
   "outputs": [],
   "source": [
    "import os\n",
    "from dotenv import load_dotenv\n",
    "load_dotenv()\n",
    "os.environ[\"LANGCHAIN_API_KEY\"]=os.environ.get('LANGCHAIN_API_KEY')\n",
    "os.environ[\"LANGCHAIN_TRACING_V2\"]=\"true\"\n",
    "os.environ[\"LANGCHAIN_PROJECT\"]=\"RAG-memory-chain\""
   ]
  },
  {
   "cell_type": "markdown",
   "metadata": {},
   "source": [
    "# Chains\n",
    "In a conversational RAG application, queries issued to the retriever should be informed by the context of the conversation. LangChain provides a **create_history_aware_retriever** constructor to simplify this. It constructs a chain that accepts keys input and **chat_history** as input, and has the same output schema as a retriever. **create_history_aware_retriever** requires as inputs:\n",
    "\n",
    "1. LLM\n",
    "2. Retriever\n",
    "3. Prompt\n",
    "   \n",
    "First we obtain these objects:"
   ]
  },
  {
   "cell_type": "markdown",
   "metadata": {},
   "source": [
    "# LLM"
   ]
  },
  {
   "cell_type": "code",
   "execution_count": 2,
   "metadata": {},
   "outputs": [],
   "source": [
    "# LLM\n",
    "\n",
    "from langchain_openai import ChatOpenAI\n",
    "llm = ChatOpenAI(model=\"gpt-4o-mini\")"
   ]
  },
  {
   "cell_type": "markdown",
   "metadata": {},
   "source": [
    "# Basic Retriever"
   ]
  },
  {
   "cell_type": "code",
   "execution_count": 3,
   "metadata": {},
   "outputs": [],
   "source": [
    "# Retriever\n",
    "\n",
    "import bs4\n",
    "from langchain.chains import create_retrieval_chain\n",
    "from langchain.chains.combine_documents import create_stuff_documents_chain\n",
    "from langchain_chroma import Chroma\n",
    "from langchain_community.document_loaders import WebBaseLoader\n",
    "from langchain_core.output_parsers import StrOutputParser\n",
    "from langchain_core.prompts import ChatPromptTemplate\n",
    "from langchain_core.runnables import RunnablePassthrough\n",
    "from langchain_openai import OpenAIEmbeddings\n",
    "from langchain_text_splitters import RecursiveCharacterTextSplitter\n",
    "\n",
    "loader = WebBaseLoader(\n",
    "    web_paths=(\"https://lilianweng.github.io/posts/2023-06-23-agent/\",),\n",
    "    bs_kwargs=dict(\n",
    "        parse_only=bs4.SoupStrainer(\n",
    "            class_=(\"post-content\", \"post-title\", \"post-header\")\n",
    "        )\n",
    "    ),\n",
    ")\n",
    "docs = loader.load()\n",
    "\n",
    "text_splitter = RecursiveCharacterTextSplitter(chunk_size=1000, chunk_overlap=200)\n",
    "splits = text_splitter.split_documents(docs)\n",
    "vectorstore = Chroma.from_documents(documents=splits, embedding=OpenAIEmbeddings())\n",
    "retriever = vectorstore.as_retriever()"
   ]
  },
  {
   "cell_type": "markdown",
   "metadata": {},
   "source": [
    "# Prompt\n",
    "\n",
    "### First create a contextualized system prompt\n",
    "\n",
    "We'll use a prompt that includes a MessagesPlaceholder variable under the name \"chat_history\". \n",
    "\n",
    "This allows us to pass in a list of Messages to the prompt using the \"chat_history\" input key, \n",
    "\n",
    "and these messages will be inserted after the system message and before the human message containing the latest question.\n",
    "\n",
    "<span style=\"color:red\">\n",
    "The purpose of this prerequisite chain is to reformulate the question if required in the context of the chat history.\n",
    "\n",
    "If it's not needed. The question is returned as it is.<span>\n",
    "\n"
   ]
  },
  {
   "cell_type": "markdown",
   "metadata": {},
   "source": [
    "It takes in 3 things:\n",
    "1. The system Prompt for question Reformulation\n",
    "2. Chat History\n",
    "3. Original Question"
   ]
  },
  {
   "cell_type": "code",
   "execution_count": 4,
   "metadata": {},
   "outputs": [],
   "source": [
    "# Prompt\n",
    "\n",
    "from langchain.chains import create_history_aware_retriever\n",
    "from langchain_core.prompts import MessagesPlaceholder\n",
    "\n",
    "contextualize_q_system_prompt = (\n",
    "    \"Given a chat history and the latest user question \"\n",
    "    \"which might reference context in the chat history, \"\n",
    "    \"formulate a standalone question which can be understood \"\n",
    "    \"without the chat history. Do NOT answer the question, \"\n",
    "    \"just reformulate it if needed and otherwise return it as is.\"\n",
    ")\n",
    "\n",
    "contextualize_q_prompt = ChatPromptTemplate.from_messages(\n",
    "    [\n",
    "        (\"system\", contextualize_q_system_prompt),\n",
    "        MessagesPlaceholder(\"chat_history\"),\n",
    "        (\"human\", \"{input}\"),\n",
    "    ]\n",
    ")"
   ]
  },
  {
   "cell_type": "markdown",
   "metadata": {},
   "source": [
    "# 1. Create History Aware Retriever Chain\n",
    "\n",
    "We can then instantiate the history-aware retriever:\n",
    "\n",
    "This chain prepends a rephrasing of the input query to our retriever, so that the retrieval incorporates the context of the conversation.\n",
    "\n"
   ]
  },
  {
   "cell_type": "code",
   "execution_count": 5,
   "metadata": {},
   "outputs": [],
   "source": [
    "history_aware_retriever_chain = create_history_aware_retriever(\n",
    "    llm, retriever, contextualize_q_prompt\n",
    ")"
   ]
  },
  {
   "cell_type": "markdown",
   "metadata": {},
   "source": [
    "# 2. Build QA Chain\n",
    "\n",
    "As in the RAG tutorial, we will use **create_stuff_documents_chain** to generate a **question_answer_chain**, with input keys \n",
    "\n",
    "1. **context**\n",
    "2. **chat_history**\n",
    "3. **input**\n",
    "\n",
    "It accepts the retrieved context alongside the conversation history and query to generate an answer.\n",
    "\n"
   ]
  },
  {
   "cell_type": "code",
   "execution_count": 6,
   "metadata": {},
   "outputs": [],
   "source": [
    "system_prompt = (\n",
    "    \"You are an assistant for question-answering tasks. \"\n",
    "    \"Use the following pieces of retrieved context to answer \"\n",
    "    \"the question. If you don't know the answer, say that you \"\n",
    "    \"don't know. Use three sentences maximum and keep the \"\n",
    "    \"answer concise.\"\n",
    "    \"\\n\\n\"\n",
    "    \"{context}\"\n",
    ")\n",
    "qa_prompt = ChatPromptTemplate.from_messages(\n",
    "    [\n",
    "        (\"system\", system_prompt),\n",
    "        MessagesPlaceholder(\"chat_history\"),\n",
    "        (\"human\", \"{input}\"),\n",
    "    ]\n",
    ")\n",
    "question_answer_chain = create_stuff_documents_chain(llm, qa_prompt)"
   ]
  },
  {
   "cell_type": "markdown",
   "metadata": {},
   "source": [
    "# 3. Build RAG Chain\n",
    "\n",
    "\n",
    "We build our final **rag_chain** with **create_retrieval_chain**. \n",
    "\n",
    "This chain applies the \n",
    "**history_aware_retriever_chain** and **question_answer_chain** (created above)\n",
    "\n",
    "in sequence, retaining intermediate outputs such as the retrieved context for convenience. It has input keys input and chat_history, and includes input, chat_history, context, and answer in its output.\n"
   ]
  },
  {
   "cell_type": "code",
   "execution_count": 7,
   "metadata": {},
   "outputs": [],
   "source": [
    "rag_chain = create_retrieval_chain(history_aware_retriever_chain, question_answer_chain)"
   ]
  },
  {
   "cell_type": "markdown",
   "metadata": {},
   "source": [
    "# Adding chat history\n",
    "To manage the chat history, we will need:\n",
    "\n",
    "An object for storing the chat history;\n",
    "An object that wraps our chain and manages updates to the chat history.\n",
    "For these we will use **BaseChatMessageHistory** and **RunnableWithMessageHistory**. The latter is a wrapper for an LCEL chain and a BaseChatMessageHistory that handles injecting chat history into inputs and updating it after each invocation."
   ]
  },
  {
   "cell_type": "code",
   "execution_count": 8,
   "metadata": {},
   "outputs": [],
   "source": [
    "from langchain_community.chat_message_histories import ChatMessageHistory\n",
    "from langchain_core.chat_history import BaseChatMessageHistory\n",
    "from langchain_core.runnables.history import RunnableWithMessageHistory\n",
    "\n",
    "store = {}\n",
    "\n",
    "\n",
    "def get_session_history(session_id: str) -> BaseChatMessageHistory:\n",
    "    if session_id not in store:\n",
    "        store[session_id] = ChatMessageHistory()\n",
    "    return store[session_id]\n"
   ]
  },
  {
   "cell_type": "code",
   "execution_count": 9,
   "metadata": {},
   "outputs": [],
   "source": [
    "# Function to generate a unique session ID\n",
    "import uuid\n",
    "\n",
    "def generate_session_id() -> str:\n",
    "    return str(uuid.uuid4())"
   ]
  },
  {
   "cell_type": "markdown",
   "metadata": {},
   "source": [
    "# 3. Build Conversational RAG Chain\n",
    "\n",
    "\n",
    "Finally we build our final **conversational_rag_chain** with \n",
    "1. rag_chain \n",
    "2. get_session_history\n",
    "3. input_messages_key=\"input\"\n",
    "4. history_messages_key=\"chat_history\"\n",
    "5. output_messages_key=\"answer\"\n"
   ]
  },
  {
   "cell_type": "code",
   "execution_count": 10,
   "metadata": {},
   "outputs": [],
   "source": [
    "conversational_rag_chain = RunnableWithMessageHistory(\n",
    "    rag_chain,\n",
    "    get_session_history,\n",
    "    input_messages_key=\"input\",\n",
    "    history_messages_key=\"chat_history\",\n",
    "    output_messages_key=\"answer\",\n",
    ")"
   ]
  },
  {
   "cell_type": "code",
   "execution_count": 11,
   "metadata": {},
   "outputs": [],
   "source": [
    "# Generating a dynamic session ID\n",
    "session_id_1 = generate_session_id()"
   ]
  },
  {
   "cell_type": "code",
   "execution_count": 12,
   "metadata": {},
   "outputs": [
    {
     "data": {
      "text/plain": [
       "'80d3bb01-0503-46c1-ba97-f2b083450275'"
      ]
     },
     "execution_count": 12,
     "metadata": {},
     "output_type": "execute_result"
    }
   ],
   "source": [
    "session_id_1"
   ]
  },
  {
   "cell_type": "code",
   "execution_count": 13,
   "metadata": {},
   "outputs": [],
   "source": [
    "response= conversational_rag_chain.invoke(\n",
    "    {\"input\": \"What is Task Decomposition?\"},\n",
    "    config={\n",
    "        \"configurable\": {\"session_id\": session_id_1}\n",
    "    },  # constructs a key \"abc123\" in `store`.\n",
    ")"
   ]
  },
  {
   "cell_type": "code",
   "execution_count": 14,
   "metadata": {},
   "outputs": [
    {
     "data": {
      "text/plain": [
       "{'input': 'What is Task Decomposition?',\n",
       " 'chat_history': [],\n",
       " 'context': [Document(metadata={'source': 'https://lilianweng.github.io/posts/2023-06-23-agent/'}, page_content='Fig. 1. Overview of a LLM-powered autonomous agent system.\\nComponent One: Planning#\\nA complicated task usually involves many steps. An agent needs to know what they are and plan ahead.\\nTask Decomposition#\\nChain of thought (CoT; Wei et al. 2022) has become a standard prompting technique for enhancing model performance on complex tasks. The model is instructed to “think step by step” to utilize more test-time computation to decompose hard tasks into smaller and simpler steps. CoT transforms big tasks into multiple manageable tasks and shed lights into an interpretation of the model’s thinking process.'),\n",
       "  Document(metadata={'source': 'https://lilianweng.github.io/posts/2023-06-23-agent/'}, page_content='Tree of Thoughts (Yao et al. 2023) extends CoT by exploring multiple reasoning possibilities at each step. It first decomposes the problem into multiple thought steps and generates multiple thoughts per step, creating a tree structure. The search process can be BFS (breadth-first search) or DFS (depth-first search) with each state evaluated by a classifier (via a prompt) or majority vote.\\nTask decomposition can be done (1) by LLM with simple prompting like \"Steps for XYZ.\\\\n1.\", \"What are the subgoals for achieving XYZ?\", (2) by using task-specific instructions; e.g. \"Write a story outline.\" for writing a novel, or (3) with human inputs.'),\n",
       "  Document(metadata={'source': 'https://lilianweng.github.io/posts/2023-06-23-agent/'}, page_content='Resources:\\n1. Internet access for searches and information gathering.\\n2. Long Term memory management.\\n3. GPT-3.5 powered Agents for delegation of simple tasks.\\n4. File output.\\n\\nPerformance Evaluation:\\n1. Continuously review and analyze your actions to ensure you are performing to the best of your abilities.\\n2. Constructively self-criticize your big-picture behavior constantly.\\n3. Reflect on past decisions and strategies to refine your approach.\\n4. Every command has a cost, so be smart and efficient. Aim to complete tasks in the least number of steps.'),\n",
       "  Document(metadata={'source': 'https://lilianweng.github.io/posts/2023-06-23-agent/'}, page_content=\"(3) Task execution: Expert models execute on the specific tasks and log results.\\nInstruction:\\n\\nWith the input and the inference results, the AI assistant needs to describe the process and results. The previous stages can be formed as - User Input: {{ User Input }}, Task Planning: {{ Tasks }}, Model Selection: {{ Model Assignment }}, Task Execution: {{ Predictions }}. You must first answer the user's request in a straightforward manner. Then describe the task process and show your analysis and model inference results to the user in the first person. If inference results contain a file path, must tell the user the complete file path.\")],\n",
       " 'answer': 'Task decomposition is the process of breaking down a complex task into smaller, more manageable steps. This can be achieved through techniques like Chain of Thought (CoT), where the model is prompted to think step by step, or Tree of Thoughts, which explores multiple reasoning possibilities at each step. By decomposing tasks, it becomes easier to tackle each component effectively, enhancing overall performance.'}"
      ]
     },
     "execution_count": 14,
     "metadata": {},
     "output_type": "execute_result"
    }
   ],
   "source": [
    "response"
   ]
  },
  {
   "cell_type": "code",
   "execution_count": 15,
   "metadata": {},
   "outputs": [
    {
     "data": {
      "text/plain": [
       "'Task decomposition is the process of breaking down a complex task into smaller, more manageable steps. This can be achieved through techniques like Chain of Thought (CoT), where the model is prompted to think step by step, or Tree of Thoughts, which explores multiple reasoning possibilities at each step. By decomposing tasks, it becomes easier to tackle each component effectively, enhancing overall performance.'"
      ]
     },
     "execution_count": 15,
     "metadata": {},
     "output_type": "execute_result"
    }
   ],
   "source": [
    "response[\"answer\"]"
   ]
  },
  {
   "cell_type": "code",
   "execution_count": 16,
   "metadata": {},
   "outputs": [
    {
     "data": {
      "text/plain": [
       "'Common ways of task decomposition include using simple prompting techniques like asking for \"Steps for XYZ\" or \"What are the subgoals for achieving XYZ?\". It can also involve task-specific instructions, such as \"Write a story outline\" for creative tasks, or incorporating human inputs to guide the decomposition process.'"
      ]
     },
     "execution_count": 16,
     "metadata": {},
     "output_type": "execute_result"
    }
   ],
   "source": [
    "conversational_rag_chain.invoke(\n",
    "    {\"input\": \"What are common ways of doing it?\"},\n",
    "    config={\"configurable\": {\"session_id\": session_id_1}},\n",
    ")[\"answer\"]"
   ]
  },
  {
   "cell_type": "code",
   "execution_count": 17,
   "metadata": {},
   "outputs": [
    {
     "data": {
      "text/plain": [
       "{'input': 'What are common ways of doing it?',\n",
       " 'chat_history': [HumanMessage(content='What is Task Decomposition?'),\n",
       "  AIMessage(content='Task decomposition is the process of breaking down a complex task into smaller, more manageable steps. This can be achieved through techniques like Chain of Thought (CoT), where the model is prompted to think step by step, or Tree of Thoughts, which explores multiple reasoning possibilities at each step. By decomposing tasks, it becomes easier to tackle each component effectively, enhancing overall performance.'),\n",
       "  HumanMessage(content='What are common ways of doing it?'),\n",
       "  AIMessage(content='Common ways of task decomposition include using simple prompting techniques like asking for \"Steps for XYZ\" or \"What are the subgoals for achieving XYZ?\". It can also involve task-specific instructions, such as \"Write a story outline\" for creative tasks, or incorporating human inputs to guide the decomposition process.')],\n",
       " 'context': [Document(metadata={'source': 'https://lilianweng.github.io/posts/2023-06-23-agent/'}, page_content='Fig. 1. Overview of a LLM-powered autonomous agent system.\\nComponent One: Planning#\\nA complicated task usually involves many steps. An agent needs to know what they are and plan ahead.\\nTask Decomposition#\\nChain of thought (CoT; Wei et al. 2022) has become a standard prompting technique for enhancing model performance on complex tasks. The model is instructed to “think step by step” to utilize more test-time computation to decompose hard tasks into smaller and simpler steps. CoT transforms big tasks into multiple manageable tasks and shed lights into an interpretation of the model’s thinking process.'),\n",
       "  Document(metadata={'source': 'https://lilianweng.github.io/posts/2023-06-23-agent/'}, page_content='Tree of Thoughts (Yao et al. 2023) extends CoT by exploring multiple reasoning possibilities at each step. It first decomposes the problem into multiple thought steps and generates multiple thoughts per step, creating a tree structure. The search process can be BFS (breadth-first search) or DFS (depth-first search) with each state evaluated by a classifier (via a prompt) or majority vote.\\nTask decomposition can be done (1) by LLM with simple prompting like \"Steps for XYZ.\\\\n1.\", \"What are the subgoals for achieving XYZ?\", (2) by using task-specific instructions; e.g. \"Write a story outline.\" for writing a novel, or (3) with human inputs.'),\n",
       "  Document(metadata={'source': 'https://lilianweng.github.io/posts/2023-06-23-agent/'}, page_content='Resources:\\n1. Internet access for searches and information gathering.\\n2. Long Term memory management.\\n3. GPT-3.5 powered Agents for delegation of simple tasks.\\n4. File output.\\n\\nPerformance Evaluation:\\n1. Continuously review and analyze your actions to ensure you are performing to the best of your abilities.\\n2. Constructively self-criticize your big-picture behavior constantly.\\n3. Reflect on past decisions and strategies to refine your approach.\\n4. Every command has a cost, so be smart and efficient. Aim to complete tasks in the least number of steps.'),\n",
       "  Document(metadata={'source': 'https://lilianweng.github.io/posts/2023-06-23-agent/'}, page_content='}\\n]\\nChallenges#\\nAfter going through key ideas and demos of building LLM-centered agents, I start to see a couple common limitations:')],\n",
       " 'answer': 'Common ways of task decomposition include using simple prompts like \"Steps for XYZ\" or \"What are the subgoals for achieving XYZ?\", task-specific instructions such as \"Write a story outline,\" and incorporating human inputs to provide guidance. These methods help break down complex tasks into manageable parts for easier execution.'}"
      ]
     },
     "execution_count": 17,
     "metadata": {},
     "output_type": "execute_result"
    }
   ],
   "source": [
    "conversational_rag_chain.invoke(\n",
    "    {\"input\": \"What are common ways of doing it?\"},\n",
    "    config={\"configurable\": {\"session_id\": session_id_1}},\n",
    ")"
   ]
  },
  {
   "cell_type": "markdown",
   "metadata": {},
   "source": [
    "# Streaming final outputs\n",
    "\n",
    "\n",
    "The .stream method will by default stream each key in a sequence."
   ]
  },
  {
   "cell_type": "code",
   "execution_count": 30,
   "metadata": {},
   "outputs": [],
   "source": [
    "stream= conversational_rag_chain.stream(\n",
    "    {\"input\": \"What are common ways of doing it?\"},\n",
    "    config={\"configurable\": {\"session_id\": session_id_1}},\n",
    ")"
   ]
  },
  {
   "cell_type": "code",
   "execution_count": 31,
   "metadata": {},
   "outputs": [
    {
     "name": "stdout",
     "output_type": "stream",
     "text": [
      "{'input': 'What are common ways of doing it?', 'chat_history': [HumanMessage(content='What is Task Decomposition?'), AIMessage(content='Task decomposition is the process of breaking down a complex task into smaller, more manageable steps. This can be achieved through techniques like Chain of Thought (CoT), where the model is prompted to think step by step, or Tree of Thoughts, which explores multiple reasoning possibilities at each step. By decomposing tasks, it becomes easier to tackle each component effectively, enhancing overall performance.'), HumanMessage(content='What are common ways of doing it?'), AIMessage(content='Common ways of task decomposition include using simple prompting techniques like asking for \"Steps for XYZ\" or \"What are the subgoals for achieving XYZ?\". It can also involve task-specific instructions, such as \"Write a story outline\" for creative tasks, or incorporating human inputs to guide the decomposition process.'), HumanMessage(content='What are common ways of doing it?'), AIMessage(content='Common ways of task decomposition include using simple prompts like \"Steps for XYZ\" or \"What are the subgoals for achieving XYZ?\", task-specific instructions such as \"Write a story outline,\" and incorporating human inputs to provide guidance. These methods help break down complex tasks into manageable parts for easier execution.'), HumanMessage(content='What are common ways of doing it?'), AIMessage(content='Common ways of task decomposition include using simple prompting techniques like asking for \"Steps for XYZ\" or \"What are the subgoals for achieving XYZ?\" Additionally, it can involve task-specific instructions, such as \"Write a story outline\" for creative tasks, or utilizing human inputs for guidance in the decomposition process.'), HumanMessage(content='What are common ways of doing it?'), AIMessage(content='Common ways of task decomposition include using simple prompts like \"Steps for XYZ\" or \"What are the subgoals for achieving XYZ?\", employing task-specific instructions such as \"Write a story outline,\" and integrating human inputs to assist in breaking down the task. These techniques help simplify complex tasks into manageable components.'), HumanMessage(content='What are common ways of doing it?'), AIMessage(content='Common ways of task decomposition include using simple prompts, like asking for \"Steps for XYZ\" or \"What are the subgoals for achieving XYZ?\", employing task-specific instructions such as \"Write a story outline,\" and incorporating human inputs for guidance. These methods help in effectively breaking down complex tasks into manageable parts.')]}\n",
      "{'context': [Document(metadata={'source': 'https://lilianweng.github.io/posts/2023-06-23-agent/'}, page_content='Fig. 1. Overview of a LLM-powered autonomous agent system.\\nComponent One: Planning#\\nA complicated task usually involves many steps. An agent needs to know what they are and plan ahead.\\nTask Decomposition#\\nChain of thought (CoT; Wei et al. 2022) has become a standard prompting technique for enhancing model performance on complex tasks. The model is instructed to “think step by step” to utilize more test-time computation to decompose hard tasks into smaller and simpler steps. CoT transforms big tasks into multiple manageable tasks and shed lights into an interpretation of the model’s thinking process.'), Document(metadata={'source': 'https://lilianweng.github.io/posts/2023-06-23-agent/'}, page_content='Tree of Thoughts (Yao et al. 2023) extends CoT by exploring multiple reasoning possibilities at each step. It first decomposes the problem into multiple thought steps and generates multiple thoughts per step, creating a tree structure. The search process can be BFS (breadth-first search) or DFS (depth-first search) with each state evaluated by a classifier (via a prompt) or majority vote.\\nTask decomposition can be done (1) by LLM with simple prompting like \"Steps for XYZ.\\\\n1.\", \"What are the subgoals for achieving XYZ?\", (2) by using task-specific instructions; e.g. \"Write a story outline.\" for writing a novel, or (3) with human inputs.'), Document(metadata={'source': 'https://lilianweng.github.io/posts/2023-06-23-agent/'}, page_content='Resources:\\n1. Internet access for searches and information gathering.\\n2. Long Term memory management.\\n3. GPT-3.5 powered Agents for delegation of simple tasks.\\n4. File output.\\n\\nPerformance Evaluation:\\n1. Continuously review and analyze your actions to ensure you are performing to the best of your abilities.\\n2. Constructively self-criticize your big-picture behavior constantly.\\n3. Reflect on past decisions and strategies to refine your approach.\\n4. Every command has a cost, so be smart and efficient. Aim to complete tasks in the least number of steps.'), Document(metadata={'source': 'https://lilianweng.github.io/posts/2023-06-23-agent/'}, page_content='}\\n]\\nChallenges#\\nAfter going through key ideas and demos of building LLM-centered agents, I start to see a couple common limitations:')]}\n",
      "{'answer': ''}\n",
      "{'answer': 'Common'}\n",
      "{'answer': ' ways'}\n",
      "{'answer': ' of'}\n",
      "{'answer': ' task'}\n",
      "{'answer': ' decomposition'}\n",
      "{'answer': ' include'}\n",
      "{'answer': ' using'}\n",
      "{'answer': ' simple'}\n",
      "{'answer': ' prompts'}\n",
      "{'answer': ' like'}\n",
      "{'answer': ' \"'}\n",
      "{'answer': 'Steps'}\n",
      "{'answer': ' for'}\n",
      "{'answer': ' XYZ'}\n",
      "{'answer': '\"'}\n",
      "{'answer': ' or'}\n",
      "{'answer': ' \"'}\n",
      "{'answer': 'What'}\n",
      "{'answer': ' are'}\n",
      "{'answer': ' the'}\n",
      "{'answer': ' sub'}\n",
      "{'answer': 'go'}\n",
      "{'answer': 'als'}\n",
      "{'answer': ' for'}\n",
      "{'answer': ' achieving'}\n",
      "{'answer': ' XYZ'}\n",
      "{'answer': '?\",'}\n",
      "{'answer': ' applying'}\n",
      "{'answer': ' task'}\n",
      "{'answer': '-specific'}\n",
      "{'answer': ' instructions'}\n",
      "{'answer': ' such'}\n",
      "{'answer': ' as'}\n",
      "{'answer': ' \"'}\n",
      "{'answer': 'Write'}\n",
      "{'answer': ' a'}\n",
      "{'answer': ' story'}\n",
      "{'answer': ' outline'}\n",
      "{'answer': ',\"'}\n",
      "{'answer': ' and'}\n",
      "{'answer': ' utilizing'}\n",
      "{'answer': ' human'}\n",
      "{'answer': ' inputs'}\n",
      "{'answer': ' for'}\n",
      "{'answer': ' guidance'}\n",
      "{'answer': '.'}\n",
      "{'answer': ' These'}\n",
      "{'answer': ' techniques'}\n",
      "{'answer': ' facilitate'}\n",
      "{'answer': ' breaking'}\n",
      "{'answer': ' down'}\n",
      "{'answer': ' complex'}\n",
      "{'answer': ' tasks'}\n",
      "{'answer': ' into'}\n",
      "{'answer': ' smaller'}\n",
      "{'answer': ','}\n",
      "{'answer': ' more'}\n",
      "{'answer': ' manageable'}\n",
      "{'answer': ' components'}\n",
      "{'answer': '.'}\n",
      "{'answer': ''}\n"
     ]
    }
   ],
   "source": [
    "for chunk in stream:\n",
    "    print(chunk)"
   ]
  },
  {
   "cell_type": "markdown",
   "metadata": {},
   "source": [
    "# Steaming only Answers\n",
    "\n",
    "We are free to process chunks as they are streamed out. If we just want to stream the answer tokens, for example, we can select chunks with the corresponding key:"
   ]
  },
  {
   "cell_type": "code",
   "execution_count": 32,
   "metadata": {},
   "outputs": [],
   "source": [
    "stream= conversational_rag_chain.stream(\n",
    "    {\"input\": \"What are common ways of doing it?\"},\n",
    "    config={\"configurable\": {\"session_id\": session_id_1}},\n",
    ")"
   ]
  },
  {
   "cell_type": "markdown",
   "metadata": {},
   "source": [
    "Stream with a character"
   ]
  },
  {
   "cell_type": "code",
   "execution_count": 33,
   "metadata": {},
   "outputs": [
    {
     "name": "stdout",
     "output_type": "stream",
     "text": [
      "Common| ways| of| task| decomposition| include| using| simple| prompts| like| \"|Steps| for| XYZ|\"| or| \"|What| are| the| sub|go|als| for| achieving| XYZ|?\",| applying| task|-specific| instructions| such| as| \"|Write| a| story| outline|,\"| and| incorporating| human| inputs| for| additional| guidance|.| These| methods| help| break| down| complex| tasks| into| smaller|,| more| manageable| steps|.|"
     ]
    }
   ],
   "source": [
    "for chunk in stream:\n",
    "    if answer_chunk := chunk.get(\"answer\"):\n",
    "        print(f\"{answer_chunk}|\", end=\"\")"
   ]
  },
  {
   "cell_type": "markdown",
   "metadata": {},
   "source": [
    "Stream without a character"
   ]
  },
  {
   "cell_type": "code",
   "execution_count": 34,
   "metadata": {},
   "outputs": [],
   "source": [
    "stream= conversational_rag_chain.stream(\n",
    "    {\"input\": \"What are common ways of doing it?\"},\n",
    "    config={\"configurable\": {\"session_id\": session_id_1}},\n",
    ")"
   ]
  },
  {
   "cell_type": "code",
   "execution_count": 35,
   "metadata": {},
   "outputs": [
    {
     "name": "stdout",
     "output_type": "stream",
     "text": [
      "Common ways of task decomposition include using simple prompting techniques like asking for \"Steps for XYZ\" or \"What are the subgoals for achieving XYZ?\" Additionally, it can involve task-specific instructions, such as \"Write a story outline,\" or using human inputs to guide the decomposition process."
     ]
    }
   ],
   "source": [
    "for chunk in stream:\n",
    "    if answer_chunk := chunk.get(\"answer\"):\n",
    "        print(f\"{answer_chunk}\", end=\"\")"
   ]
  },
  {
   "cell_type": "markdown",
   "metadata": {},
   "source": [
    "### Stream the answer Using a .pick method\n",
    " https://python.langchain.com/v0.2/api_reference/core/runnables/langchain_core.runnables.base.Runnable.html#langchain_core.runnables.base.Runnable.pick\n",
    "More simply, we can use the .pick method to select only the desired key:\n",
    "\n"
   ]
  },
  {
   "cell_type": "code",
   "execution_count": 36,
   "metadata": {},
   "outputs": [],
   "source": [
    "stream= conversational_rag_chain.stream(\n",
    "    {\"input\": \"What are common ways of doing it?\"},\n",
    "    config={\"configurable\": {\"session_id\": session_id_1}},\n",
    ")"
   ]
  },
  {
   "cell_type": "code",
   "execution_count": 37,
   "metadata": {},
   "outputs": [],
   "source": [
    "pick_answer_chain = conversational_rag_chain.pick(\"answer\")\n"
   ]
  },
  {
   "cell_type": "code",
   "execution_count": 40,
   "metadata": {},
   "outputs": [],
   "source": [
    "stream= pick_answer_chain.stream(\n",
    "    {\"input\": \"What are common ways of doing it?\"},\n",
    "    config={\"configurable\": {\"session_id\": session_id_1}},\n",
    ")"
   ]
  },
  {
   "cell_type": "code",
   "execution_count": 41,
   "metadata": {},
   "outputs": [
    {
     "name": "stdout",
     "output_type": "stream",
     "text": [
      "Common ways of task decomposition include using simple prompts like \"Steps for XYZ\" or \"What are the subgoals for achieving XYZ?\", applying task-specific instructions, such as \"Write a story outline,\" and incorporating human inputs for guidance. These methods facilitate breaking down complex tasks into smaller, manageable parts."
     ]
    }
   ],
   "source": [
    "for chunk in stream:\n",
    "    print(f\"{chunk}\", end=\"\")"
   ]
  },
  {
   "cell_type": "code",
   "execution_count": null,
   "metadata": {},
   "outputs": [],
   "source": []
  }
 ],
 "metadata": {
  "kernelspec": {
   "display_name": "Python 3",
   "language": "python",
   "name": "python3"
  },
  "language_info": {
   "codemirror_mode": {
    "name": "ipython",
    "version": 3
   },
   "file_extension": ".py",
   "mimetype": "text/x-python",
   "name": "python",
   "nbconvert_exporter": "python",
   "pygments_lexer": "ipython3",
   "version": "3.10.0"
  }
 },
 "nbformat": 4,
 "nbformat_minor": 2
}
