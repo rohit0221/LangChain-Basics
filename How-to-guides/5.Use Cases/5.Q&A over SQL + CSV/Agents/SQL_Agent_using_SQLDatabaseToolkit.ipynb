{
 "cells": [
  {
   "cell_type": "markdown",
   "metadata": {},
   "source": [
    "# Agents\n",
    "LangChain has a SQL Agent which provides a more flexible way of interacting with SQL Databases than a chain. \n",
    "\n",
    "The main advantages of using the SQL Agent are:\n",
    "\n",
    "1. It can answer questions based on the databases' schema as well as on the databases' content (like describing a specific table).\n",
    "2. It can recover from errors by running a generated query, catching the traceback and regenerating it correctly.\n",
    "3. It can query the database as many times as needed to answer the user question.\n",
    "4. It will save tokens by only retrieving the schema from relevant tables.\n",
    "\n"
   ]
  },
  {
   "cell_type": "code",
   "execution_count": 1,
   "metadata": {},
   "outputs": [],
   "source": [
    "import os\n",
    "from dotenv import load_dotenv\n",
    "load_dotenv()\n",
    "os.environ[\"LANGCHAIN_API_KEY\"]=os.environ.get('LANGCHAIN_API_KEY')\n",
    "os.environ[\"LANGCHAIN_TRACING_V2\"]=\"true\"\n",
    "os.environ[\"LANGCHAIN_PROJECT\"]=\"Q&A_over_SQL_agent\""
   ]
  },
  {
   "cell_type": "code",
   "execution_count": 2,
   "metadata": {},
   "outputs": [
    {
     "name": "stdout",
     "output_type": "stream",
     "text": [
      "sqlite\n",
      "['Album', 'Artist', 'Customer', 'Employee', 'Genre', 'Invoice', 'InvoiceLine', 'MediaType', 'Playlist', 'PlaylistTrack', 'Track']\n"
     ]
    },
    {
     "data": {
      "text/plain": [
       "\"[(1, 'AC/DC'), (2, 'Accept'), (3, 'Aerosmith'), (4, 'Alanis Morissette'), (5, 'Alice In Chains'), (6, 'Antônio Carlos Jobim'), (7, 'Apocalyptica'), (8, 'Audioslave'), (9, 'BackBeat'), (10, 'Billy Cobham')]\""
      ]
     },
     "execution_count": 2,
     "metadata": {},
     "output_type": "execute_result"
    }
   ],
   "source": [
    "from langchain_community.utilities import SQLDatabase\n",
    "\n",
    "db = SQLDatabase.from_uri(\"sqlite:///Chinook.db\")\n",
    "print(db.dialect)\n",
    "print(db.get_usable_table_names())\n",
    "db.run(\"SELECT * FROM Artist LIMIT 10;\")"
   ]
  },
  {
   "cell_type": "code",
   "execution_count": 3,
   "metadata": {},
   "outputs": [],
   "source": [
    "from langchain_openai import ChatOpenAI\n",
    "\n",
    "llm = ChatOpenAI(model=\"gpt-4o-mini\")"
   ]
  },
  {
   "cell_type": "markdown",
   "metadata": {},
   "source": [
    "\n",
    "# Initialize the agent \n",
    "\n",
    "We'll use the SQLDatabaseToolkit to create a bunch of tools:\n",
    "\n",
    "* Create and execute queries\n",
    "* Check query syntax\n",
    "* Retrieve table descriptions\n",
    "  \n",
    "... and more"
   ]
  },
  {
   "cell_type": "code",
   "execution_count": 4,
   "metadata": {},
   "outputs": [
    {
     "data": {
      "text/plain": [
       "[QuerySQLDataBaseTool(description=\"Input to this tool is a detailed and correct SQL query, output is a result from the database. If the query is not correct, an error message will be returned. If an error is returned, rewrite the query, check the query, and try again. If you encounter an issue with Unknown column 'xxxx' in 'field list', use sql_db_schema to query the correct table fields.\", db=<langchain_community.utilities.sql_database.SQLDatabase object at 0x000001E1F2AACBB0>),\n",
       " InfoSQLDatabaseTool(description='Input to this tool is a comma-separated list of tables, output is the schema and sample rows for those tables. Be sure that the tables actually exist by calling sql_db_list_tables first! Example Input: table1, table2, table3', db=<langchain_community.utilities.sql_database.SQLDatabase object at 0x000001E1F2AACBB0>),\n",
       " ListSQLDatabaseTool(db=<langchain_community.utilities.sql_database.SQLDatabase object at 0x000001E1F2AACBB0>),\n",
       " QuerySQLCheckerTool(description='Use this tool to double check if your query is correct before executing it. Always use this tool before executing a query with sql_db_query!', db=<langchain_community.utilities.sql_database.SQLDatabase object at 0x000001E1F2AACBB0>, llm=ChatOpenAI(client=<openai.resources.chat.completions.Completions object at 0x000001E1F4DA3130>, async_client=<openai.resources.chat.completions.AsyncCompletions object at 0x000001E1F4DC8A90>, root_client=<openai.OpenAI object at 0x000001E1F0C907F0>, root_async_client=<openai.AsyncOpenAI object at 0x000001E1F4DA3160>, model_name='gpt-4o-mini', openai_api_key=SecretStr('**********'), openai_proxy=''), llm_chain=LLMChain(prompt=PromptTemplate(input_variables=['dialect', 'query'], template='\\n{query}\\nDouble check the {dialect} query above for common mistakes, including:\\n- Using NOT IN with NULL values\\n- Using UNION when UNION ALL should have been used\\n- Using BETWEEN for exclusive ranges\\n- Data type mismatch in predicates\\n- Properly quoting identifiers\\n- Using the correct number of arguments for functions\\n- Casting to the correct data type\\n- Using the proper columns for joins\\n\\nIf there are any of the above mistakes, rewrite the query. If there are no mistakes, just reproduce the original query.\\n\\nOutput the final SQL query only.\\n\\nSQL Query: '), llm=ChatOpenAI(client=<openai.resources.chat.completions.Completions object at 0x000001E1F4DA3130>, async_client=<openai.resources.chat.completions.AsyncCompletions object at 0x000001E1F4DC8A90>, root_client=<openai.OpenAI object at 0x000001E1F0C907F0>, root_async_client=<openai.AsyncOpenAI object at 0x000001E1F4DA3160>, model_name='gpt-4o-mini', openai_api_key=SecretStr('**********'), openai_proxy='')))]"
      ]
     },
     "execution_count": 4,
     "metadata": {},
     "output_type": "execute_result"
    }
   ],
   "source": [
    "from langchain_community.agent_toolkits import SQLDatabaseToolkit\n",
    "toolkit = SQLDatabaseToolkit(db=db, llm=llm)\n",
    "tools = toolkit.get_tools()\n",
    "tools"
   ]
  },
  {
   "cell_type": "markdown",
   "metadata": {},
   "source": [
    "# System Prompt\n",
    "We will also want to create a system prompt for our agent. This will consist of instructions for how to behave."
   ]
  },
  {
   "cell_type": "code",
   "execution_count": 5,
   "metadata": {},
   "outputs": [],
   "source": [
    "from langchain_core.messages import SystemMessage\n",
    "\n",
    "SQL_PREFIX = \"\"\"You are an agent designed to interact with a SQL database.\n",
    "Given an input question, create a syntactically correct SQLite query to run, then look at the results of the query and return the answer.\n",
    "Unless the user specifies a specific number of examples they wish to obtain, always limit your query to at most 5 results.\n",
    "You can order the results by a relevant column to return the most interesting examples in the database.\n",
    "Never query for all the columns from a specific table, only ask for the relevant columns given the question.\n",
    "You have access to tools for interacting with the database.\n",
    "Only use the below tools. Only use the information returned by the below tools to construct your final answer.\n",
    "You MUST double check your query before executing it. If you get an error while executing a query, rewrite the query and try again.\n",
    "\n",
    "DO NOT make any DML statements (INSERT, UPDATE, DELETE, DROP etc.) to the database.\n",
    "\n",
    "To start you should ALWAYS look at the tables in the database to see what you can query.\n",
    "Do NOT skip this step.\n",
    "Then you should query the schema of the most relevant tables.\"\"\"\n"
   ]
  },
  {
   "cell_type": "code",
   "execution_count": 6,
   "metadata": {},
   "outputs": [],
   "source": [
    "system_message = SystemMessage(content=SQL_PREFIX)"
   ]
  },
  {
   "cell_type": "markdown",
   "metadata": {},
   "source": [
    "# Initializing agent\n",
    "First, get required package LangGraph\n",
    "\n",
    "\n",
    "We will use a prebuilt LangGraph agent to build our agent\n",
    "\n"
   ]
  },
  {
   "cell_type": "code",
   "execution_count": 13,
   "metadata": {},
   "outputs": [
    {
     "name": "stderr",
     "output_type": "stream",
     "text": [
      "C:\\Users\\neural_ninja\\AppData\\Local\\Temp\\ipykernel_26292\\2704392570.py:4: LangGraphDeprecationWarning: Parameter 'messages_modifier' in function 'create_react_agent' is deprecated as of version 0.1.9 and will be removed in version 0.3.0. Use 'state_modifier' parameter instead.\n",
      "  agent_executor = create_react_agent(llm, tools, messages_modifier=system_message)\n"
     ]
    }
   ],
   "source": [
    "from langchain_core.messages import HumanMessage, AIMessage\n",
    "from langgraph.prebuilt import create_react_agent\n",
    "\n",
    "agent_executor = create_react_agent(llm, tools, messages_modifier=system_message)"
   ]
  },
  {
   "cell_type": "code",
   "execution_count": 8,
   "metadata": {},
   "outputs": [
    {
     "name": "stdout",
     "output_type": "stream",
     "text": [
      "{'agent': {'messages': [AIMessage(content='', additional_kwargs={'tool_calls': [{'id': 'call_DgYpCWoKo5VJoBdKUmbjI0FK', 'function': {'arguments': '{}', 'name': 'sql_db_list_tables'}, 'type': 'function'}], 'refusal': None}, response_metadata={'token_usage': {'completion_tokens': 12, 'prompt_tokens': 548, 'total_tokens': 560}, 'model_name': 'gpt-4o-mini-2024-07-18', 'system_fingerprint': 'fp_f33667828e', 'finish_reason': 'tool_calls', 'logprobs': None}, id='run-221047e4-8473-4540-afff-9c2167af6085-0', tool_calls=[{'name': 'sql_db_list_tables', 'args': {}, 'id': 'call_DgYpCWoKo5VJoBdKUmbjI0FK', 'type': 'tool_call'}], usage_metadata={'input_tokens': 548, 'output_tokens': 12, 'total_tokens': 560})]}}\n",
      "----\n",
      "{'tools': {'messages': [ToolMessage(content='Album, Artist, Customer, Employee, Genre, Invoice, InvoiceLine, MediaType, Playlist, PlaylistTrack, Track', name='sql_db_list_tables', tool_call_id='call_DgYpCWoKo5VJoBdKUmbjI0FK')]}}\n",
      "----\n",
      "{'agent': {'messages': [AIMessage(content='', additional_kwargs={'tool_calls': [{'id': 'call_jsMSWtIeGzvuyAkXQg49VFG4', 'function': {'arguments': '{\"table_names\": \"Customer\"}', 'name': 'sql_db_schema'}, 'type': 'function'}, {'id': 'call_5URCaLpgVvZInYblef4lAiqW', 'function': {'arguments': '{\"table_names\": \"Invoice\"}', 'name': 'sql_db_schema'}, 'type': 'function'}, {'id': 'call_Hifq31Pnw5u8BDcv3GmrABFa', 'function': {'arguments': '{\"table_names\": \"InvoiceLine\"}', 'name': 'sql_db_schema'}, 'type': 'function'}], 'refusal': None}, response_metadata={'token_usage': {'completion_tokens': 65, 'prompt_tokens': 594, 'total_tokens': 659}, 'model_name': 'gpt-4o-mini-2024-07-18', 'system_fingerprint': 'fp_f33667828e', 'finish_reason': 'tool_calls', 'logprobs': None}, id='run-7d521da6-408f-42f0-b8da-a4ddadfaa2b1-0', tool_calls=[{'name': 'sql_db_schema', 'args': {'table_names': 'Customer'}, 'id': 'call_jsMSWtIeGzvuyAkXQg49VFG4', 'type': 'tool_call'}, {'name': 'sql_db_schema', 'args': {'table_names': 'Invoice'}, 'id': 'call_5URCaLpgVvZInYblef4lAiqW', 'type': 'tool_call'}, {'name': 'sql_db_schema', 'args': {'table_names': 'InvoiceLine'}, 'id': 'call_Hifq31Pnw5u8BDcv3GmrABFa', 'type': 'tool_call'}], usage_metadata={'input_tokens': 594, 'output_tokens': 65, 'total_tokens': 659})]}}\n",
      "----\n",
      "{'tools': {'messages': [ToolMessage(content='\\nCREATE TABLE \"Customer\" (\\n\\t\"CustomerId\" INTEGER NOT NULL, \\n\\t\"FirstName\" NVARCHAR(40) NOT NULL, \\n\\t\"LastName\" NVARCHAR(20) NOT NULL, \\n\\t\"Company\" NVARCHAR(80), \\n\\t\"Address\" NVARCHAR(70), \\n\\t\"City\" NVARCHAR(40), \\n\\t\"State\" NVARCHAR(40), \\n\\t\"Country\" NVARCHAR(40), \\n\\t\"PostalCode\" NVARCHAR(10), \\n\\t\"Phone\" NVARCHAR(24), \\n\\t\"Fax\" NVARCHAR(24), \\n\\t\"Email\" NVARCHAR(60) NOT NULL, \\n\\t\"SupportRepId\" INTEGER, \\n\\tPRIMARY KEY (\"CustomerId\"), \\n\\tFOREIGN KEY(\"SupportRepId\") REFERENCES \"Employee\" (\"EmployeeId\")\\n)\\n\\n/*\\n3 rows from Customer table:\\nCustomerId\\tFirstName\\tLastName\\tCompany\\tAddress\\tCity\\tState\\tCountry\\tPostalCode\\tPhone\\tFax\\tEmail\\tSupportRepId\\n1\\tLuís\\tGonçalves\\tEmbraer - Empresa Brasileira de Aeronáutica S.A.\\tAv. Brigadeiro Faria Lima, 2170\\tSão José dos Campos\\tSP\\tBrazil\\t12227-000\\t+55 (12) 3923-5555\\t+55 (12) 3923-5566\\tluisg@embraer.com.br\\t3\\n2\\tLeonie\\tKöhler\\tNone\\tTheodor-Heuss-Straße 34\\tStuttgart\\tNone\\tGermany\\t70174\\t+49 0711 2842222\\tNone\\tleonekohler@surfeu.de\\t5\\n3\\tFrançois\\tTremblay\\tNone\\t1498 rue Bélanger\\tMontréal\\tQC\\tCanada\\tH2G 1A7\\t+1 (514) 721-4711\\tNone\\tftremblay@gmail.com\\t3\\n*/', name='sql_db_schema', tool_call_id='call_jsMSWtIeGzvuyAkXQg49VFG4'), ToolMessage(content='\\nCREATE TABLE \"Invoice\" (\\n\\t\"InvoiceId\" INTEGER NOT NULL, \\n\\t\"CustomerId\" INTEGER NOT NULL, \\n\\t\"InvoiceDate\" DATETIME NOT NULL, \\n\\t\"BillingAddress\" NVARCHAR(70), \\n\\t\"BillingCity\" NVARCHAR(40), \\n\\t\"BillingState\" NVARCHAR(40), \\n\\t\"BillingCountry\" NVARCHAR(40), \\n\\t\"BillingPostalCode\" NVARCHAR(10), \\n\\t\"Total\" NUMERIC(10, 2) NOT NULL, \\n\\tPRIMARY KEY (\"InvoiceId\"), \\n\\tFOREIGN KEY(\"CustomerId\") REFERENCES \"Customer\" (\"CustomerId\")\\n)\\n\\n/*\\n3 rows from Invoice table:\\nInvoiceId\\tCustomerId\\tInvoiceDate\\tBillingAddress\\tBillingCity\\tBillingState\\tBillingCountry\\tBillingPostalCode\\tTotal\\n1\\t2\\t2021-01-01 00:00:00\\tTheodor-Heuss-Straße 34\\tStuttgart\\tNone\\tGermany\\t70174\\t1.98\\n2\\t4\\t2021-01-02 00:00:00\\tUllevålsveien 14\\tOslo\\tNone\\tNorway\\t0171\\t3.96\\n3\\t8\\t2021-01-03 00:00:00\\tGrétrystraat 63\\tBrussels\\tNone\\tBelgium\\t1000\\t5.94\\n*/', name='sql_db_schema', tool_call_id='call_5URCaLpgVvZInYblef4lAiqW'), ToolMessage(content='\\nCREATE TABLE \"InvoiceLine\" (\\n\\t\"InvoiceLineId\" INTEGER NOT NULL, \\n\\t\"InvoiceId\" INTEGER NOT NULL, \\n\\t\"TrackId\" INTEGER NOT NULL, \\n\\t\"UnitPrice\" NUMERIC(10, 2) NOT NULL, \\n\\t\"Quantity\" INTEGER NOT NULL, \\n\\tPRIMARY KEY (\"InvoiceLineId\"), \\n\\tFOREIGN KEY(\"TrackId\") REFERENCES \"Track\" (\"TrackId\"), \\n\\tFOREIGN KEY(\"InvoiceId\") REFERENCES \"Invoice\" (\"InvoiceId\")\\n)\\n\\n/*\\n3 rows from InvoiceLine table:\\nInvoiceLineId\\tInvoiceId\\tTrackId\\tUnitPrice\\tQuantity\\n1\\t1\\t2\\t0.99\\t1\\n2\\t1\\t4\\t0.99\\t1\\n3\\t2\\t6\\t0.99\\t1\\n*/', name='sql_db_schema', tool_call_id='call_Hifq31Pnw5u8BDcv3GmrABFa')]}}\n",
      "----\n",
      "{'agent': {'messages': [AIMessage(content='', additional_kwargs={'tool_calls': [{'id': 'call_HFEUPgMMU9OfAZ4hznOFhywL', 'function': {'arguments': '{\"query\":\"SELECT c.Country, SUM(i.Total) as TotalSpent \\\\nFROM Customer c \\\\nJOIN Invoice i ON c.CustomerId = i.CustomerId \\\\nGROUP BY c.Country \\\\nORDER BY TotalSpent DESC \\\\nLIMIT 5;\"}', 'name': 'sql_db_query_checker'}, 'type': 'function'}], 'refusal': None}, response_metadata={'token_usage': {'completion_tokens': 63, 'prompt_tokens': 1659, 'total_tokens': 1722}, 'model_name': 'gpt-4o-mini-2024-07-18', 'system_fingerprint': 'fp_f905cf32a9', 'finish_reason': 'tool_calls', 'logprobs': None}, id='run-41696c2d-964d-432d-bad5-c5c5b5c348fa-0', tool_calls=[{'name': 'sql_db_query_checker', 'args': {'query': 'SELECT c.Country, SUM(i.Total) as TotalSpent \\nFROM Customer c \\nJOIN Invoice i ON c.CustomerId = i.CustomerId \\nGROUP BY c.Country \\nORDER BY TotalSpent DESC \\nLIMIT 5;'}, 'id': 'call_HFEUPgMMU9OfAZ4hznOFhywL', 'type': 'tool_call'}], usage_metadata={'input_tokens': 1659, 'output_tokens': 63, 'total_tokens': 1722})]}}\n",
      "----\n",
      "{'tools': {'messages': [ToolMessage(content='```sql\\nSELECT c.Country, SUM(i.Total) as TotalSpent \\nFROM Customer c \\nJOIN Invoice i ON c.CustomerId = i.CustomerId \\nGROUP BY c.Country \\nORDER BY TotalSpent DESC \\nLIMIT 5;\\n```', name='sql_db_query_checker', tool_call_id='call_HFEUPgMMU9OfAZ4hznOFhywL')]}}\n",
      "----\n",
      "{'agent': {'messages': [AIMessage(content='', additional_kwargs={'tool_calls': [{'id': 'call_Gi14NPD8WieDLZ8gHFrCOY0D', 'function': {'arguments': '{\"query\":\"SELECT c.Country, SUM(i.Total) as TotalSpent \\\\nFROM Customer c \\\\nJOIN Invoice i ON c.CustomerId = i.CustomerId \\\\nGROUP BY c.Country \\\\nORDER BY TotalSpent DESC \\\\nLIMIT 5;\"}', 'name': 'sql_db_query'}, 'type': 'function'}], 'refusal': None}, response_metadata={'token_usage': {'completion_tokens': 62, 'prompt_tokens': 1779, 'total_tokens': 1841}, 'model_name': 'gpt-4o-mini-2024-07-18', 'system_fingerprint': 'fp_f33667828e', 'finish_reason': 'tool_calls', 'logprobs': None}, id='run-5d16ac4c-c14d-482a-aaf8-f9bde593ec77-0', tool_calls=[{'name': 'sql_db_query', 'args': {'query': 'SELECT c.Country, SUM(i.Total) as TotalSpent \\nFROM Customer c \\nJOIN Invoice i ON c.CustomerId = i.CustomerId \\nGROUP BY c.Country \\nORDER BY TotalSpent DESC \\nLIMIT 5;'}, 'id': 'call_Gi14NPD8WieDLZ8gHFrCOY0D', 'type': 'tool_call'}], usage_metadata={'input_tokens': 1779, 'output_tokens': 62, 'total_tokens': 1841})]}}\n",
      "----\n",
      "{'tools': {'messages': [ToolMessage(content=\"[('USA', 523.06), ('Canada', 303.96), ('France', 195.1), ('Brazil', 190.1), ('Germany', 156.48)]\", name='sql_db_query', tool_call_id='call_Gi14NPD8WieDLZ8gHFrCOY0D')]}}\n",
      "----\n",
      "{'agent': {'messages': [AIMessage(content='The countries whose customers spent the most are:\\n\\n1. **USA**: $523.06\\n2. **Canada**: $303.96\\n3. **France**: $195.10\\n4. **Brazil**: $190.10\\n5. **Germany**: $156.48', additional_kwargs={'refusal': None}, response_metadata={'token_usage': {'completion_tokens': 64, 'prompt_tokens': 1891, 'total_tokens': 1955}, 'model_name': 'gpt-4o-mini-2024-07-18', 'system_fingerprint': 'fp_f33667828e', 'finish_reason': 'stop', 'logprobs': None}, id='run-fcfc3b78-507b-45fe-9c7e-9acb95ea8315-0', usage_metadata={'input_tokens': 1891, 'output_tokens': 64, 'total_tokens': 1955})]}}\n",
      "----\n"
     ]
    }
   ],
   "source": [
    "for s in agent_executor.stream(\n",
    "    {\"messages\": [HumanMessage(content=\"Which country's customers spent the most?\")]}\n",
    "):\n",
    "    print(s)\n",
    "    print(\"----\")"
   ]
  },
  {
   "cell_type": "code",
   "execution_count": 9,
   "metadata": {},
   "outputs": [
    {
     "name": "stdout",
     "output_type": "stream",
     "text": [
      "{'agent': {'messages': [AIMessage(content='', additional_kwargs={'tool_calls': [{'id': 'call_GJpSS4aovPhbLx7w7JcX3d2J', 'function': {'arguments': '{}', 'name': 'sql_db_list_tables'}, 'type': 'function'}], 'refusal': None}, response_metadata={'token_usage': {'completion_tokens': 12, 'prompt_tokens': 554, 'total_tokens': 566}, 'model_name': 'gpt-4o-mini-2024-07-18', 'system_fingerprint': 'fp_f33667828e', 'finish_reason': 'tool_calls', 'logprobs': None}, id='run-bf66cca2-a16b-445e-8cc9-6cec6445dcb6-0', tool_calls=[{'name': 'sql_db_list_tables', 'args': {}, 'id': 'call_GJpSS4aovPhbLx7w7JcX3d2J', 'type': 'tool_call'}], usage_metadata={'input_tokens': 554, 'output_tokens': 12, 'total_tokens': 566})]}}\n",
      "----\n",
      "{'tools': {'messages': [ToolMessage(content='Album, Artist, Customer, Employee, Genre, Invoice, InvoiceLine, MediaType, Playlist, PlaylistTrack, Track', name='sql_db_list_tables', tool_call_id='call_GJpSS4aovPhbLx7w7JcX3d2J')]}}\n",
      "----\n",
      "{'agent': {'messages': [AIMessage(content='', additional_kwargs={'tool_calls': [{'id': 'call_IWG6Zh9Tr4ZWSk7JNODPsz6h', 'function': {'arguments': '{\"table_names\": \"Album\"}', 'name': 'sql_db_schema'}, 'type': 'function'}, {'id': 'call_mdx7VbsCfUc6vYjqbWoJii2O', 'function': {'arguments': '{\"table_names\": \"Track\"}', 'name': 'sql_db_schema'}, 'type': 'function'}], 'refusal': None}, response_metadata={'token_usage': {'completion_tokens': 48, 'prompt_tokens': 600, 'total_tokens': 648}, 'model_name': 'gpt-4o-mini-2024-07-18', 'system_fingerprint': 'fp_f33667828e', 'finish_reason': 'tool_calls', 'logprobs': None}, id='run-689cecfb-3d3f-4d12-966f-276233d5e90d-0', tool_calls=[{'name': 'sql_db_schema', 'args': {'table_names': 'Album'}, 'id': 'call_IWG6Zh9Tr4ZWSk7JNODPsz6h', 'type': 'tool_call'}, {'name': 'sql_db_schema', 'args': {'table_names': 'Track'}, 'id': 'call_mdx7VbsCfUc6vYjqbWoJii2O', 'type': 'tool_call'}], usage_metadata={'input_tokens': 600, 'output_tokens': 48, 'total_tokens': 648})]}}\n",
      "----\n",
      "{'tools': {'messages': [ToolMessage(content='\\nCREATE TABLE \"Album\" (\\n\\t\"AlbumId\" INTEGER NOT NULL, \\n\\t\"Title\" NVARCHAR(160) NOT NULL, \\n\\t\"ArtistId\" INTEGER NOT NULL, \\n\\tPRIMARY KEY (\"AlbumId\"), \\n\\tFOREIGN KEY(\"ArtistId\") REFERENCES \"Artist\" (\"ArtistId\")\\n)\\n\\n/*\\n3 rows from Album table:\\nAlbumId\\tTitle\\tArtistId\\n1\\tFor Those About To Rock We Salute You\\t1\\n2\\tBalls to the Wall\\t2\\n3\\tRestless and Wild\\t2\\n*/', name='sql_db_schema', tool_call_id='call_IWG6Zh9Tr4ZWSk7JNODPsz6h'), ToolMessage(content='\\nCREATE TABLE \"Track\" (\\n\\t\"TrackId\" INTEGER NOT NULL, \\n\\t\"Name\" NVARCHAR(200) NOT NULL, \\n\\t\"AlbumId\" INTEGER, \\n\\t\"MediaTypeId\" INTEGER NOT NULL, \\n\\t\"GenreId\" INTEGER, \\n\\t\"Composer\" NVARCHAR(220), \\n\\t\"Milliseconds\" INTEGER NOT NULL, \\n\\t\"Bytes\" INTEGER, \\n\\t\"UnitPrice\" NUMERIC(10, 2) NOT NULL, \\n\\tPRIMARY KEY (\"TrackId\"), \\n\\tFOREIGN KEY(\"MediaTypeId\") REFERENCES \"MediaType\" (\"MediaTypeId\"), \\n\\tFOREIGN KEY(\"GenreId\") REFERENCES \"Genre\" (\"GenreId\"), \\n\\tFOREIGN KEY(\"AlbumId\") REFERENCES \"Album\" (\"AlbumId\")\\n)\\n\\n/*\\n3 rows from Track table:\\nTrackId\\tName\\tAlbumId\\tMediaTypeId\\tGenreId\\tComposer\\tMilliseconds\\tBytes\\tUnitPrice\\n1\\tFor Those About To Rock (We Salute You)\\t1\\t1\\t1\\tAngus Young, Malcolm Young, Brian Johnson\\t343719\\t11170334\\t0.99\\n2\\tBalls to the Wall\\t2\\t2\\t1\\tU. Dirkschneider, W. Hoffmann, H. Frank, P. Baltes, S. Kaufmann, G. Hoffmann\\t342562\\t5510424\\t0.99\\n3\\tFast As a Shark\\t3\\t2\\t1\\tF. Baltes, S. Kaufman, U. Dirkscneider & W. Hoffman\\t230619\\t3990994\\t0.99\\n*/', name='sql_db_schema', tool_call_id='call_mdx7VbsCfUc6vYjqbWoJii2O')]}}\n",
      "----\n",
      "{'agent': {'messages': [AIMessage(content='', additional_kwargs={'tool_calls': [{'id': 'call_l12ua7mINCTiAnlspK86gRJE', 'function': {'arguments': '{\"query\":\"SELECT COUNT(*) AS TrackCount FROM Track WHERE AlbumId = 5;\"}', 'name': 'sql_db_query_checker'}, 'type': 'function'}], 'refusal': None}, response_metadata={'token_usage': {'completion_tokens': 30, 'prompt_tokens': 1153, 'total_tokens': 1183}, 'model_name': 'gpt-4o-mini-2024-07-18', 'system_fingerprint': 'fp_9722793223', 'finish_reason': 'tool_calls', 'logprobs': None}, id='run-12acd16b-fe21-42bc-82b2-40a9fedd85fd-0', tool_calls=[{'name': 'sql_db_query_checker', 'args': {'query': 'SELECT COUNT(*) AS TrackCount FROM Track WHERE AlbumId = 5;'}, 'id': 'call_l12ua7mINCTiAnlspK86gRJE', 'type': 'tool_call'}], usage_metadata={'input_tokens': 1153, 'output_tokens': 30, 'total_tokens': 1183})]}}\n",
      "----\n",
      "{'tools': {'messages': [ToolMessage(content='```sql\\nSELECT COUNT(*) AS TrackCount FROM Track WHERE AlbumId = 5;\\n```', name='sql_db_query_checker', tool_call_id='call_l12ua7mINCTiAnlspK86gRJE')]}}\n",
      "----\n",
      "{'agent': {'messages': [AIMessage(content='', additional_kwargs={'tool_calls': [{'id': 'call_FnDOke4zBtQkczlIUJJm6gOA', 'function': {'arguments': '{\"query\":\"SELECT COUNT(*) AS TrackCount FROM Track WHERE AlbumId = 5;\"}', 'name': 'sql_db_query'}, 'type': 'function'}], 'refusal': None}, response_metadata={'token_usage': {'completion_tokens': 29, 'prompt_tokens': 1212, 'total_tokens': 1241}, 'model_name': 'gpt-4o-mini-2024-07-18', 'system_fingerprint': 'fp_f33667828e', 'finish_reason': 'tool_calls', 'logprobs': None}, id='run-f25d92b6-aaf1-4427-8fe9-50c50fef0cc8-0', tool_calls=[{'name': 'sql_db_query', 'args': {'query': 'SELECT COUNT(*) AS TrackCount FROM Track WHERE AlbumId = 5;'}, 'id': 'call_FnDOke4zBtQkczlIUJJm6gOA', 'type': 'tool_call'}], usage_metadata={'input_tokens': 1212, 'output_tokens': 29, 'total_tokens': 1241})]}}\n",
      "----\n",
      "{'tools': {'messages': [ToolMessage(content='[(15,)]', name='sql_db_query', tool_call_id='call_FnDOke4zBtQkczlIUJJm6gOA')]}}\n",
      "----\n",
      "{'agent': {'messages': [AIMessage(content='The album with ID 5 has a total of 15 tracks.', additional_kwargs={'refusal': None}, response_metadata={'token_usage': {'completion_tokens': 15, 'prompt_tokens': 1254, 'total_tokens': 1269}, 'model_name': 'gpt-4o-mini-2024-07-18', 'system_fingerprint': 'fp_f33667828e', 'finish_reason': 'stop', 'logprobs': None}, id='run-b977a11f-0160-4890-9e42-0c63cbf4ceb2-0', usage_metadata={'input_tokens': 1254, 'output_tokens': 15, 'total_tokens': 1269})]}}\n",
      "----\n"
     ]
    }
   ],
   "source": [
    "for s in agent_executor.stream(\n",
    "    {\"messages\": [HumanMessage(content=\"How many tracks are there in the album with ID 5?\")]}\n",
    "):\n",
    "    print(s)\n",
    "    print(\"----\")"
   ]
  },
  {
   "cell_type": "markdown",
   "metadata": {},
   "source": [
    "# Printing only the final output"
   ]
  },
  {
   "cell_type": "code",
   "execution_count": 20,
   "metadata": {},
   "outputs": [],
   "source": [
    "def print_final_generation(agent_executor,user_input):\n",
    "    last_agent_message = None\n",
    "\n",
    "    # Stream the output from the agent executor\n",
    "    for s in agent_executor.stream(\n",
    "        {\"messages\": [HumanMessage(content=user_input)]}\n",
    "    ):\n",
    "        # Check if the message is from the agent and contains content\n",
    "        if 'agent' in s and 'messages' in s['agent']:\n",
    "            for message in s['agent']['messages']:\n",
    "                if isinstance(message, AIMessage) and message.content:\n",
    "                    last_agent_message = message.content\n",
    "\n",
    "    # Print the last agent message\n",
    "    if last_agent_message:\n",
    "        print(last_agent_message)"
   ]
  },
  {
   "cell_type": "code",
   "execution_count": 21,
   "metadata": {},
   "outputs": [
    {
     "name": "stdout",
     "output_type": "stream",
     "text": [
      "The top 5 customers by total purchase are:\n",
      "\n",
      "1. Helena Holý - $49.62\n",
      "2. Richard Cunningham - $47.62\n",
      "3. Luis Rojas - $46.62\n",
      "4. Ladislav Kovács - $45.62\n",
      "5. Hugh O'Reilly - $45.62\n",
      "Here are the tracks that are longer than 5 minutes:\n",
      "\n",
      "1. **Occupation / Precipice** - 5286.953 seconds\n",
      "2. **Through a Looking Glass** - 5088.838 seconds\n",
      "\n",
      "(Note: The other results were below 5 minutes and thus not included.)\n",
      "Goodbye!\n"
     ]
    }
   ],
   "source": [
    "while True:\n",
    "    user_input = input(\"User: \")\n",
    "    if user_input.lower() in [\"quit\", \"exit\", \"q\"]:\n",
    "        print(\"Goodbye!\")\n",
    "        break\n",
    "    print_final_generation(agent_executor,user_input)"
   ]
  },
  {
   "cell_type": "code",
   "execution_count": null,
   "metadata": {},
   "outputs": [],
   "source": []
  },
  {
   "cell_type": "code",
   "execution_count": null,
   "metadata": {},
   "outputs": [],
   "source": []
  },
  {
   "cell_type": "code",
   "execution_count": null,
   "metadata": {},
   "outputs": [],
   "source": []
  },
  {
   "cell_type": "code",
   "execution_count": null,
   "metadata": {},
   "outputs": [],
   "source": []
  },
  {
   "cell_type": "code",
   "execution_count": null,
   "metadata": {},
   "outputs": [],
   "source": []
  },
  {
   "cell_type": "markdown",
   "metadata": {},
   "source": []
  }
 ],
 "metadata": {
  "kernelspec": {
   "display_name": "Python 3",
   "language": "python",
   "name": "python3"
  },
  "language_info": {
   "codemirror_mode": {
    "name": "ipython",
    "version": 3
   },
   "file_extension": ".py",
   "mimetype": "text/x-python",
   "name": "python",
   "nbconvert_exporter": "python",
   "pygments_lexer": "ipython3",
   "version": "3.10.0"
  }
 },
 "nbformat": 4,
 "nbformat_minor": 2
}
