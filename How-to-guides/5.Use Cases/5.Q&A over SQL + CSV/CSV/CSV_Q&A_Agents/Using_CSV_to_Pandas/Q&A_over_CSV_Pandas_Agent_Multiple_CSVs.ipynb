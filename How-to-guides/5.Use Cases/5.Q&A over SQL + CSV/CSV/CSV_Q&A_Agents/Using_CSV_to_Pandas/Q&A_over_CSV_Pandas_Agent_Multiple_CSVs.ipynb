{
 "cells": [
  {
   "cell_type": "markdown",
   "metadata": {},
   "source": [
    "# Agent\n",
    "\n",
    "For complex questions it can be helpful for an LLM to be able to iteratively execute code while maintaining the inputs and outputs of its previous executions. This is where Agents come into play. They allow an LLM to decide how many times a tool needs to be invoked and keep track of the executions it's made so far. The create_pandas_dataframe_agent is a built-in agent that makes it easy to work with dataframes:"
   ]
  },
  {
   "cell_type": "code",
   "execution_count": 1,
   "metadata": {},
   "outputs": [],
   "source": [
    "import os\n",
    "from dotenv import load_dotenv\n",
    "load_dotenv()\n",
    "os.environ[\"LANGCHAIN_API_KEY\"]=os.environ.get('LANGCHAIN_API_KEY')\n",
    "os.environ[\"LANGCHAIN_TRACING_V2\"]=\"true\"\n",
    "os.environ[\"LANGCHAIN_PROJECT\"]=\"Q&A_over_CSV\""
   ]
  },
  {
   "cell_type": "code",
   "execution_count": 2,
   "metadata": {},
   "outputs": [
    {
     "name": "stdout",
     "output_type": "stream",
     "text": [
      "(891, 12)\n",
      "['PassengerId', 'Survived', 'Pclass', 'Name', 'Sex', 'Age', 'SibSp', 'Parch', 'Ticket', 'Fare', 'Cabin', 'Embarked']\n"
     ]
    }
   ],
   "source": [
    "import pandas as pd\n",
    "\n",
    "df = pd.read_csv(\"titanic.csv\")\n",
    "print(df.shape)\n",
    "print(df.columns.tolist())"
   ]
  },
  {
   "cell_type": "code",
   "execution_count": 3,
   "metadata": {},
   "outputs": [],
   "source": [
    "from langchain_openai import ChatOpenAI\n",
    "\n",
    "llm = ChatOpenAI(model=\"gpt-4o-mini\")"
   ]
  },
  {
   "cell_type": "markdown",
   "metadata": {},
   "source": [
    "# Multiple CSVs:\n",
    "\n",
    "To handle multiple CSVs (or dataframes) we just need to pass multiple dataframes to our Python tool. Our create_pandas_dataframe_agent constructor can do this out of the box, we can pass in a list of dataframes instead of just one. If we're constructing a chain ourselves, we can do something like:"
   ]
  },
  {
   "cell_type": "code",
   "execution_count": 4,
   "metadata": {},
   "outputs": [],
   "source": [
    "df_1 = df[[\"Age\", \"Fare\"]]\n",
    "df_2 = df[[\"Fare\", \"Survived\"]]"
   ]
  },
  {
   "cell_type": "code",
   "execution_count": 5,
   "metadata": {},
   "outputs": [],
   "source": [
    "dataframes = [df_1, df_2]\n"
   ]
  },
  {
   "cell_type": "markdown",
   "metadata": {},
   "source": [
    "# Pandas\n",
    "\n",
    "Instead of SQL we can also use data analysis libraries like pandas and the code generating abilities of LLMs to interact with CSV data. Again, this approach is not fit for production use cases unless you have extensive safeguards in place. For this reason, our code-execution utilities and constructors live in the langchain-experimental package.\n",
    "\n",
    "\n",
    "\n",
    "# Agent"
   ]
  },
  {
   "cell_type": "code",
   "execution_count": 6,
   "metadata": {},
   "outputs": [
    {
     "name": "stdout",
     "output_type": "stream",
     "text": [
      "\n",
      "\n",
      "\u001b[1m> Entering new AgentExecutor chain...\u001b[0m\n",
      "\u001b[32;1m\u001b[1;3m\n",
      "Invoking: `python_repl_ast` with `{'query': \"import pandas as pd\\n\\n# Creating DataFrames from the provided data\\n# df1 containing Age and Fare\\nage_fare_data = {\\n    'Age': [22, 38, 26, 35, 35],\\n    'Fare': [7.25, 71.2833, 7.925, 53.1, 8.05]\\n}\\n\\n# df2 containing Fare and Survived\\nfare_survived_data = {\\n    'Fare': [7.25, 71.2833, 7.925, 53.1, 8.05],\\n    'Survived': [0, 1, 1, 1, 0]\\n}\\n\\ndf1 = pd.DataFrame(age_fare_data)\\ndf2 = pd.DataFrame(fare_survived_data)\\n\\n# Calculating the correlation between Age and Fare\\ncorrelation_age_fare = df1['Age'].corr(df1['Fare'])\\ncorrelation_age_fare\"}`\n",
      "\n",
      "\n",
      "\u001b[0m\u001b[36;1m\u001b[1;3m0.7304477876041438\u001b[0m\u001b[32;1m\u001b[1;3m\n",
      "Invoking: `python_repl_ast` with `{'query': \"# Calculating the correlation between Fare and Survived\\ncorrelation_fare_survived = df2['Fare'].corr(df2['Survived'])\\ncorrelation_fare_survived\"}`\n",
      "\n",
      "\n",
      "\u001b[0m\u001b[36;1m\u001b[1;3m0.6544078569907992\u001b[0m\u001b[32;1m\u001b[1;3mThe correlation between age and fare is approximately **0.730**, while the correlation between fare and survival is approximately **0.654**. \n",
      "\n",
      "This means that the correlation between age and fare is greater than the correlation between fare and survival.\u001b[0m\n",
      "\n",
      "\u001b[1m> Finished chain.\u001b[0m\n"
     ]
    },
    {
     "data": {
      "text/plain": [
       "{'input': \"What's the correlation between age and fare? is that greater than the correlation between fare and survival?\",\n",
       " 'output': 'The correlation between age and fare is approximately **0.730**, while the correlation between fare and survival is approximately **0.654**. \\n\\nThis means that the correlation between age and fare is greater than the correlation between fare and survival.'}"
      ]
     },
     "execution_count": 6,
     "metadata": {},
     "output_type": "execute_result"
    }
   ],
   "source": [
    "from langchain_experimental.agents import create_pandas_dataframe_agent\n",
    "\n",
    "agent = create_pandas_dataframe_agent(llm, dataframes, agent_type=\"openai-tools\", verbose=True)\n",
    "agent.invoke(\n",
    "    {\n",
    "        \"input\": \"What's the correlation between age and fare? is that greater than the correlation between fare and survival?\"\n",
    "    }\n",
    ")"
   ]
  },
  {
   "cell_type": "markdown",
   "metadata": {},
   "source": [
    "# Printing only the final output"
   ]
  },
  {
   "cell_type": "code",
   "execution_count": 7,
   "metadata": {},
   "outputs": [],
   "source": [
    "def print_final_generation(agent_input):\n",
    "    # Extract the final answer from the output dictionary\n",
    "    agent_output = agent.invoke({\"input\": agent_input})\n",
    "    print(agent_output.get('output', ''))\n"
   ]
  },
  {
   "cell_type": "code",
   "execution_count": 8,
   "metadata": {},
   "outputs": [
    {
     "name": "stdout",
     "output_type": "stream",
     "text": [
      "\n",
      "\n",
      "\u001b[1m> Entering new AgentExecutor chain...\u001b[0m\n",
      "\u001b[32;1m\u001b[1;3m\n",
      "Invoking: `python_repl_ast` with `{'query': \"import pandas as pd\\n\\n# Sample data for df1 and df2\\ndata1 = {'Age': [22, 38, 26, 35, 35], 'Fare': [7.25, 71.2833, 7.925, 53.1, 8.05]}\\ndata2 = {'Fare': [7.25, 71.2833, 7.925, 53.1, 8.05], 'Survived': [0, 1, 1, 1, 0]}\\n\\ndf1 = pd.DataFrame(data1)\\ndf2 = pd.DataFrame(data2)\\n\\n# Calculate correlation between Age and Fare\\ncorrelation_age_fare = df1['Age'].corr(df1['Fare'])\\ncorrelation_age_fare\"}`\n",
      "\n",
      "\n",
      "\u001b[0m\u001b[36;1m\u001b[1;3m0.7304477876041438\u001b[0m\u001b[32;1m\u001b[1;3m\n",
      "Invoking: `python_repl_ast` with `{'query': \"# Calculate correlation between Fare and Survived\\ncorrelation_fare_survived = df2['Fare'].corr(df2['Survived'])\\ncorrelation_fare_survived\"}`\n",
      "\n",
      "\n",
      "\u001b[0m\u001b[36;1m\u001b[1;3m0.6544078569907992\u001b[0m\u001b[32;1m\u001b[1;3mThe correlation between age and fare is approximately **0.73**, while the correlation between fare and survival is approximately **0.65**. \n",
      "\n",
      "Thus, the correlation between age and fare is greater than the correlation between fare and survival.\u001b[0m\n",
      "\n",
      "\u001b[1m> Finished chain.\u001b[0m\n",
      "The correlation between age and fare is approximately **0.73**, while the correlation between fare and survival is approximately **0.65**. \n",
      "\n",
      "Thus, the correlation between age and fare is greater than the correlation between fare and survival.\n",
      "Goodbye!\n"
     ]
    }
   ],
   "source": [
    "while True:\n",
    "    user_input = input(\"User: \")\n",
    "    if user_input.lower() in [\"quit\", \"exit\", \"q\"]:\n",
    "        print(\"Goodbye!\")\n",
    "        break\n",
    "    print_final_generation(user_input)\n"
   ]
  },
  {
   "cell_type": "code",
   "execution_count": null,
   "metadata": {},
   "outputs": [],
   "source": []
  }
 ],
 "metadata": {
  "kernelspec": {
   "display_name": "Python 3",
   "language": "python",
   "name": "python3"
  },
  "language_info": {
   "codemirror_mode": {
    "name": "ipython",
    "version": 3
   },
   "file_extension": ".py",
   "mimetype": "text/x-python",
   "name": "python",
   "nbconvert_exporter": "python",
   "pygments_lexer": "ipython3",
   "version": "3.10.0"
  }
 },
 "nbformat": 4,
 "nbformat_minor": 2
}
