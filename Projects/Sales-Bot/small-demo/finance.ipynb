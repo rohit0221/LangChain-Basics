{
 "cells": [
  {
   "cell_type": "code",
   "execution_count": 1,
   "metadata": {},
   "outputs": [],
   "source": [
    "from langchain.chains import LLMChain\n",
    "from langchain_core.prompts import ChatPromptTemplate\n",
    "from langchain_openai import ChatOpenAI\n",
    "from langchain_core.messages import HumanMessage, SystemMessage\n",
    "from langchain_core.output_parsers import StrOutputParser\n",
    "from langchain.output_parsers import PandasDataFrameOutputParser\n",
    "\n"
   ]
  },
  {
   "cell_type": "code",
   "execution_count": 7,
   "metadata": {},
   "outputs": [],
   "source": [
    "from langchain_core.output_parsers import JsonOutputParser\n",
    "from langchain_core.prompts import PromptTemplate\n",
    "from langchain_core.pydantic_v1 import BaseModel, Field\n",
    "from langchain_openai import ChatOpenAI\n",
    "\n",
    "model = ChatOpenAI(model=\"gpt-4o-mini\",temperature=0)"
   ]
  },
  {
   "cell_type": "code",
   "execution_count": 8,
   "metadata": {},
   "outputs": [],
   "source": [
    "class QuarterlyFinanceData(BaseModel):\n",
    "    quarter: str\n",
    "    revenue_billion_usd: float\n",
    "    net_income_billion_usd: float"
   ]
  },
  {
   "cell_type": "code",
   "execution_count": 11,
   "metadata": {},
   "outputs": [
    {
     "data": {
      "text/plain": [
       "[{'quarter': 'Q1 2001',\n",
       "  'revenue_billion_usd': 5.36,\n",
       "  'net_income_billion_usd': 0.07},\n",
       " {'quarter': 'Q2 2001',\n",
       "  'revenue_billion_usd': 5.51,\n",
       "  'net_income_billion_usd': 0.12},\n",
       " {'quarter': 'Q3 2001',\n",
       "  'revenue_billion_usd': 5.34,\n",
       "  'net_income_billion_usd': 0.06},\n",
       " {'quarter': 'Q4 2001',\n",
       "  'revenue_billion_usd': 5.36,\n",
       "  'net_income_billion_usd': 0.07},\n",
       " {'quarter': 'Q1 2002',\n",
       "  'revenue_billion_usd': 5.8,\n",
       "  'net_income_billion_usd': 0.15},\n",
       " {'quarter': 'Q2 2002',\n",
       "  'revenue_billion_usd': 6.23,\n",
       "  'net_income_billion_usd': 0.2},\n",
       " {'quarter': 'Q3 2002',\n",
       "  'revenue_billion_usd': 6.52,\n",
       "  'net_income_billion_usd': 0.25},\n",
       " {'quarter': 'Q4 2002',\n",
       "  'revenue_billion_usd': 6.78,\n",
       "  'net_income_billion_usd': 0.3}]"
      ]
     },
     "execution_count": 11,
     "metadata": {},
     "output_type": "execute_result"
    }
   ],
   "source": [
    "\n",
    "# And a query intented to prompt a language model to populate the data structure.\n",
    "query = \"Tell me the profit and revenue for apple for all quarters of 2001 and 2002.\"\n",
    "\n",
    "# Set up a parser + inject instructions into the prompt template.\n",
    "parser = JsonOutputParser(pydantic_object=QuarterlyFinanceData)\n",
    "\n",
    "prompt = PromptTemplate(\n",
    "    template=\"Answer the user query.\\n{format_instructions}\\n{query}\\n\",\n",
    "    input_variables=[\"query\"],\n",
    "    partial_variables={\"format_instructions\": parser.get_format_instructions()},\n",
    ")\n",
    "\n",
    "chain = prompt | model | parser\n"
   ]
  },
  {
   "cell_type": "code",
   "execution_count": 35,
   "metadata": {},
   "outputs": [],
   "source": [
    "result=chain.invoke({\"query\": query})"
   ]
  },
  {
   "cell_type": "code",
   "execution_count": 34,
   "metadata": {},
   "outputs": [
    {
     "data": {
      "text/plain": [
       "[{'quarter': 'Q1 2001',\n",
       "  'revenue_billion_usd': 5.36,\n",
       "  'net_income_billion_usd': 0.07},\n",
       " {'quarter': 'Q2 2001',\n",
       "  'revenue_billion_usd': 5.51,\n",
       "  'net_income_billion_usd': 0.12},\n",
       " {'quarter': 'Q3 2001',\n",
       "  'revenue_billion_usd': 5.34,\n",
       "  'net_income_billion_usd': 0.06},\n",
       " {'quarter': 'Q4 2001',\n",
       "  'revenue_billion_usd': 5.36,\n",
       "  'net_income_billion_usd': 0.07},\n",
       " {'quarter': 'Q1 2002',\n",
       "  'revenue_billion_usd': 5.75,\n",
       "  'net_income_billion_usd': 0.15},\n",
       " {'quarter': 'Q2 2002',\n",
       "  'revenue_billion_usd': 6.23,\n",
       "  'net_income_billion_usd': 0.2},\n",
       " {'quarter': 'Q3 2002',\n",
       "  'revenue_billion_usd': 6.52,\n",
       "  'net_income_billion_usd': 0.25},\n",
       " {'quarter': 'Q4 2002',\n",
       "  'revenue_billion_usd': 6.78,\n",
       "  'net_income_billion_usd': 0.3}]"
      ]
     },
     "execution_count": 34,
     "metadata": {},
     "output_type": "execute_result"
    }
   ],
   "source": [
    "result"
   ]
  },
  {
   "cell_type": "code",
   "execution_count": 36,
   "metadata": {},
   "outputs": [],
   "source": [
    "import pandas as pd\n",
    "df = pd.DataFrame(result)\n"
   ]
  },
  {
   "cell_type": "code",
   "execution_count": 37,
   "metadata": {},
   "outputs": [
    {
     "data": {
      "text/html": [
       "<div>\n",
       "<style scoped>\n",
       "    .dataframe tbody tr th:only-of-type {\n",
       "        vertical-align: middle;\n",
       "    }\n",
       "\n",
       "    .dataframe tbody tr th {\n",
       "        vertical-align: top;\n",
       "    }\n",
       "\n",
       "    .dataframe thead th {\n",
       "        text-align: right;\n",
       "    }\n",
       "</style>\n",
       "<table border=\"1\" class=\"dataframe\">\n",
       "  <thead>\n",
       "    <tr style=\"text-align: right;\">\n",
       "      <th></th>\n",
       "      <th>quarter</th>\n",
       "      <th>revenue_billion_usd</th>\n",
       "      <th>net_income_billion_usd</th>\n",
       "    </tr>\n",
       "  </thead>\n",
       "  <tbody>\n",
       "    <tr>\n",
       "      <th>0</th>\n",
       "      <td>Q1 2001</td>\n",
       "      <td>5.36</td>\n",
       "      <td>0.07</td>\n",
       "    </tr>\n",
       "    <tr>\n",
       "      <th>1</th>\n",
       "      <td>Q2 2001</td>\n",
       "      <td>5.51</td>\n",
       "      <td>0.12</td>\n",
       "    </tr>\n",
       "    <tr>\n",
       "      <th>2</th>\n",
       "      <td>Q3 2001</td>\n",
       "      <td>5.34</td>\n",
       "      <td>0.06</td>\n",
       "    </tr>\n",
       "    <tr>\n",
       "      <th>3</th>\n",
       "      <td>Q4 2001</td>\n",
       "      <td>5.36</td>\n",
       "      <td>0.07</td>\n",
       "    </tr>\n",
       "    <tr>\n",
       "      <th>4</th>\n",
       "      <td>Q1 2002</td>\n",
       "      <td>5.75</td>\n",
       "      <td>0.10</td>\n",
       "    </tr>\n",
       "    <tr>\n",
       "      <th>5</th>\n",
       "      <td>Q2 2002</td>\n",
       "      <td>6.23</td>\n",
       "      <td>0.14</td>\n",
       "    </tr>\n",
       "    <tr>\n",
       "      <th>6</th>\n",
       "      <td>Q3 2002</td>\n",
       "      <td>6.52</td>\n",
       "      <td>0.16</td>\n",
       "    </tr>\n",
       "    <tr>\n",
       "      <th>7</th>\n",
       "      <td>Q4 2002</td>\n",
       "      <td>6.66</td>\n",
       "      <td>0.18</td>\n",
       "    </tr>\n",
       "  </tbody>\n",
       "</table>\n",
       "</div>"
      ],
      "text/plain": [
       "   quarter  revenue_billion_usd  net_income_billion_usd\n",
       "0  Q1 2001                 5.36                    0.07\n",
       "1  Q2 2001                 5.51                    0.12\n",
       "2  Q3 2001                 5.34                    0.06\n",
       "3  Q4 2001                 5.36                    0.07\n",
       "4  Q1 2002                 5.75                    0.10\n",
       "5  Q2 2002                 6.23                    0.14\n",
       "6  Q3 2002                 6.52                    0.16\n",
       "7  Q4 2002                 6.66                    0.18"
      ]
     },
     "execution_count": 37,
     "metadata": {},
     "output_type": "execute_result"
    }
   ],
   "source": [
    "df"
   ]
  },
  {
   "cell_type": "code",
   "execution_count": 38,
   "metadata": {},
   "outputs": [
    {
     "name": "stdout",
     "output_type": "stream",
     "text": [
      "0    5.36\n",
      "1    5.51\n",
      "2    5.34\n",
      "3    5.36\n",
      "4    5.75\n",
      "5    6.23\n",
      "6    6.52\n",
      "7    6.66\n",
      "Name: revenue_billion_usd, dtype: float64\n"
     ]
    }
   ],
   "source": [
    "# Extracting the 'revenue_billion_usd' column\n",
    "revenue = df['revenue_billion_usd']\n",
    "print(revenue)\n"
   ]
  },
  {
   "cell_type": "code",
   "execution_count": 17,
   "metadata": {},
   "outputs": [
    {
     "name": "stdout",
     "output_type": "stream",
     "text": [
      "quarter                   Q1 2001\n",
      "revenue_billion_usd          5.36\n",
      "net_income_billion_usd       0.07\n",
      "Name: 0, dtype: object\n"
     ]
    }
   ],
   "source": [
    "# Extracting the first row\n",
    "first_row = df.iloc[0]\n",
    "print(first_row)\n"
   ]
  },
  {
   "cell_type": "code",
   "execution_count": 18,
   "metadata": {},
   "outputs": [
    {
     "name": "stdout",
     "output_type": "stream",
     "text": [
      "   quarter  revenue_billion_usd  net_income_billion_usd\n",
      "7  Q4 2002                 6.23                    0.09\n"
     ]
    }
   ],
   "source": [
    "# Filter rows where revenue is greater than 6 billion USD\n",
    "filtered_df = df[df['revenue_billion_usd'] > 6]\n",
    "print(filtered_df)\n"
   ]
  },
  {
   "cell_type": "code",
   "execution_count": 19,
   "metadata": {},
   "outputs": [
    {
     "name": "stdout",
     "output_type": "stream",
     "text": [
      "0.06\n"
     ]
    }
   ],
   "source": [
    "# Extract the 'net_income_billion_usd' for 'Q2 2002'\n",
    "net_income_q2_2002 = df.loc[df['quarter'] == 'Q2 2002', 'net_income_billion_usd'].iloc[0]\n",
    "print(net_income_q2_2002)\n"
   ]
  },
  {
   "cell_type": "code",
   "execution_count": 20,
   "metadata": {},
   "outputs": [
    {
     "name": "stdout",
     "output_type": "stream",
     "text": [
      "   quarter  revenue_billion_usd  net_income_billion_usd\n",
      "0  Q1 2001                 5.36                    0.07\n",
      "1  Q2 2001                 5.51                    0.12\n",
      "2  Q3 2001                 5.34                    0.06\n",
      "   quarter  revenue_billion_usd\n",
      "0  Q1 2001                 5.36\n",
      "1  Q2 2001                 5.51\n",
      "2  Q3 2001                 5.34\n"
     ]
    }
   ],
   "source": [
    "# Extract the first three rows\n",
    "first_three_rows = df.iloc[:3]\n",
    "print(first_three_rows)\n",
    "\n",
    "# Extract the 'quarter' and 'revenue_billion_usd' columns for the first three rows\n",
    "first_three_revenue = df.iloc[:3][['quarter', 'revenue_billion_usd']]\n",
    "print(first_three_revenue)\n"
   ]
  },
  {
   "cell_type": "code",
   "execution_count": 39,
   "metadata": {},
   "outputs": [
    {
     "name": "stdout",
     "output_type": "stream",
     "text": [
      "                           quarter  revenue_billion_usd  \\\n",
      "year                                                      \n",
      "2001  Q1 2001Q2 2001Q3 2001Q4 2001                21.57   \n",
      "2002  Q1 2002Q2 2002Q3 2002Q4 2002                25.16   \n",
      "\n",
      "      net_income_billion_usd  \n",
      "year                          \n",
      "2001                    0.32  \n",
      "2002                    0.58  \n"
     ]
    }
   ],
   "source": [
    "# Group by year (assuming the year is extracted into a separate column)\n",
    "df['year'] = df['quarter'].str[-4:]\n",
    "grouped = df.groupby('year').sum()\n",
    "print(grouped)\n",
    "\n"
   ]
  },
  {
   "cell_type": "code",
   "execution_count": 40,
   "metadata": {},
   "outputs": [
    {
     "name": "stdout",
     "output_type": "stream",
     "text": [
      "+--------+------------------------------+-----------------------+--------------------------+\n",
      "|   year | quarter                      |   revenue_billion_usd |   net_income_billion_usd |\n",
      "+========+==============================+=======================+==========================+\n",
      "|   2001 | Q1 2001Q2 2001Q3 2001Q4 2001 |                 21.57 |                     0.32 |\n",
      "+--------+------------------------------+-----------------------+--------------------------+\n",
      "|   2002 | Q1 2002Q2 2002Q3 2002Q4 2002 |                 25.16 |                     0.58 |\n",
      "+--------+------------------------------+-----------------------+--------------------------+\n"
     ]
    }
   ],
   "source": [
    "\n",
    "from tabulate import tabulate\n",
    "\n",
    "# Convert the DataFrame to a tabular format using tabulate\n",
    "print(tabulate(grouped, headers='keys', tablefmt='grid'))\n"
   ]
  },
  {
   "cell_type": "code",
   "execution_count": 41,
   "metadata": {},
   "outputs": [
    {
     "name": "stdout",
     "output_type": "stream",
     "text": [
      "       revenue_billion_usd  net_income_billion_usd\n",
      "count             8.000000                 8.00000\n",
      "mean              5.841250                 0.11250\n",
      "std               0.549635                 0.04496\n",
      "min               5.340000                 0.06000\n",
      "25%               5.360000                 0.07000\n",
      "50%               5.630000                 0.11000\n",
      "75%               6.302500                 0.14500\n",
      "max               6.660000                 0.18000\n"
     ]
    }
   ],
   "source": [
    "summary = df.describe()\n",
    "print(summary)\n"
   ]
  },
  {
   "cell_type": "code",
   "execution_count": 42,
   "metadata": {},
   "outputs": [
    {
     "name": "stdout",
     "output_type": "stream",
     "text": [
      "Mean Revenue: 5.8412500000000005 billion USD\n"
     ]
    }
   ],
   "source": [
    "# Calculate mean revenue\n",
    "mean_revenue = df['revenue_billion_usd'].mean()\n",
    "print(f\"Mean Revenue: {mean_revenue} billion USD\")\n"
   ]
  },
  {
   "cell_type": "code",
   "execution_count": 43,
   "metadata": {},
   "outputs": [
    {
     "name": "stdout",
     "output_type": "stream",
     "text": [
      "Weighted Mean Revenue: 5.990833333333334 billion USD\n"
     ]
    }
   ],
   "source": [
    "import numpy as np\n",
    "\n",
    "# Assuming we have weights for each quarter\n",
    "weights = [1, 1, 1, 1, 2, 2, 2, 2]\n",
    "\n",
    "# Calculate weighted mean for revenue\n",
    "weighted_mean_revenue = np.average(df['revenue_billion_usd'], weights=weights)\n",
    "print(f\"Weighted Mean Revenue: {weighted_mean_revenue} billion USD\")\n"
   ]
  },
  {
   "cell_type": "code",
   "execution_count": 44,
   "metadata": {},
   "outputs": [
    {
     "name": "stdout",
     "output_type": "stream",
     "text": [
      "Median Net Income: 0.11 billion USD\n"
     ]
    }
   ],
   "source": [
    "# Calculate median net income\n",
    "median_net_income = df['net_income_billion_usd'].median()\n",
    "print(f\"Median Net Income: {median_net_income} billion USD\")\n"
   ]
  },
  {
   "cell_type": "code",
   "execution_count": 45,
   "metadata": {},
   "outputs": [
    {
     "name": "stdout",
     "output_type": "stream",
     "text": [
      "                           quarter  revenue_billion_usd  \\\n",
      "year                                                      \n",
      "2001  Q1 2001Q2 2001Q3 2001Q4 2001                21.57   \n",
      "2002  Q1 2002Q2 2002Q3 2002Q4 2002                25.16   \n",
      "\n",
      "      net_income_billion_usd  \n",
      "year                          \n",
      "2001                    0.32  \n",
      "2002                    0.58  \n"
     ]
    }
   ],
   "source": [
    "import pandas as pd\n",
    "\n",
    "# Assuming you have already grouped your data by year\n",
    "df['year'] = df['quarter'].str[-4:]\n",
    "grouped = df.groupby('year').sum()\n",
    "\n",
    "# Print the grouped DataFrame in a tabular format\n",
    "print(grouped)\n"
   ]
  },
  {
   "cell_type": "code",
   "execution_count": 31,
   "metadata": {},
   "outputs": [
    {
     "name": "stdout",
     "output_type": "stream",
     "text": [
      "Collecting prettytable\n",
      "  Downloading prettytable-3.11.0-py3-none-any.whl.metadata (30 kB)\n",
      "Requirement already satisfied: wcwidth in c:\\code\\github\\langchain-basics\\venv\\lib\\site-packages (from prettytable) (0.2.13)\n",
      "Downloading prettytable-3.11.0-py3-none-any.whl (28 kB)\n",
      "Installing collected packages: prettytable\n",
      "Successfully installed prettytable-3.11.0\n"
     ]
    }
   ],
   "source": [
    "!pip install prettytable\n",
    "\n"
   ]
  },
  {
   "cell_type": "code",
   "execution_count": 29,
   "metadata": {},
   "outputs": [
    {
     "name": "stdout",
     "output_type": "stream",
     "text": [
      "+--------+------------------------------+-----------------------+--------------------------+\n",
      "|   year | quarter                      |   revenue_billion_usd |   net_income_billion_usd |\n",
      "+========+==============================+=======================+==========================+\n",
      "|   2001 | Q1 2001Q2 2001Q3 2001Q4 2001 |                 21.57 |                     0.32 |\n",
      "+--------+------------------------------+-----------------------+--------------------------+\n",
      "|   2002 | Q1 2002Q2 2002Q3 2002Q4 2002 |                 22.09 |                     0.26 |\n",
      "+--------+------------------------------+-----------------------+--------------------------+\n"
     ]
    }
   ],
   "source": [
    "from tabulate import tabulate\n",
    "\n",
    "# Convert the DataFrame to a tabular format using tabulate\n",
    "print(tabulate(grouped, headers='keys', tablefmt='grid'))\n"
   ]
  },
  {
   "cell_type": "code",
   "execution_count": 32,
   "metadata": {},
   "outputs": [
    {
     "name": "stdout",
     "output_type": "stream",
     "text": [
      "+------------------------------+---------------------+------------------------+\n",
      "|           quarter            | revenue_billion_usd | net_income_billion_usd |\n",
      "+------------------------------+---------------------+------------------------+\n",
      "| Q1 2001Q2 2001Q3 2001Q4 2001 |        21.57        |          0.32          |\n",
      "| Q1 2002Q2 2002Q3 2002Q4 2002 |        22.09        |          0.26          |\n",
      "+------------------------------+---------------------+------------------------+\n"
     ]
    }
   ],
   "source": [
    "from prettytable import PrettyTable\n",
    "\n",
    "# Create a PrettyTable object\n",
    "table = PrettyTable()\n",
    "\n",
    "# Add columns\n",
    "table.field_names = grouped.columns.tolist()\n",
    "\n",
    "# Add rows\n",
    "for row in grouped.itertuples():\n",
    "    table.add_row(row[1:])\n",
    "\n",
    "print(table)\n"
   ]
  },
  {
   "cell_type": "code",
   "execution_count": null,
   "metadata": {},
   "outputs": [],
   "source": []
  }
 ],
 "metadata": {
  "kernelspec": {
   "display_name": "Python 3",
   "language": "python",
   "name": "python3"
  },
  "language_info": {
   "codemirror_mode": {
    "name": "ipython",
    "version": 3
   },
   "file_extension": ".py",
   "mimetype": "text/x-python",
   "name": "python",
   "nbconvert_exporter": "python",
   "pygments_lexer": "ipython3",
   "version": "3.10.0"
  }
 },
 "nbformat": 4,
 "nbformat_minor": 2
}
